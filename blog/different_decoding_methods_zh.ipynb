{
  "nbformat": 4,
  "nbformat_minor": 0,
  "metadata": {
    "colab": {
      "name": "different decoding methods_zh.ipynb",
      "provenance": [],
      "collapsed_sections": [],
      "toc_visible": true,
      "include_colab_link": true
    },
    "kernelspec": {
      "name": "python3",
      "display_name": "Python 3"
    },
    "accelerator": "GPU",
    "widgets": {
      "application/vnd.jupyter.widget-state+json": {
        "08d099f97f684c4fa134af413adb25b9": {
          "model_module": "@jupyter-widgets/controls",
          "model_name": "HBoxModel",
          "model_module_version": "1.5.0",
          "state": {
            "_dom_classes": [],
            "_model_module": "@jupyter-widgets/controls",
            "_model_module_version": "1.5.0",
            "_model_name": "HBoxModel",
            "_view_count": null,
            "_view_module": "@jupyter-widgets/controls",
            "_view_module_version": "1.5.0",
            "_view_name": "HBoxView",
            "box_style": "",
            "children": [
              "IPY_MODEL_6584ced55aeb497fb2a59f38dfb188c6",
              "IPY_MODEL_ad26d584b0c84c9aba23321f3f431c80",
              "IPY_MODEL_db963f0ed3694edb9edac71c51ba6840"
            ],
            "layout": "IPY_MODEL_26ebbca406254db7b9bc2847d77cbb56"
          }
        },
        "6584ced55aeb497fb2a59f38dfb188c6": {
          "model_module": "@jupyter-widgets/controls",
          "model_name": "HTMLModel",
          "model_module_version": "1.5.0",
          "state": {
            "_dom_classes": [],
            "_model_module": "@jupyter-widgets/controls",
            "_model_module_version": "1.5.0",
            "_model_name": "HTMLModel",
            "_view_count": null,
            "_view_module": "@jupyter-widgets/controls",
            "_view_module_version": "1.5.0",
            "_view_name": "HTMLView",
            "description": "",
            "description_tooltip": null,
            "layout": "IPY_MODEL_69c6d71d4f654c7e881224fb4ca3417d",
            "placeholder": "​",
            "style": "IPY_MODEL_dd7812ccd9a545528c0dbc490f4633d7",
            "value": "Downloading: 100%"
          }
        },
        "ad26d584b0c84c9aba23321f3f431c80": {
          "model_module": "@jupyter-widgets/controls",
          "model_name": "FloatProgressModel",
          "model_module_version": "1.5.0",
          "state": {
            "_dom_classes": [],
            "_model_module": "@jupyter-widgets/controls",
            "_model_module_version": "1.5.0",
            "_model_name": "FloatProgressModel",
            "_view_count": null,
            "_view_module": "@jupyter-widgets/controls",
            "_view_module_version": "1.5.0",
            "_view_name": "ProgressView",
            "bar_style": "success",
            "description": "",
            "description_tooltip": null,
            "layout": "IPY_MODEL_d170c69078d14c96a0b0f16c87da15f9",
            "max": 1042301,
            "min": 0,
            "orientation": "horizontal",
            "style": "IPY_MODEL_6f213d4236e047cfb780103e84986a16",
            "value": 1042301
          }
        },
        "db963f0ed3694edb9edac71c51ba6840": {
          "model_module": "@jupyter-widgets/controls",
          "model_name": "HTMLModel",
          "model_module_version": "1.5.0",
          "state": {
            "_dom_classes": [],
            "_model_module": "@jupyter-widgets/controls",
            "_model_module_version": "1.5.0",
            "_model_name": "HTMLModel",
            "_view_count": null,
            "_view_module": "@jupyter-widgets/controls",
            "_view_module_version": "1.5.0",
            "_view_name": "HTMLView",
            "description": "",
            "description_tooltip": null,
            "layout": "IPY_MODEL_78ae7fbb86624b34b29e269f477e0673",
            "placeholder": "​",
            "style": "IPY_MODEL_3463f5d0dfb24c45bad95bdcca281263",
            "value": " 0.99M/0.99M [00:00&lt;00:00, 11.4MB/s]"
          }
        },
        "26ebbca406254db7b9bc2847d77cbb56": {
          "model_module": "@jupyter-widgets/base",
          "model_name": "LayoutModel",
          "model_module_version": "1.2.0",
          "state": {
            "_model_module": "@jupyter-widgets/base",
            "_model_module_version": "1.2.0",
            "_model_name": "LayoutModel",
            "_view_count": null,
            "_view_module": "@jupyter-widgets/base",
            "_view_module_version": "1.2.0",
            "_view_name": "LayoutView",
            "align_content": null,
            "align_items": null,
            "align_self": null,
            "border": null,
            "bottom": null,
            "display": null,
            "flex": null,
            "flex_flow": null,
            "grid_area": null,
            "grid_auto_columns": null,
            "grid_auto_flow": null,
            "grid_auto_rows": null,
            "grid_column": null,
            "grid_gap": null,
            "grid_row": null,
            "grid_template_areas": null,
            "grid_template_columns": null,
            "grid_template_rows": null,
            "height": null,
            "justify_content": null,
            "justify_items": null,
            "left": null,
            "margin": null,
            "max_height": null,
            "max_width": null,
            "min_height": null,
            "min_width": null,
            "object_fit": null,
            "object_position": null,
            "order": null,
            "overflow": null,
            "overflow_x": null,
            "overflow_y": null,
            "padding": null,
            "right": null,
            "top": null,
            "visibility": null,
            "width": null
          }
        },
        "69c6d71d4f654c7e881224fb4ca3417d": {
          "model_module": "@jupyter-widgets/base",
          "model_name": "LayoutModel",
          "model_module_version": "1.2.0",
          "state": {
            "_model_module": "@jupyter-widgets/base",
            "_model_module_version": "1.2.0",
            "_model_name": "LayoutModel",
            "_view_count": null,
            "_view_module": "@jupyter-widgets/base",
            "_view_module_version": "1.2.0",
            "_view_name": "LayoutView",
            "align_content": null,
            "align_items": null,
            "align_self": null,
            "border": null,
            "bottom": null,
            "display": null,
            "flex": null,
            "flex_flow": null,
            "grid_area": null,
            "grid_auto_columns": null,
            "grid_auto_flow": null,
            "grid_auto_rows": null,
            "grid_column": null,
            "grid_gap": null,
            "grid_row": null,
            "grid_template_areas": null,
            "grid_template_columns": null,
            "grid_template_rows": null,
            "height": null,
            "justify_content": null,
            "justify_items": null,
            "left": null,
            "margin": null,
            "max_height": null,
            "max_width": null,
            "min_height": null,
            "min_width": null,
            "object_fit": null,
            "object_position": null,
            "order": null,
            "overflow": null,
            "overflow_x": null,
            "overflow_y": null,
            "padding": null,
            "right": null,
            "top": null,
            "visibility": null,
            "width": null
          }
        },
        "dd7812ccd9a545528c0dbc490f4633d7": {
          "model_module": "@jupyter-widgets/controls",
          "model_name": "DescriptionStyleModel",
          "model_module_version": "1.5.0",
          "state": {
            "_model_module": "@jupyter-widgets/controls",
            "_model_module_version": "1.5.0",
            "_model_name": "DescriptionStyleModel",
            "_view_count": null,
            "_view_module": "@jupyter-widgets/base",
            "_view_module_version": "1.2.0",
            "_view_name": "StyleView",
            "description_width": ""
          }
        },
        "d170c69078d14c96a0b0f16c87da15f9": {
          "model_module": "@jupyter-widgets/base",
          "model_name": "LayoutModel",
          "model_module_version": "1.2.0",
          "state": {
            "_model_module": "@jupyter-widgets/base",
            "_model_module_version": "1.2.0",
            "_model_name": "LayoutModel",
            "_view_count": null,
            "_view_module": "@jupyter-widgets/base",
            "_view_module_version": "1.2.0",
            "_view_name": "LayoutView",
            "align_content": null,
            "align_items": null,
            "align_self": null,
            "border": null,
            "bottom": null,
            "display": null,
            "flex": null,
            "flex_flow": null,
            "grid_area": null,
            "grid_auto_columns": null,
            "grid_auto_flow": null,
            "grid_auto_rows": null,
            "grid_column": null,
            "grid_gap": null,
            "grid_row": null,
            "grid_template_areas": null,
            "grid_template_columns": null,
            "grid_template_rows": null,
            "height": null,
            "justify_content": null,
            "justify_items": null,
            "left": null,
            "margin": null,
            "max_height": null,
            "max_width": null,
            "min_height": null,
            "min_width": null,
            "object_fit": null,
            "object_position": null,
            "order": null,
            "overflow": null,
            "overflow_x": null,
            "overflow_y": null,
            "padding": null,
            "right": null,
            "top": null,
            "visibility": null,
            "width": null
          }
        },
        "6f213d4236e047cfb780103e84986a16": {
          "model_module": "@jupyter-widgets/controls",
          "model_name": "ProgressStyleModel",
          "model_module_version": "1.5.0",
          "state": {
            "_model_module": "@jupyter-widgets/controls",
            "_model_module_version": "1.5.0",
            "_model_name": "ProgressStyleModel",
            "_view_count": null,
            "_view_module": "@jupyter-widgets/base",
            "_view_module_version": "1.2.0",
            "_view_name": "StyleView",
            "bar_color": null,
            "description_width": ""
          }
        },
        "78ae7fbb86624b34b29e269f477e0673": {
          "model_module": "@jupyter-widgets/base",
          "model_name": "LayoutModel",
          "model_module_version": "1.2.0",
          "state": {
            "_model_module": "@jupyter-widgets/base",
            "_model_module_version": "1.2.0",
            "_model_name": "LayoutModel",
            "_view_count": null,
            "_view_module": "@jupyter-widgets/base",
            "_view_module_version": "1.2.0",
            "_view_name": "LayoutView",
            "align_content": null,
            "align_items": null,
            "align_self": null,
            "border": null,
            "bottom": null,
            "display": null,
            "flex": null,
            "flex_flow": null,
            "grid_area": null,
            "grid_auto_columns": null,
            "grid_auto_flow": null,
            "grid_auto_rows": null,
            "grid_column": null,
            "grid_gap": null,
            "grid_row": null,
            "grid_template_areas": null,
            "grid_template_columns": null,
            "grid_template_rows": null,
            "height": null,
            "justify_content": null,
            "justify_items": null,
            "left": null,
            "margin": null,
            "max_height": null,
            "max_width": null,
            "min_height": null,
            "min_width": null,
            "object_fit": null,
            "object_position": null,
            "order": null,
            "overflow": null,
            "overflow_x": null,
            "overflow_y": null,
            "padding": null,
            "right": null,
            "top": null,
            "visibility": null,
            "width": null
          }
        },
        "3463f5d0dfb24c45bad95bdcca281263": {
          "model_module": "@jupyter-widgets/controls",
          "model_name": "DescriptionStyleModel",
          "model_module_version": "1.5.0",
          "state": {
            "_model_module": "@jupyter-widgets/controls",
            "_model_module_version": "1.5.0",
            "_model_name": "DescriptionStyleModel",
            "_view_count": null,
            "_view_module": "@jupyter-widgets/base",
            "_view_module_version": "1.2.0",
            "_view_name": "StyleView",
            "description_width": ""
          }
        },
        "c9089afcb7a34c9fa749d18e8610dae9": {
          "model_module": "@jupyter-widgets/controls",
          "model_name": "HBoxModel",
          "model_module_version": "1.5.0",
          "state": {
            "_dom_classes": [],
            "_model_module": "@jupyter-widgets/controls",
            "_model_module_version": "1.5.0",
            "_model_name": "HBoxModel",
            "_view_count": null,
            "_view_module": "@jupyter-widgets/controls",
            "_view_module_version": "1.5.0",
            "_view_name": "HBoxView",
            "box_style": "",
            "children": [
              "IPY_MODEL_236f602028d84966ae99226df7e124ee",
              "IPY_MODEL_33ce1df534c74f6ba578fd25c1db3059",
              "IPY_MODEL_ab4a506e420f40b6b2ef464d499f571b"
            ],
            "layout": "IPY_MODEL_fdc9312ca22a48b5a686cf1d0077806f"
          }
        },
        "236f602028d84966ae99226df7e124ee": {
          "model_module": "@jupyter-widgets/controls",
          "model_name": "HTMLModel",
          "model_module_version": "1.5.0",
          "state": {
            "_dom_classes": [],
            "_model_module": "@jupyter-widgets/controls",
            "_model_module_version": "1.5.0",
            "_model_name": "HTMLModel",
            "_view_count": null,
            "_view_module": "@jupyter-widgets/controls",
            "_view_module_version": "1.5.0",
            "_view_name": "HTMLView",
            "description": "",
            "description_tooltip": null,
            "layout": "IPY_MODEL_47591bb0babc48fe9f37c7eab8b78051",
            "placeholder": "​",
            "style": "IPY_MODEL_c4aec805d0b241a4aa1ab422a8d302ee",
            "value": "Downloading: 100%"
          }
        },
        "33ce1df534c74f6ba578fd25c1db3059": {
          "model_module": "@jupyter-widgets/controls",
          "model_name": "FloatProgressModel",
          "model_module_version": "1.5.0",
          "state": {
            "_dom_classes": [],
            "_model_module": "@jupyter-widgets/controls",
            "_model_module_version": "1.5.0",
            "_model_name": "FloatProgressModel",
            "_view_count": null,
            "_view_module": "@jupyter-widgets/controls",
            "_view_module_version": "1.5.0",
            "_view_name": "ProgressView",
            "bar_style": "success",
            "description": "",
            "description_tooltip": null,
            "layout": "IPY_MODEL_d2a201669b6c426082d858a4320158bc",
            "max": 456318,
            "min": 0,
            "orientation": "horizontal",
            "style": "IPY_MODEL_612deae2cd7246d9a39435893f391194",
            "value": 456318
          }
        },
        "ab4a506e420f40b6b2ef464d499f571b": {
          "model_module": "@jupyter-widgets/controls",
          "model_name": "HTMLModel",
          "model_module_version": "1.5.0",
          "state": {
            "_dom_classes": [],
            "_model_module": "@jupyter-widgets/controls",
            "_model_module_version": "1.5.0",
            "_model_name": "HTMLModel",
            "_view_count": null,
            "_view_module": "@jupyter-widgets/controls",
            "_view_module_version": "1.5.0",
            "_view_name": "HTMLView",
            "description": "",
            "description_tooltip": null,
            "layout": "IPY_MODEL_c78d230c74b542a48195bbce20e278f5",
            "placeholder": "​",
            "style": "IPY_MODEL_f31dac43cf15404a8fe4bacf236d67c3",
            "value": " 446k/446k [00:00&lt;00:00, 6.27MB/s]"
          }
        },
        "fdc9312ca22a48b5a686cf1d0077806f": {
          "model_module": "@jupyter-widgets/base",
          "model_name": "LayoutModel",
          "model_module_version": "1.2.0",
          "state": {
            "_model_module": "@jupyter-widgets/base",
            "_model_module_version": "1.2.0",
            "_model_name": "LayoutModel",
            "_view_count": null,
            "_view_module": "@jupyter-widgets/base",
            "_view_module_version": "1.2.0",
            "_view_name": "LayoutView",
            "align_content": null,
            "align_items": null,
            "align_self": null,
            "border": null,
            "bottom": null,
            "display": null,
            "flex": null,
            "flex_flow": null,
            "grid_area": null,
            "grid_auto_columns": null,
            "grid_auto_flow": null,
            "grid_auto_rows": null,
            "grid_column": null,
            "grid_gap": null,
            "grid_row": null,
            "grid_template_areas": null,
            "grid_template_columns": null,
            "grid_template_rows": null,
            "height": null,
            "justify_content": null,
            "justify_items": null,
            "left": null,
            "margin": null,
            "max_height": null,
            "max_width": null,
            "min_height": null,
            "min_width": null,
            "object_fit": null,
            "object_position": null,
            "order": null,
            "overflow": null,
            "overflow_x": null,
            "overflow_y": null,
            "padding": null,
            "right": null,
            "top": null,
            "visibility": null,
            "width": null
          }
        },
        "47591bb0babc48fe9f37c7eab8b78051": {
          "model_module": "@jupyter-widgets/base",
          "model_name": "LayoutModel",
          "model_module_version": "1.2.0",
          "state": {
            "_model_module": "@jupyter-widgets/base",
            "_model_module_version": "1.2.0",
            "_model_name": "LayoutModel",
            "_view_count": null,
            "_view_module": "@jupyter-widgets/base",
            "_view_module_version": "1.2.0",
            "_view_name": "LayoutView",
            "align_content": null,
            "align_items": null,
            "align_self": null,
            "border": null,
            "bottom": null,
            "display": null,
            "flex": null,
            "flex_flow": null,
            "grid_area": null,
            "grid_auto_columns": null,
            "grid_auto_flow": null,
            "grid_auto_rows": null,
            "grid_column": null,
            "grid_gap": null,
            "grid_row": null,
            "grid_template_areas": null,
            "grid_template_columns": null,
            "grid_template_rows": null,
            "height": null,
            "justify_content": null,
            "justify_items": null,
            "left": null,
            "margin": null,
            "max_height": null,
            "max_width": null,
            "min_height": null,
            "min_width": null,
            "object_fit": null,
            "object_position": null,
            "order": null,
            "overflow": null,
            "overflow_x": null,
            "overflow_y": null,
            "padding": null,
            "right": null,
            "top": null,
            "visibility": null,
            "width": null
          }
        },
        "c4aec805d0b241a4aa1ab422a8d302ee": {
          "model_module": "@jupyter-widgets/controls",
          "model_name": "DescriptionStyleModel",
          "model_module_version": "1.5.0",
          "state": {
            "_model_module": "@jupyter-widgets/controls",
            "_model_module_version": "1.5.0",
            "_model_name": "DescriptionStyleModel",
            "_view_count": null,
            "_view_module": "@jupyter-widgets/base",
            "_view_module_version": "1.2.0",
            "_view_name": "StyleView",
            "description_width": ""
          }
        },
        "d2a201669b6c426082d858a4320158bc": {
          "model_module": "@jupyter-widgets/base",
          "model_name": "LayoutModel",
          "model_module_version": "1.2.0",
          "state": {
            "_model_module": "@jupyter-widgets/base",
            "_model_module_version": "1.2.0",
            "_model_name": "LayoutModel",
            "_view_count": null,
            "_view_module": "@jupyter-widgets/base",
            "_view_module_version": "1.2.0",
            "_view_name": "LayoutView",
            "align_content": null,
            "align_items": null,
            "align_self": null,
            "border": null,
            "bottom": null,
            "display": null,
            "flex": null,
            "flex_flow": null,
            "grid_area": null,
            "grid_auto_columns": null,
            "grid_auto_flow": null,
            "grid_auto_rows": null,
            "grid_column": null,
            "grid_gap": null,
            "grid_row": null,
            "grid_template_areas": null,
            "grid_template_columns": null,
            "grid_template_rows": null,
            "height": null,
            "justify_content": null,
            "justify_items": null,
            "left": null,
            "margin": null,
            "max_height": null,
            "max_width": null,
            "min_height": null,
            "min_width": null,
            "object_fit": null,
            "object_position": null,
            "order": null,
            "overflow": null,
            "overflow_x": null,
            "overflow_y": null,
            "padding": null,
            "right": null,
            "top": null,
            "visibility": null,
            "width": null
          }
        },
        "612deae2cd7246d9a39435893f391194": {
          "model_module": "@jupyter-widgets/controls",
          "model_name": "ProgressStyleModel",
          "model_module_version": "1.5.0",
          "state": {
            "_model_module": "@jupyter-widgets/controls",
            "_model_module_version": "1.5.0",
            "_model_name": "ProgressStyleModel",
            "_view_count": null,
            "_view_module": "@jupyter-widgets/base",
            "_view_module_version": "1.2.0",
            "_view_name": "StyleView",
            "bar_color": null,
            "description_width": ""
          }
        },
        "c78d230c74b542a48195bbce20e278f5": {
          "model_module": "@jupyter-widgets/base",
          "model_name": "LayoutModel",
          "model_module_version": "1.2.0",
          "state": {
            "_model_module": "@jupyter-widgets/base",
            "_model_module_version": "1.2.0",
            "_model_name": "LayoutModel",
            "_view_count": null,
            "_view_module": "@jupyter-widgets/base",
            "_view_module_version": "1.2.0",
            "_view_name": "LayoutView",
            "align_content": null,
            "align_items": null,
            "align_self": null,
            "border": null,
            "bottom": null,
            "display": null,
            "flex": null,
            "flex_flow": null,
            "grid_area": null,
            "grid_auto_columns": null,
            "grid_auto_flow": null,
            "grid_auto_rows": null,
            "grid_column": null,
            "grid_gap": null,
            "grid_row": null,
            "grid_template_areas": null,
            "grid_template_columns": null,
            "grid_template_rows": null,
            "height": null,
            "justify_content": null,
            "justify_items": null,
            "left": null,
            "margin": null,
            "max_height": null,
            "max_width": null,
            "min_height": null,
            "min_width": null,
            "object_fit": null,
            "object_position": null,
            "order": null,
            "overflow": null,
            "overflow_x": null,
            "overflow_y": null,
            "padding": null,
            "right": null,
            "top": null,
            "visibility": null,
            "width": null
          }
        },
        "f31dac43cf15404a8fe4bacf236d67c3": {
          "model_module": "@jupyter-widgets/controls",
          "model_name": "DescriptionStyleModel",
          "model_module_version": "1.5.0",
          "state": {
            "_model_module": "@jupyter-widgets/controls",
            "_model_module_version": "1.5.0",
            "_model_name": "DescriptionStyleModel",
            "_view_count": null,
            "_view_module": "@jupyter-widgets/base",
            "_view_module_version": "1.2.0",
            "_view_name": "StyleView",
            "description_width": ""
          }
        },
        "286d4d27cea04fcea32f936c661bb154": {
          "model_module": "@jupyter-widgets/controls",
          "model_name": "HBoxModel",
          "model_module_version": "1.5.0",
          "state": {
            "_dom_classes": [],
            "_model_module": "@jupyter-widgets/controls",
            "_model_module_version": "1.5.0",
            "_model_name": "HBoxModel",
            "_view_count": null,
            "_view_module": "@jupyter-widgets/controls",
            "_view_module_version": "1.5.0",
            "_view_name": "HBoxView",
            "box_style": "",
            "children": [
              "IPY_MODEL_c14dab37c73a434697925f0f48f79bc2",
              "IPY_MODEL_0c4e7a6974434887909d8951322d94d3",
              "IPY_MODEL_a3de394d5e7340d2aaeefa37cb009926"
            ],
            "layout": "IPY_MODEL_5d480fd1bc834c15a682e8c0b8197631"
          }
        },
        "c14dab37c73a434697925f0f48f79bc2": {
          "model_module": "@jupyter-widgets/controls",
          "model_name": "HTMLModel",
          "model_module_version": "1.5.0",
          "state": {
            "_dom_classes": [],
            "_model_module": "@jupyter-widgets/controls",
            "_model_module_version": "1.5.0",
            "_model_name": "HTMLModel",
            "_view_count": null,
            "_view_module": "@jupyter-widgets/controls",
            "_view_module_version": "1.5.0",
            "_view_name": "HTMLView",
            "description": "",
            "description_tooltip": null,
            "layout": "IPY_MODEL_cdd210d79cfd4a60a333625b84f992ce",
            "placeholder": "​",
            "style": "IPY_MODEL_c25a5ebe2d294cee83be2fde2bc0d751",
            "value": "Downloading: 100%"
          }
        },
        "0c4e7a6974434887909d8951322d94d3": {
          "model_module": "@jupyter-widgets/controls",
          "model_name": "FloatProgressModel",
          "model_module_version": "1.5.0",
          "state": {
            "_dom_classes": [],
            "_model_module": "@jupyter-widgets/controls",
            "_model_module_version": "1.5.0",
            "_model_name": "FloatProgressModel",
            "_view_count": null,
            "_view_module": "@jupyter-widgets/controls",
            "_view_module_version": "1.5.0",
            "_view_name": "ProgressView",
            "bar_style": "success",
            "description": "",
            "description_tooltip": null,
            "layout": "IPY_MODEL_6fa80af7abd0480ca2e3321d9a1edc61",
            "max": 665,
            "min": 0,
            "orientation": "horizontal",
            "style": "IPY_MODEL_2447e551dbef4fddb62a1a134d39bdd6",
            "value": 665
          }
        },
        "a3de394d5e7340d2aaeefa37cb009926": {
          "model_module": "@jupyter-widgets/controls",
          "model_name": "HTMLModel",
          "model_module_version": "1.5.0",
          "state": {
            "_dom_classes": [],
            "_model_module": "@jupyter-widgets/controls",
            "_model_module_version": "1.5.0",
            "_model_name": "HTMLModel",
            "_view_count": null,
            "_view_module": "@jupyter-widgets/controls",
            "_view_module_version": "1.5.0",
            "_view_name": "HTMLView",
            "description": "",
            "description_tooltip": null,
            "layout": "IPY_MODEL_7a1283980ee94e988e3ba543d30753af",
            "placeholder": "​",
            "style": "IPY_MODEL_3e25857329064d66afa753f477cae3be",
            "value": " 665/665 [00:00&lt;00:00, 15.6kB/s]"
          }
        },
        "5d480fd1bc834c15a682e8c0b8197631": {
          "model_module": "@jupyter-widgets/base",
          "model_name": "LayoutModel",
          "model_module_version": "1.2.0",
          "state": {
            "_model_module": "@jupyter-widgets/base",
            "_model_module_version": "1.2.0",
            "_model_name": "LayoutModel",
            "_view_count": null,
            "_view_module": "@jupyter-widgets/base",
            "_view_module_version": "1.2.0",
            "_view_name": "LayoutView",
            "align_content": null,
            "align_items": null,
            "align_self": null,
            "border": null,
            "bottom": null,
            "display": null,
            "flex": null,
            "flex_flow": null,
            "grid_area": null,
            "grid_auto_columns": null,
            "grid_auto_flow": null,
            "grid_auto_rows": null,
            "grid_column": null,
            "grid_gap": null,
            "grid_row": null,
            "grid_template_areas": null,
            "grid_template_columns": null,
            "grid_template_rows": null,
            "height": null,
            "justify_content": null,
            "justify_items": null,
            "left": null,
            "margin": null,
            "max_height": null,
            "max_width": null,
            "min_height": null,
            "min_width": null,
            "object_fit": null,
            "object_position": null,
            "order": null,
            "overflow": null,
            "overflow_x": null,
            "overflow_y": null,
            "padding": null,
            "right": null,
            "top": null,
            "visibility": null,
            "width": null
          }
        },
        "cdd210d79cfd4a60a333625b84f992ce": {
          "model_module": "@jupyter-widgets/base",
          "model_name": "LayoutModel",
          "model_module_version": "1.2.0",
          "state": {
            "_model_module": "@jupyter-widgets/base",
            "_model_module_version": "1.2.0",
            "_model_name": "LayoutModel",
            "_view_count": null,
            "_view_module": "@jupyter-widgets/base",
            "_view_module_version": "1.2.0",
            "_view_name": "LayoutView",
            "align_content": null,
            "align_items": null,
            "align_self": null,
            "border": null,
            "bottom": null,
            "display": null,
            "flex": null,
            "flex_flow": null,
            "grid_area": null,
            "grid_auto_columns": null,
            "grid_auto_flow": null,
            "grid_auto_rows": null,
            "grid_column": null,
            "grid_gap": null,
            "grid_row": null,
            "grid_template_areas": null,
            "grid_template_columns": null,
            "grid_template_rows": null,
            "height": null,
            "justify_content": null,
            "justify_items": null,
            "left": null,
            "margin": null,
            "max_height": null,
            "max_width": null,
            "min_height": null,
            "min_width": null,
            "object_fit": null,
            "object_position": null,
            "order": null,
            "overflow": null,
            "overflow_x": null,
            "overflow_y": null,
            "padding": null,
            "right": null,
            "top": null,
            "visibility": null,
            "width": null
          }
        },
        "c25a5ebe2d294cee83be2fde2bc0d751": {
          "model_module": "@jupyter-widgets/controls",
          "model_name": "DescriptionStyleModel",
          "model_module_version": "1.5.0",
          "state": {
            "_model_module": "@jupyter-widgets/controls",
            "_model_module_version": "1.5.0",
            "_model_name": "DescriptionStyleModel",
            "_view_count": null,
            "_view_module": "@jupyter-widgets/base",
            "_view_module_version": "1.2.0",
            "_view_name": "StyleView",
            "description_width": ""
          }
        },
        "6fa80af7abd0480ca2e3321d9a1edc61": {
          "model_module": "@jupyter-widgets/base",
          "model_name": "LayoutModel",
          "model_module_version": "1.2.0",
          "state": {
            "_model_module": "@jupyter-widgets/base",
            "_model_module_version": "1.2.0",
            "_model_name": "LayoutModel",
            "_view_count": null,
            "_view_module": "@jupyter-widgets/base",
            "_view_module_version": "1.2.0",
            "_view_name": "LayoutView",
            "align_content": null,
            "align_items": null,
            "align_self": null,
            "border": null,
            "bottom": null,
            "display": null,
            "flex": null,
            "flex_flow": null,
            "grid_area": null,
            "grid_auto_columns": null,
            "grid_auto_flow": null,
            "grid_auto_rows": null,
            "grid_column": null,
            "grid_gap": null,
            "grid_row": null,
            "grid_template_areas": null,
            "grid_template_columns": null,
            "grid_template_rows": null,
            "height": null,
            "justify_content": null,
            "justify_items": null,
            "left": null,
            "margin": null,
            "max_height": null,
            "max_width": null,
            "min_height": null,
            "min_width": null,
            "object_fit": null,
            "object_position": null,
            "order": null,
            "overflow": null,
            "overflow_x": null,
            "overflow_y": null,
            "padding": null,
            "right": null,
            "top": null,
            "visibility": null,
            "width": null
          }
        },
        "2447e551dbef4fddb62a1a134d39bdd6": {
          "model_module": "@jupyter-widgets/controls",
          "model_name": "ProgressStyleModel",
          "model_module_version": "1.5.0",
          "state": {
            "_model_module": "@jupyter-widgets/controls",
            "_model_module_version": "1.5.0",
            "_model_name": "ProgressStyleModel",
            "_view_count": null,
            "_view_module": "@jupyter-widgets/base",
            "_view_module_version": "1.2.0",
            "_view_name": "StyleView",
            "bar_color": null,
            "description_width": ""
          }
        },
        "7a1283980ee94e988e3ba543d30753af": {
          "model_module": "@jupyter-widgets/base",
          "model_name": "LayoutModel",
          "model_module_version": "1.2.0",
          "state": {
            "_model_module": "@jupyter-widgets/base",
            "_model_module_version": "1.2.0",
            "_model_name": "LayoutModel",
            "_view_count": null,
            "_view_module": "@jupyter-widgets/base",
            "_view_module_version": "1.2.0",
            "_view_name": "LayoutView",
            "align_content": null,
            "align_items": null,
            "align_self": null,
            "border": null,
            "bottom": null,
            "display": null,
            "flex": null,
            "flex_flow": null,
            "grid_area": null,
            "grid_auto_columns": null,
            "grid_auto_flow": null,
            "grid_auto_rows": null,
            "grid_column": null,
            "grid_gap": null,
            "grid_row": null,
            "grid_template_areas": null,
            "grid_template_columns": null,
            "grid_template_rows": null,
            "height": null,
            "justify_content": null,
            "justify_items": null,
            "left": null,
            "margin": null,
            "max_height": null,
            "max_width": null,
            "min_height": null,
            "min_width": null,
            "object_fit": null,
            "object_position": null,
            "order": null,
            "overflow": null,
            "overflow_x": null,
            "overflow_y": null,
            "padding": null,
            "right": null,
            "top": null,
            "visibility": null,
            "width": null
          }
        },
        "3e25857329064d66afa753f477cae3be": {
          "model_module": "@jupyter-widgets/controls",
          "model_name": "DescriptionStyleModel",
          "model_module_version": "1.5.0",
          "state": {
            "_model_module": "@jupyter-widgets/controls",
            "_model_module_version": "1.5.0",
            "_model_name": "DescriptionStyleModel",
            "_view_count": null,
            "_view_module": "@jupyter-widgets/base",
            "_view_module_version": "1.2.0",
            "_view_name": "StyleView",
            "description_width": ""
          }
        },
        "6f6f9f6fc6394eeb8b053bff40facb8f": {
          "model_module": "@jupyter-widgets/controls",
          "model_name": "HBoxModel",
          "model_module_version": "1.5.0",
          "state": {
            "_dom_classes": [],
            "_model_module": "@jupyter-widgets/controls",
            "_model_module_version": "1.5.0",
            "_model_name": "HBoxModel",
            "_view_count": null,
            "_view_module": "@jupyter-widgets/controls",
            "_view_module_version": "1.5.0",
            "_view_name": "HBoxView",
            "box_style": "",
            "children": [
              "IPY_MODEL_f232960d77c847a59b306a60644c0f01",
              "IPY_MODEL_314301d37db14cf9a14a6d7916f46e48",
              "IPY_MODEL_a3247b59e9f84aa8a56c03684b14282f"
            ],
            "layout": "IPY_MODEL_19d9329b4d5b464ebdfc3154bd2a665e"
          }
        },
        "f232960d77c847a59b306a60644c0f01": {
          "model_module": "@jupyter-widgets/controls",
          "model_name": "HTMLModel",
          "model_module_version": "1.5.0",
          "state": {
            "_dom_classes": [],
            "_model_module": "@jupyter-widgets/controls",
            "_model_module_version": "1.5.0",
            "_model_name": "HTMLModel",
            "_view_count": null,
            "_view_module": "@jupyter-widgets/controls",
            "_view_module_version": "1.5.0",
            "_view_name": "HTMLView",
            "description": "",
            "description_tooltip": null,
            "layout": "IPY_MODEL_46c2453e863b44d196c6882a9ea87e29",
            "placeholder": "​",
            "style": "IPY_MODEL_8c2ce8de17ca46a68694047fbbcab4fe",
            "value": "Downloading: 100%"
          }
        },
        "314301d37db14cf9a14a6d7916f46e48": {
          "model_module": "@jupyter-widgets/controls",
          "model_name": "FloatProgressModel",
          "model_module_version": "1.5.0",
          "state": {
            "_dom_classes": [],
            "_model_module": "@jupyter-widgets/controls",
            "_model_module_version": "1.5.0",
            "_model_name": "FloatProgressModel",
            "_view_count": null,
            "_view_module": "@jupyter-widgets/controls",
            "_view_module_version": "1.5.0",
            "_view_name": "ProgressView",
            "bar_style": "success",
            "description": "",
            "description_tooltip": null,
            "layout": "IPY_MODEL_f0b32b45e532497d82bd023b29c93c69",
            "max": 548118077,
            "min": 0,
            "orientation": "horizontal",
            "style": "IPY_MODEL_f753f8f692ab4d8e907b7233edbf411b",
            "value": 548118077
          }
        },
        "a3247b59e9f84aa8a56c03684b14282f": {
          "model_module": "@jupyter-widgets/controls",
          "model_name": "HTMLModel",
          "model_module_version": "1.5.0",
          "state": {
            "_dom_classes": [],
            "_model_module": "@jupyter-widgets/controls",
            "_model_module_version": "1.5.0",
            "_model_name": "HTMLModel",
            "_view_count": null,
            "_view_module": "@jupyter-widgets/controls",
            "_view_module_version": "1.5.0",
            "_view_name": "HTMLView",
            "description": "",
            "description_tooltip": null,
            "layout": "IPY_MODEL_df2ae716cfa14500bf43236e3506e7bb",
            "placeholder": "​",
            "style": "IPY_MODEL_148d89725d9c4b61ab01ba8458312840",
            "value": " 523M/523M [00:17&lt;00:00, 48.0MB/s]"
          }
        },
        "19d9329b4d5b464ebdfc3154bd2a665e": {
          "model_module": "@jupyter-widgets/base",
          "model_name": "LayoutModel",
          "model_module_version": "1.2.0",
          "state": {
            "_model_module": "@jupyter-widgets/base",
            "_model_module_version": "1.2.0",
            "_model_name": "LayoutModel",
            "_view_count": null,
            "_view_module": "@jupyter-widgets/base",
            "_view_module_version": "1.2.0",
            "_view_name": "LayoutView",
            "align_content": null,
            "align_items": null,
            "align_self": null,
            "border": null,
            "bottom": null,
            "display": null,
            "flex": null,
            "flex_flow": null,
            "grid_area": null,
            "grid_auto_columns": null,
            "grid_auto_flow": null,
            "grid_auto_rows": null,
            "grid_column": null,
            "grid_gap": null,
            "grid_row": null,
            "grid_template_areas": null,
            "grid_template_columns": null,
            "grid_template_rows": null,
            "height": null,
            "justify_content": null,
            "justify_items": null,
            "left": null,
            "margin": null,
            "max_height": null,
            "max_width": null,
            "min_height": null,
            "min_width": null,
            "object_fit": null,
            "object_position": null,
            "order": null,
            "overflow": null,
            "overflow_x": null,
            "overflow_y": null,
            "padding": null,
            "right": null,
            "top": null,
            "visibility": null,
            "width": null
          }
        },
        "46c2453e863b44d196c6882a9ea87e29": {
          "model_module": "@jupyter-widgets/base",
          "model_name": "LayoutModel",
          "model_module_version": "1.2.0",
          "state": {
            "_model_module": "@jupyter-widgets/base",
            "_model_module_version": "1.2.0",
            "_model_name": "LayoutModel",
            "_view_count": null,
            "_view_module": "@jupyter-widgets/base",
            "_view_module_version": "1.2.0",
            "_view_name": "LayoutView",
            "align_content": null,
            "align_items": null,
            "align_self": null,
            "border": null,
            "bottom": null,
            "display": null,
            "flex": null,
            "flex_flow": null,
            "grid_area": null,
            "grid_auto_columns": null,
            "grid_auto_flow": null,
            "grid_auto_rows": null,
            "grid_column": null,
            "grid_gap": null,
            "grid_row": null,
            "grid_template_areas": null,
            "grid_template_columns": null,
            "grid_template_rows": null,
            "height": null,
            "justify_content": null,
            "justify_items": null,
            "left": null,
            "margin": null,
            "max_height": null,
            "max_width": null,
            "min_height": null,
            "min_width": null,
            "object_fit": null,
            "object_position": null,
            "order": null,
            "overflow": null,
            "overflow_x": null,
            "overflow_y": null,
            "padding": null,
            "right": null,
            "top": null,
            "visibility": null,
            "width": null
          }
        },
        "8c2ce8de17ca46a68694047fbbcab4fe": {
          "model_module": "@jupyter-widgets/controls",
          "model_name": "DescriptionStyleModel",
          "model_module_version": "1.5.0",
          "state": {
            "_model_module": "@jupyter-widgets/controls",
            "_model_module_version": "1.5.0",
            "_model_name": "DescriptionStyleModel",
            "_view_count": null,
            "_view_module": "@jupyter-widgets/base",
            "_view_module_version": "1.2.0",
            "_view_name": "StyleView",
            "description_width": ""
          }
        },
        "f0b32b45e532497d82bd023b29c93c69": {
          "model_module": "@jupyter-widgets/base",
          "model_name": "LayoutModel",
          "model_module_version": "1.2.0",
          "state": {
            "_model_module": "@jupyter-widgets/base",
            "_model_module_version": "1.2.0",
            "_model_name": "LayoutModel",
            "_view_count": null,
            "_view_module": "@jupyter-widgets/base",
            "_view_module_version": "1.2.0",
            "_view_name": "LayoutView",
            "align_content": null,
            "align_items": null,
            "align_self": null,
            "border": null,
            "bottom": null,
            "display": null,
            "flex": null,
            "flex_flow": null,
            "grid_area": null,
            "grid_auto_columns": null,
            "grid_auto_flow": null,
            "grid_auto_rows": null,
            "grid_column": null,
            "grid_gap": null,
            "grid_row": null,
            "grid_template_areas": null,
            "grid_template_columns": null,
            "grid_template_rows": null,
            "height": null,
            "justify_content": null,
            "justify_items": null,
            "left": null,
            "margin": null,
            "max_height": null,
            "max_width": null,
            "min_height": null,
            "min_width": null,
            "object_fit": null,
            "object_position": null,
            "order": null,
            "overflow": null,
            "overflow_x": null,
            "overflow_y": null,
            "padding": null,
            "right": null,
            "top": null,
            "visibility": null,
            "width": null
          }
        },
        "f753f8f692ab4d8e907b7233edbf411b": {
          "model_module": "@jupyter-widgets/controls",
          "model_name": "ProgressStyleModel",
          "model_module_version": "1.5.0",
          "state": {
            "_model_module": "@jupyter-widgets/controls",
            "_model_module_version": "1.5.0",
            "_model_name": "ProgressStyleModel",
            "_view_count": null,
            "_view_module": "@jupyter-widgets/base",
            "_view_module_version": "1.2.0",
            "_view_name": "StyleView",
            "bar_color": null,
            "description_width": ""
          }
        },
        "df2ae716cfa14500bf43236e3506e7bb": {
          "model_module": "@jupyter-widgets/base",
          "model_name": "LayoutModel",
          "model_module_version": "1.2.0",
          "state": {
            "_model_module": "@jupyter-widgets/base",
            "_model_module_version": "1.2.0",
            "_model_name": "LayoutModel",
            "_view_count": null,
            "_view_module": "@jupyter-widgets/base",
            "_view_module_version": "1.2.0",
            "_view_name": "LayoutView",
            "align_content": null,
            "align_items": null,
            "align_self": null,
            "border": null,
            "bottom": null,
            "display": null,
            "flex": null,
            "flex_flow": null,
            "grid_area": null,
            "grid_auto_columns": null,
            "grid_auto_flow": null,
            "grid_auto_rows": null,
            "grid_column": null,
            "grid_gap": null,
            "grid_row": null,
            "grid_template_areas": null,
            "grid_template_columns": null,
            "grid_template_rows": null,
            "height": null,
            "justify_content": null,
            "justify_items": null,
            "left": null,
            "margin": null,
            "max_height": null,
            "max_width": null,
            "min_height": null,
            "min_width": null,
            "object_fit": null,
            "object_position": null,
            "order": null,
            "overflow": null,
            "overflow_x": null,
            "overflow_y": null,
            "padding": null,
            "right": null,
            "top": null,
            "visibility": null,
            "width": null
          }
        },
        "148d89725d9c4b61ab01ba8458312840": {
          "model_module": "@jupyter-widgets/controls",
          "model_name": "DescriptionStyleModel",
          "model_module_version": "1.5.0",
          "state": {
            "_model_module": "@jupyter-widgets/controls",
            "_model_module_version": "1.5.0",
            "_model_name": "DescriptionStyleModel",
            "_view_count": null,
            "_view_module": "@jupyter-widgets/base",
            "_view_module_version": "1.2.0",
            "_view_name": "StyleView",
            "description_width": ""
          }
        }
      }
    }
  },
  "cells": [
    {
      "cell_type": "markdown",
      "metadata": {
        "id": "view-in-github",
        "colab_type": "text"
      },
      "source": [
        "<a href=\"https://colab.research.google.com/github/liuyixi520/code/blob/main/different_decoding_methods_zh.ipynb\" target=\"_parent\"><img src=\"https://colab.research.google.com/assets/colab-badge.svg\" alt=\"Open In Colab\"/></a>"
      ]
    },
    {
      "cell_type": "markdown",
      "metadata": {
        "id": "Vp3XPuaTu9jl"
      },
      "source": [
        "\n",
        "# Transformers语言模型生成文本的一些方法"
      ]
    },
    {
      "cell_type": "markdown",
      "metadata": {
        "id": "KxLvv6UaPa33"
      },
      "source": [
        "## 简介\n",
        "近年来，语言模型生成文本的功能日益火爆，其中比较有名的当属[GPT2模型](https://openai.com/blog/better-language-models/)，解码器在文本生成中扮演者愈来愈重要的角色，这篇博客主要介绍了在生成文本时采用的一些不同的解码策略，顺便对`transformers`这个框架有个大致的了解。\n",
        "\n",
        "简单来讲，解码器是一种自回归的语言模型，它所有的解码策略都是基于下面这个概率似然函数设计的：\n",
        "$$ P(w_{1:T} | W_0 ) = \\prod_{t=1}^T P(w_{t} | w_{1: t-1}, W_0) \\text{ ,with }  w_{1: 0} = \\emptyset $$\n",
        "\n",
        "其中 $W_0$ 是初始化的文本内容，T代表了要生成的文本长度，在t时刻的分词是由$P(w_{t} | w_{1: t-1}, W_{0})$这个函数来决定生成的。\n",
        "\n",
        "这篇博客主要用理论结合代码的形式演示如何使用贪婪搜索策略、束搜索策略、随机采样策略来生成文本，以及每种生成策略中生成的问题，应该如何设置超参数来生成更好的文本内容。整个搜索策略如下图所示：\n",
        "\n",
        "![Imgur](https://i.imgur.com/kZrFnhX.png)"
      ]
    },
    {
      "cell_type": "markdown",
      "metadata": {
        "id": "Si4GyYhOQMzi"
      },
      "source": [
        "## 环境准备\n",
        "- 安装transformers, torch库\n",
        "- 使用gpt2模型初始化分词器和模型"
      ]
    },
    {
      "cell_type": "code",
      "metadata": {
        "id": "XbzZ_IVTtoQe",
        "colab": {
          "base_uri": "https://localhost:8080/"
        },
        "outputId": "f7301864-dfa5-4d0f-fc6c-c226a5a52008"
      },
      "source": [
        "!pip install -q git+https://github.com/huggingface/transformers.git\n",
        "!pip install -q torch"
      ],
      "execution_count": 1,
      "outputs": [
        {
          "output_type": "stream",
          "name": "stdout",
          "text": [
            "  Installing build dependencies ... \u001b[?25l\u001b[?25hdone\n",
            "  Getting requirements to build wheel ... \u001b[?25l\u001b[?25hdone\n",
            "    Preparing wheel metadata ... \u001b[?25l\u001b[?25hdone\n",
            "\u001b[K     |████████████████████████████████| 86 kB 4.8 MB/s \n",
            "\u001b[K     |████████████████████████████████| 596 kB 53.4 MB/s \n",
            "\u001b[K     |████████████████████████████████| 6.6 MB 47.9 MB/s \n",
            "\u001b[?25h  Building wheel for transformers (PEP 517) ... \u001b[?25l\u001b[?25hdone\n"
          ]
        }
      ]
    },
    {
      "cell_type": "code",
      "metadata": {
        "id": "ue2kOQhXTAMU",
        "colab": {
          "base_uri": "https://localhost:8080/",
          "height": 145,
          "referenced_widgets": [
            "08d099f97f684c4fa134af413adb25b9",
            "6584ced55aeb497fb2a59f38dfb188c6",
            "ad26d584b0c84c9aba23321f3f431c80",
            "db963f0ed3694edb9edac71c51ba6840",
            "26ebbca406254db7b9bc2847d77cbb56",
            "69c6d71d4f654c7e881224fb4ca3417d",
            "dd7812ccd9a545528c0dbc490f4633d7",
            "d170c69078d14c96a0b0f16c87da15f9",
            "6f213d4236e047cfb780103e84986a16",
            "78ae7fbb86624b34b29e269f477e0673",
            "3463f5d0dfb24c45bad95bdcca281263",
            "c9089afcb7a34c9fa749d18e8610dae9",
            "236f602028d84966ae99226df7e124ee",
            "33ce1df534c74f6ba578fd25c1db3059",
            "ab4a506e420f40b6b2ef464d499f571b",
            "fdc9312ca22a48b5a686cf1d0077806f",
            "47591bb0babc48fe9f37c7eab8b78051",
            "c4aec805d0b241a4aa1ab422a8d302ee",
            "d2a201669b6c426082d858a4320158bc",
            "612deae2cd7246d9a39435893f391194",
            "c78d230c74b542a48195bbce20e278f5",
            "f31dac43cf15404a8fe4bacf236d67c3",
            "286d4d27cea04fcea32f936c661bb154",
            "c14dab37c73a434697925f0f48f79bc2",
            "0c4e7a6974434887909d8951322d94d3",
            "a3de394d5e7340d2aaeefa37cb009926",
            "5d480fd1bc834c15a682e8c0b8197631",
            "cdd210d79cfd4a60a333625b84f992ce",
            "c25a5ebe2d294cee83be2fde2bc0d751",
            "6fa80af7abd0480ca2e3321d9a1edc61",
            "2447e551dbef4fddb62a1a134d39bdd6",
            "7a1283980ee94e988e3ba543d30753af",
            "3e25857329064d66afa753f477cae3be",
            "6f6f9f6fc6394eeb8b053bff40facb8f",
            "f232960d77c847a59b306a60644c0f01",
            "314301d37db14cf9a14a6d7916f46e48",
            "a3247b59e9f84aa8a56c03684b14282f",
            "19d9329b4d5b464ebdfc3154bd2a665e",
            "46c2453e863b44d196c6882a9ea87e29",
            "8c2ce8de17ca46a68694047fbbcab4fe",
            "f0b32b45e532497d82bd023b29c93c69",
            "f753f8f692ab4d8e907b7233edbf411b",
            "df2ae716cfa14500bf43236e3506e7bb",
            "148d89725d9c4b61ab01ba8458312840"
          ]
        },
        "outputId": "69c10e40-7d5c-42c0-ba2d-a7579e166f2c"
      },
      "source": [
        "import torch\n",
        "from transformers import GPT2LMHeadModel, GPT2Tokenizer\n",
        "tokenizer = GPT2Tokenizer.from_pretrained(\"gpt2\")\n",
        "# add the EOS token as PAD token to avoid warnings\n",
        "model = GPT2LMHeadModel.from_pretrained(\"gpt2\", pad_token_id=tokenizer.eos_token_id)"
      ],
      "execution_count": 2,
      "outputs": [
        {
          "output_type": "display_data",
          "data": {
            "text/plain": [
              "Downloading:   0%|          | 0.00/0.99M [00:00<?, ?B/s]"
            ],
            "application/vnd.jupyter.widget-view+json": {
              "version_major": 2,
              "version_minor": 0,
              "model_id": "08d099f97f684c4fa134af413adb25b9"
            }
          },
          "metadata": {}
        },
        {
          "output_type": "display_data",
          "data": {
            "text/plain": [
              "Downloading:   0%|          | 0.00/446k [00:00<?, ?B/s]"
            ],
            "application/vnd.jupyter.widget-view+json": {
              "version_major": 2,
              "version_minor": 0,
              "model_id": "c9089afcb7a34c9fa749d18e8610dae9"
            }
          },
          "metadata": {}
        },
        {
          "output_type": "display_data",
          "data": {
            "text/plain": [
              "Downloading:   0%|          | 0.00/665 [00:00<?, ?B/s]"
            ],
            "application/vnd.jupyter.widget-view+json": {
              "version_major": 2,
              "version_minor": 0,
              "model_id": "286d4d27cea04fcea32f936c661bb154"
            }
          },
          "metadata": {}
        },
        {
          "output_type": "display_data",
          "data": {
            "text/plain": [
              "Downloading:   0%|          | 0.00/523M [00:00<?, ?B/s]"
            ],
            "application/vnd.jupyter.widget-view+json": {
              "version_major": 2,
              "version_minor": 0,
              "model_id": "6f6f9f6fc6394eeb8b053bff40facb8f"
            }
          },
          "metadata": {}
        }
      ]
    },
    {
      "cell_type": "markdown",
      "metadata": {
        "id": "a8Y7cgu9ohXP"
      },
      "source": [
        "## 贪婪搜索\n",
        "\n",
        "贪婪搜索的策略很简单，在t时刻取当前概率最大的那个单词就可以了，用下面这个公式表示: $w_t = argmax_{w}P(w | w_{1:t-1})$ 用下面这张图来说明贪婪搜索的策略：\n",
        "\n",
        "![Greedy Search](https://raw.githubusercontent.com/patrickvonplaten/scientific_images/master/greedy_search.png)\n",
        "\n",
        "初始化的文本是：`The`, 然后取当前概率最大的那个词 `nice`, 然后再取当前时刻概率最大的那个词`woman`，就这样文本就生成了：`The nice woman`，这个文本的生成概率是：0.5x0.4=0.2\n",
        "\n",
        "在下面的代码片段中，我们将使用: I enjoy walking with my cute dog.这个序列来初始化文本，使用gpt2这个模型来生成文本。"
      ]
    },
    {
      "cell_type": "code",
      "metadata": {
        "id": "OWLd_J6lXz_t",
        "outputId": "0e36216e-f5b6-4003-b2ad-34a6de02cec5",
        "colab": {
          "base_uri": "https://localhost:8080/"
        }
      },
      "source": [
        "# encode context the generation is conditioned on\n",
        "input_ids = tokenizer.encode('I enjoy walking with my cute dog', return_tensors='pt')\n",
        "\n",
        "# generate text until the output length (which includes the context length) reaches 50\n",
        "greedy_outputs = model.generate(input_ids, max_length=50, num_return_sequences=1)\n",
        "\n",
        "# num_return_sequences has to be 1, but is 2 when doing greedy search. \n",
        "# greedy search not support mutiple search\n",
        "# greedy_outputs = model.generate(input_ids, max_length=50, num_return_sequences=2)\n",
        "\n",
        "# now we have 1 output sequences\n",
        "print(\"Output:\\n\")\n",
        "for i, greedy_output in enumerate(greedy_outputs):\n",
        "  print(\"{}: {}\".format(i, tokenizer.decode(greedy_output, skip_special_tokens=True)))"
      ],
      "execution_count": 3,
      "outputs": [
        {
          "output_type": "stream",
          "name": "stdout",
          "text": [
            "Output:\n",
            "\n",
            "0: I enjoy walking with my cute dog, but I'm not sure if I'll ever be able to walk with my dog. I'm not sure if I'll ever be able to walk with my dog.\n",
            "\n",
            "I'm not sure if I'll\n"
          ]
        }
      ]
    },
    {
      "cell_type": "markdown",
      "metadata": {
        "id": "BBn1ePmJvhrl"
      },
      "source": [
        "nice! 我们完成了从0到1的过程，演示了如何使用gpt2这个模型来生成文本，但是这个生成的文本存在两个问题：\n",
        "- 文本在不停的重复: 一直在重复 `I'm not sure...`这句话\n",
        "- 不支持生成多个结果: 当在模型生成文本时将num_return_sequences参数设置大于1时，代码会报错，说greedy search不支持这个参数大于1\n",
        "> 备注：其实这两个问题都可以归结成一个问题： **生成文本时的假设空间太小**,所以下面使用束搜索、随机采样，两个策略来扩大搜索空间，来缓解这个问题。\n",
        "\n",
        "英文版的博客中有两篇论文对这两个问题的出现做了非常深的研究，对这个问题有兴趣的可以参考一下。"
      ]
    },
    {
      "cell_type": "markdown",
      "metadata": {
        "id": "g8DnXZ1WiuNd"
      },
      "source": [
        "### 束搜索\n",
        "束搜索的想法也比较简单，既然最贪心的那个结果不是最优的结果，那么我就选择最贪心的前几个结果来看看，是不是最优的结果。即在第一次搜索的时候搜索前k个路径，当k=2时，搜索路径如下图所示：\n",
        "\n",
        "![Beam search](https://raw.githubusercontent.com/patrickvonplaten/scientific_images/master/beam_search.png)\n",
        "\n",
        "如上所示：看到初始化文本The，搜索可能性最高的前两个单词：nice, dog，接下来nice寻找下面可能性最大的那个单词woman, dog寻找可能性最大的那个单词has，最后两个文本: `The nice woman`, `The dong has`。两个文本的生成概率分别是0.2, 0.36\n",
        "\n",
        "只要把参数early_stopping设置为True, num_beams设置为大于1即可。\n",
        "\n",
        "> 备注：num_beams=1时束搜索策略会退化成贪婪搜索"
      ]
    },
    {
      "cell_type": "code",
      "metadata": {
        "id": "R1R5kx30Ynej",
        "outputId": "6aca8e88-96fb-4ce2-b213-44450e7ca807",
        "colab": {
          "base_uri": "https://localhost:8080/"
        }
      },
      "source": [
        "# activate beam search and early_stopping\n",
        "beam_outputs = model.generate(\n",
        "    input_ids,  \n",
        "    max_length=50, \n",
        "    num_beams=2, \n",
        "    num_return_sequences= 2,\n",
        "    early_stopping=True\n",
        ")\n",
        "\n",
        "# now we have 1 output sequences\n",
        "print(\"Output:\\n\")\n",
        "for i, beam_output in enumerate(beam_outputs):\n",
        "  print(\"{}: {}\".format(i, tokenizer.decode(beam_output, skip_special_tokens=True)))\n",
        "  print('-'*100)"
      ],
      "execution_count": 4,
      "outputs": [
        {
          "output_type": "stream",
          "name": "stdout",
          "text": [
            "Output:\n",
            "\n",
            "0: I enjoy walking with my cute dog, but I don't think I'll ever be able to walk with my dog again.\n",
            "\n",
            "I'm not sure if I'll ever be able to walk with my dog again, but I don't think I\n",
            "----------------------------------------------------------------------------------------------------\n",
            "1: I enjoy walking with my cute dog, but I don't think I'll ever be able to walk with my dog again.\n",
            "\n",
            "I'm not sure if I'll ever be able to walk with my dog again, but I'm sure I'll\n",
            "----------------------------------------------------------------------------------------------------\n"
          ]
        }
      ]
    },
    {
      "cell_type": "markdown",
      "metadata": {
        "id": "nxsksOGDpmA0"
      },
      "source": [
        "### n-gram惩罚抑制\n",
        "Nice! 使用束搜索缓解了贪婪搜索不支持生成多个结果的问题，使搜索空间得到了一定的扩大，但是文本重复生成的问题依然没有得到环节，在束搜索的时候使用n-gram惩罚的机制来抑制重复文本的出现。\n",
        "\n",
        "具体来说将n个单词看成一个`整体`,在生成文本的时候不允许`整体`重复出现。\n",
        "\n",
        "> 备注：使用n-gram这个参数时要格外小心\n",
        "- 如果设置的过大，那么这个参数的设置将失去意义，和没有设置这个参数的效果是一样的，束搜索还是会出现生成的文本重复情况\n",
        "- 如果这个参数设置的过小，那么导致生成的文本质量会大大降低。比如说很多次本来就必须要连在一起才有意义(New York)，如果将这个参数设置为1，那么New York这个单词将只可能出现一次\n"
      ]
    },
    {
      "cell_type": "code",
      "source": [
        "# activate beam search and early_stopping\n",
        "beam_outputs = model.generate(\n",
        "    input_ids,  \n",
        "    max_length=50, \n",
        "    num_beams=2, \n",
        "    num_return_sequences= 2,\n",
        "    no_repeat_ngram_size= 2,\n",
        "    early_stopping=True\n",
        ")\n",
        "\n",
        "# now we have 1 output sequences\n",
        "print(\"Output:\\n\")\n",
        "for i, beam_output in enumerate(beam_outputs):\n",
        "  print(\"{}: {}\".format(i, tokenizer.decode(beam_output, skip_special_tokens=True)))\n",
        "  print('-'*100)"
      ],
      "metadata": {
        "colab": {
          "base_uri": "https://localhost:8080/"
        },
        "id": "qnuej4cBUhSq",
        "outputId": "346a2e0b-c479-45d6-95b0-6c0c26a95123"
      },
      "execution_count": 5,
      "outputs": [
        {
          "output_type": "stream",
          "name": "stdout",
          "text": [
            "Output:\n",
            "\n",
            "0: I enjoy walking with my cute dog, but I don't think I'll ever be able to walk with him again.\"\n",
            "\n",
            "\"I'm not sure if you're right about that,\" she said. \"But I'm sure you'll be fine\n",
            "----------------------------------------------------------------------------------------------------\n",
            "1: I enjoy walking with my cute dog, but I don't think I'll ever be able to walk with him again.\"\n",
            "\n",
            "\"I'm not sure if you're right about that,\" she said. \"But I'm sure you'll be happy\n",
            "----------------------------------------------------------------------------------------------------\n"
          ]
        }
      ]
    },
    {
      "cell_type": "markdown",
      "metadata": {
        "id": "XbbIyK84wHq6"
      },
      "source": [
        "## 随机采样\n",
        "随机采样的想法也非常简单，在每次生成文本的单词时，随机从假设空间中拿词，用下面这个公式来表达：\n",
        "$$w_t \\sim P(w|w_{1:t-1})$$\n",
        "\n",
        "用这个图来说明\n",
        "![vanilla_sampling](https://raw.githubusercontent.com/patrickvonplaten/scientific_images/master/sampling_search.png)\n",
        "\n",
        "如上图所示，生成文本的时候和概率没有直接的关系，随机生成文本。\n",
        "\n",
        "只要将do_sample这个参数设置为True, top_k设置为0就可以实现随机采样。"
      ]
    },
    {
      "cell_type": "code",
      "metadata": {
        "outputId": "1e0e261a-1997-4be2-9ac4-3d685fcfaa38",
        "id": "aRAz4D-Ks0_4",
        "colab": {
          "base_uri": "https://localhost:8080/"
        }
      },
      "source": [
        "# activate sampling and deactivate top_k by setting top_k sampling to 0\n",
        "sample_outputs = model.generate(\n",
        "    input_ids, \n",
        "    do_sample=True, \n",
        "    max_length=50, \n",
        "    num_return_sequences = 5,\n",
        "    top_k=0\n",
        ")\n",
        "\n",
        "print(\"Output:\\n\")\n",
        "for i,sample_output in enumerate(sample_outputs):\n",
        "  print(f'{i} : {tokenizer.decode(sample_output, skip_special_tokens=True)}') \n",
        "  print('-'*100)"
      ],
      "execution_count": 6,
      "outputs": [
        {
          "output_type": "stream",
          "name": "stdout",
          "text": [
            "Output:\n",
            "\n",
            "0 : I enjoy walking with my cute dog, but all career short trips to the gym are due to the cuddly properties. I'll try to balance the moment between my pet's pure enthusiasm to meet new people, his inexplicably high waist, and\n",
            "----------------------------------------------------------------------------------------------------\n",
            "1 : I enjoy walking with my cute dog. Loops and great bucket-holder turned parking spots in Bunbury-Somerset, on the western side of Kalkata. While parking is limited (a block or so away base campgrounds and several\n",
            "----------------------------------------------------------------------------------------------------\n",
            "2 : I enjoy walking with my cute dog in Dublin open like that,\" says transfer student Lucy Dillon.\n",
            "\n",
            "What other tolerant, tolerant British people do you fear will be cancelled if a smoothcut is headed these way?\n",
            "\n",
            "CHRIS BUELL\n",
            "----------------------------------------------------------------------------------------------------\n",
            "3 : I enjoy walking with my cute dog (teada) who loves to bark at me and I love loving to hit along anyone and if you know anything about it, I love having her in your arms. Whenever it's time to reach a goal I\n",
            "----------------------------------------------------------------------------------------------------\n",
            "4 : I enjoy walking with my cute dog in the parks and now I think he's cute too. He, a cat I was always told to get along with some of the kids, would talk to people, he was very active however so it was pointless\n",
            "----------------------------------------------------------------------------------------------------\n"
          ]
        }
      ]
    },
    {
      "cell_type": "markdown",
      "source": [
        "如上所示，使用随机采样极大的扩大假设空间，但随之也带来的问题，模型过于发散，导致生成的文本不准守基本的语法，也很难理解生成的文本所表达的语义。\n",
        "\n",
        "所以这里又要抑制假设空间的膨胀，具体来说，使用以下三个参数来抑制假设空间的膨胀：\n",
        "- temperature\n",
        "- top-k\n",
        "- top-p"
      ],
      "metadata": {
        "id": "DB5_FRdNqMc6"
      }
    },
    {
      "cell_type": "markdown",
      "metadata": {
        "id": "mQHuo911wfT-"
      },
      "source": [
        "### temperature\n",
        "这个参数可以简单的理解为模型的随意性，的取值在[0, 1]之间，设置这个参数的大小时考虑如下：\n",
        "- 这个参数设置的越大，模型的假设空间就会越大，模型就会越发散，随机采样的问题就会凸显出来。\n",
        "- 反之这个参数设置的越小，模型的假设空间就会越小，此时这个模型就会退化成贪婪采样策略。\n",
        "\n",
        "这里将这个参数设置成0.7来演示。"
      ]
    },
    {
      "cell_type": "code",
      "metadata": {
        "id": "WgJredc-0j0Z",
        "outputId": "7de9715b-a1a3-4e20-826b-135bba869407",
        "colab": {
          "base_uri": "https://localhost:8080/"
        }
      },
      "source": [
        "# activate sampling and deactivate top_k by setting top_k sampling to 0\n",
        "sample_outputs = model.generate(\n",
        "    input_ids, \n",
        "    do_sample=True, \n",
        "    max_length=50, \n",
        "    num_return_sequences = 5,\n",
        "    temperature=0.7,\n",
        "    top_k=0\n",
        ")\n",
        "\n",
        "print(\"Output:\\n\")\n",
        "for i,sample_output in enumerate(sample_outputs):\n",
        "  print(f'{i} : {tokenizer.decode(sample_output, skip_special_tokens=True)}') \n",
        "  print('-'*100)"
      ],
      "execution_count": 7,
      "outputs": [
        {
          "output_type": "stream",
          "name": "stdout",
          "text": [
            "Output:\n",
            "\n",
            "0 : I enjoy walking with my cute dog, and I love playing with my dog. I'm very proud of my dog, and I love my dog. I'm very proud of my dog. I'm very proud of my dog. I'm very proud\n",
            "----------------------------------------------------------------------------------------------------\n",
            "1 : I enjoy walking with my cute dog in the woods on the autumn mornings. Sometimes I'll go to the zoo with my friends and often I'll go out alone. So if you have any questions then you can email me at dart@realfound\n",
            "----------------------------------------------------------------------------------------------------\n",
            "2 : I enjoy walking with my cute dog, but it's a bit harder to get to a place where I feel safe and comfortable, and I usually have to walk to the wrong place, so it's more fun to come back to visit. I especially\n",
            "----------------------------------------------------------------------------------------------------\n",
            "3 : I enjoy walking with my cute dog. He likes it when I'm on my back, and I love having him on my lap. I think that's a good thing for her.\n",
            "\n",
            "What's your favorite part of the job?\n",
            "\n",
            "\n",
            "----------------------------------------------------------------------------------------------------\n",
            "4 : I enjoy walking with my cute dog, so I decided to find out what the best place to find out about him was. I was curious to know what the true-life story of the dog was, and I saw that the dog was a fairly\n",
            "----------------------------------------------------------------------------------------------------\n"
          ]
        }
      ]
    },
    {
      "cell_type": "markdown",
      "metadata": {
        "id": "binNTroyzQBu"
      },
      "source": [
        "### top-k \n",
        "这个参数表示在生成单词的时候，考虑最多的词个数，就是在每一步生成单词的时候只选取前k个概率最高的单词，这样把那些概率很低的单词就过滤调了。取值在[1, k]之间，其中k为要考虑采样的样本个数，如下图所示k=6：\n",
        "\n",
        "![top_k_sampling](https://raw.githubusercontent.com/patrickvonplaten/scientific_images/master/top_k_sampling.png)\n",
        "\n",
        "这个参数设置的时候，做如下考虑：\n",
        "- 这个值设置的比较大那么对假设空间的抑制就会比较小，随机采样的问题就会凸显出来\n",
        "- 这个值设定的比较小，那么对假设空间的抑制就会比较强，贪婪采样的问题就会凸显出来\n",
        "\n",
        "这里将top-k设置成50来做演示"
      ]
    },
    {
      "cell_type": "code",
      "metadata": {
        "id": "HBtDOdD0wx3l",
        "outputId": "10bc9d27-cba9-4bc0-e77e-1b57e6162f3d",
        "colab": {
          "base_uri": "https://localhost:8080/"
        }
      },
      "source": [
        "# set top_k to 50\n",
        "# activate sampling and deactivate top_k by setting top_k sampling to 0\n",
        "sample_outputs = model.generate(\n",
        "    input_ids, \n",
        "    do_sample=True, \n",
        "    max_length=50, \n",
        "    num_return_sequences = 5,\n",
        "    top_k=50\n",
        ")\n",
        "\n",
        "print(\"Output:\\n\")\n",
        "for i,sample_output in enumerate(sample_outputs):\n",
        "  print(f'{i} : {tokenizer.decode(sample_output, skip_special_tokens=True)}') \n",
        "  print('-'*100)"
      ],
      "execution_count": 8,
      "outputs": [
        {
          "output_type": "stream",
          "name": "stdout",
          "text": [
            "Output:\n",
            "\n",
            "0 : I enjoy walking with my cute dog. I have him at my house and you'll want to walk his dog at home as well. It's quite different too...\n",
            "----------------------------------------------------------------------------------------------------\n",
            "1 : I enjoy walking with my cute dog, I think it's a great distraction and a great distraction to work out how we'll be able to share the same physical space,\" he says.\n",
            "\n",
            "This year, Mr. Liddell will spend the\n",
            "----------------------------------------------------------------------------------------------------\n",
            "2 : I enjoy walking with my cute dog. I hate the smell of urine on her face and I take her to the vet if it smells bad. She will be fine for a minimum of 5 hours and not so much in 5 days. It was easy\n",
            "----------------------------------------------------------------------------------------------------\n",
            "3 : I enjoy walking with my cute dog, and my dog is so sweet. I just love going to the shop, seeing cute little dogs, trying on new products, and having fun… I love spending time with my dog, seeing people's looks,\n",
            "----------------------------------------------------------------------------------------------------\n",
            "4 : I enjoy walking with my cute dog and taking care of my dog as well (although it's difficult). It's time to move on to something else. After walking for awhile, I can't find anything exciting again. You can help support me.\n",
            "----------------------------------------------------------------------------------------------------\n"
          ]
        }
      ]
    },
    {
      "cell_type": "markdown",
      "metadata": {
        "id": "ki9LAaexzV3H"
      },
      "source": [
        "### top-p\n",
        "和top-k思想一样，top-p也是一种控制假设空间的手段，只不过是基于样本的概率分布的，按照单词出现的概率由高到底排序，当概率之和大于top-p的时候，就不取后面的样本了，这样也就把一些低概率的词汇过滤调了，如下图所示：\n",
        "\n",
        "![top_p_sampling](https://github.com/patrickvonplaten/scientific_images/blob/master/top_p_sampling.png?raw=true)\n",
        "\n",
        "这个参数的设置考虑和top-k设置是一样的。\n",
        "\n",
        "在考虑选择top-k, top-p来抑制假设空间膨胀时，可以参考下面的建议：\n",
        "- 当假设空间的样本分布是离散的时候，可以多考虑使用top-k这个参数\n",
        "- 当假设空间的样本分布是连续的时候，可以多考虑使用top-p这个参数\n",
        "\n",
        "这里将top-p设置成0.95来做演示"
      ]
    },
    {
      "cell_type": "code",
      "metadata": {
        "id": "EvwIc7YAx77F",
        "outputId": "c0061e66-a4c7-4cf1-fc8b-9793105583f8",
        "colab": {
          "base_uri": "https://localhost:8080/"
        }
      },
      "source": [
        "# activate sampling and deactivate top_k by setting top_k sampling to 0\n",
        "sample_outputs = model.generate(\n",
        "    input_ids, \n",
        "    do_sample=True, \n",
        "    max_length=50, \n",
        "    num_return_sequences = 5,\n",
        "    top_p=0.95\n",
        ")\n",
        "\n",
        "print(\"Output:\\n\")\n",
        "for i,sample_output in enumerate(sample_outputs):\n",
        "  print(f'{i} : {tokenizer.decode(sample_output, skip_special_tokens=True)}') \n",
        "  print('-'*100)"
      ],
      "execution_count": 9,
      "outputs": [
        {
          "output_type": "stream",
          "name": "stdout",
          "text": [
            "Output:\n",
            "\n",
            "0 : I enjoy walking with my cute dog. You can tell that she's a complete puppy.\"\n",
            "\n",
            "A lot of people are going into this with the intention of looking cute. Maybe it's just an exercise in being a part of the big, mean\n",
            "----------------------------------------------------------------------------------------------------\n",
            "1 : I enjoy walking with my cute dog.\n",
            "\n",
            "I really like cats, especially cats with good sense of humor and a good sense of humor. I've seen a lot of cats in my life. Some were in bed and other were not. A\n",
            "----------------------------------------------------------------------------------------------------\n",
            "2 : I enjoy walking with my cute dog and playing with my little cat. So I'd say this would be ideal for your dog. The only problem with this plan is it is not as practical for your dog as it should be. Also, when you\n",
            "----------------------------------------------------------------------------------------------------\n",
            "3 : I enjoy walking with my cute dog. It is really fun to see him when you are surrounded by other dogs, and seeing how long he is on your lap. He does not care how tall he is, because I love the fact that he has\n",
            "----------------------------------------------------------------------------------------------------\n",
            "4 : I enjoy walking with my cute dog, who I love to watch every single day.\n",
            "\n",
            "I have a number of great hobbies like reading, writing, cooking, running, hiking, reading books, yoga, traveling, listening to rock music, playing\n",
            "----------------------------------------------------------------------------------------------------\n"
          ]
        }
      ]
    },
    {
      "cell_type": "markdown",
      "metadata": {
        "id": "tn-8gLaR4lat"
      },
      "source": [
        "将top-k, top-p两个参数放在一起使用示例"
      ]
    },
    {
      "cell_type": "code",
      "metadata": {
        "id": "3kY8P9VG8Gi9",
        "outputId": "8f8244b6-a161-48e6-b67a-d91868680b7d",
        "colab": {
          "base_uri": "https://localhost:8080/"
        }
      },
      "source": [
        "# set top_k = 50 and set top_p = 0.95 and num_return_sequences = 3\n",
        "sample_outputs = model.generate(\n",
        "    input_ids,\n",
        "    do_sample=True, \n",
        "    max_length=50, \n",
        "    top_k=50, \n",
        "    top_p=0.95, \n",
        "    num_return_sequences=5\n",
        ")\n",
        "\n",
        "print(\"Output:\\n\" + 100 * '-')\n",
        "for i, sample_output in enumerate(sample_outputs):\n",
        "  print(\"{}: {}\".format(i, tokenizer.decode(sample_output, skip_special_tokens=True)))"
      ],
      "execution_count": 10,
      "outputs": [
        {
          "output_type": "stream",
          "name": "stdout",
          "text": [
            "Output:\n",
            "----------------------------------------------------------------------------------------------------\n",
            "0: I enjoy walking with my cute dog,\" he told my husband.\n",
            "\n",
            "After an initial consultation with the vet, I asked if I could walk with a dog for 24 hours on an extended basis. A month after my training, he responded by walking\n",
            "1: I enjoy walking with my cute dog but sometimes if my dog has an aversion to anything and I have to give her a shake, or take a piss and not be like, \"No. I don't know what your pee is.\" She'd say\n",
            "2: I enjoy walking with my cute dog to the park every day.\n",
            "\n",
            "She's also got a little personality… which might be one reason I'm curious to see what she's like with a dog.\n",
            "3: I enjoy walking with my cute dog. He is extremely affectionate and will be fine until I find a good partner. We both love cats so we really like our cats.\n",
            "4: I enjoy walking with my cute dog.\n",
            "\n",
            "[Update (Aug. 8, 3:05 p.m.): An email has been left asking for comments by her mother and how her little dog was able to walk. She's been in counseling\n"
          ]
        }
      ]
    },
    {
      "cell_type": "markdown",
      "metadata": {
        "id": "NsWd7e98Vcs3"
      },
      "source": [
        "## 总结\n"
      ]
    },
    {
      "cell_type": "markdown",
      "source": [
        "像其它的算法一样，解码器在生成文本的时候也一种算法而已。但是要有了解了贪婪算法的基本思想，还有对transfomers解码器和编码器的基本原理有一定的了解，解码器之所以能够得到文本生成的似然函数，是因为它拿到了编码器给它的最后隐藏状态，在这个隐藏状态中包含了将要生成文本的时序信息。\n",
        "\n",
        "在最开始的时候采用最简单的搜索策略->贪心搜索，这个策略的问题在于假设空间太小，不能生成多个文本，而且生成的文本重复太严重。于是使用束搜索，随机采样这两个方法来扩充假设空间。\n",
        "\n",
        "在使用束搜索后，假设空间依然很小，文本生成重复依然严重，然后又用了n-gram惩罚重复机制再次扩大假设空间。\n",
        "\n",
        "在使用了随机采样策略之后，假设空间又被扩充的太大，所以使用temprature, top-k, top-p这三个参数来抑制假设空间的膨胀。\n",
        "\n",
        "目前比较流行的还是用temperature, top-p这两个参数来控制模型的假设空间，openai, huggingface等这些nlp领域的独角兽都喜欢用这两个参数，可能是这两个参数取值都在[0,1]之间的缘故吧。"
      ],
      "metadata": {
        "id": "Qpb-VKBAvCFB"
      }
    },
    {
      "cell_type": "markdown",
      "source": [
        "## 资源\n",
        "- [英文博客地址](https://huggingface.co/blog/how-to-generate)\n",
        "- [源码](https://github.com/liuyixi520/code/blob/main/different_decoding_methods_zh.ipynb)"
      ],
      "metadata": {
        "id": "2fYADJSRK15q"
      }
    },
    {
      "cell_type": "code",
      "source": [
        ""
      ],
      "metadata": {
        "id": "ypzbXT7bM5HT"
      },
      "execution_count": null,
      "outputs": []
    }
  ]
}