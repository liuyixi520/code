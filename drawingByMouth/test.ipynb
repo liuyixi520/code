{
 "cells": [
  {
   "cell_type": "markdown",
   "metadata": {},
   "source": [
    "# 测试音频向文本的转换"
   ]
  },
  {
   "cell_type": "markdown",
   "metadata": {},
   "source": [
    "## 音频向文本的转换\n",
    "- google, microsoft, amazon貌似都要收费，只找到了这个sphinx的框架可以免费使用"
   ]
  },
  {
   "cell_type": "code",
   "execution_count": 2,
   "metadata": {},
   "outputs": [
    {
     "name": "stdout",
     "output_type": "stream",
     "text": [
      "<class 'speech_recognition.AudioData'>\n",
      "sphinx thinks you said : books on the table\n"
     ]
    }
   ],
   "source": [
    "import speech_recognition as sr\n",
    "r = sr.Recognizer()\n",
    "\n",
    "with sr.AudioFile('./data/books.wav') as source:\n",
    "    audio = r.record(source)\n",
    "    print(type(audio))\n",
    "    try:\n",
    "        print(f'sphinx thinks you said : {r.recognize_sphinx(audio)}')\n",
    "    except sr.UnknownValueError:\n",
    "        print('sphinx could not understand audio')\n",
    "    except sr.RequestError as e:\n",
    "        print('sphinx error; {0}'.format(e))"
   ]
  },
  {
   "cell_type": "code",
   "execution_count": null,
   "metadata": {},
   "outputs": [],
   "source": []
  },
  {
   "cell_type": "code",
   "execution_count": null,
   "metadata": {},
   "outputs": [],
   "source": [
    "## google的识别\n",
    "import speech_recognition as sr\n",
    "r = sr.Recognizer()\n",
    "with sr.AudioFile('./data/books.wav') as source:\n",
    "    audio = r.record(source)\n",
    "    try:\n",
    "        print(f'google thinks you said : {r.recognize_google(audio)}')\n",
    "    except sr.UnknownValueError:\n",
    "        print('google could not understand audio')\n",
    "    except sr.RequestError as e:\n",
    "        print('google error; {0}'.format(e))"
   ]
  },
  {
   "cell_type": "markdown",
   "metadata": {},
   "source": [
    "## 麦克风语音到文本的转换"
   ]
  },
  {
   "cell_type": "code",
   "execution_count": null,
   "metadata": {},
   "outputs": [],
   "source": [
    "import speech_recognition as sr\n",
    "\n",
    "# obtain audio from the microphone\n",
    "r = sr.Recognizer()\n",
    "with sr.Microphone() as source:\n",
    "    print(\"Say something!\")\n",
    "    audio = r.listen(source, timeout=5, phrase_time_limit=5)\n",
    "    print(\"Done!\")\n",
    "\n",
    "# recognize speech using Google Speech Recognition\n",
    "try:\n",
    "    # for testing purposes, we're just using the default API key\n",
    "    # to use another API key, use `r.recognize_google(audio, key=\"GOOGLE_SPEECH_RECOGNITION_API_KEY\")`\n",
    "    # instead of `r.recognize_google(audio)`\n",
    "    print(\"Google Speech Recognition thinks you said \" + r.recognize_google(audio))\n",
    "except sr.UnknownValueError:\n",
    "    print(\"Google Speech Recognition could not understand audio\")\n",
    "except sr.RequestError as e:\n",
    "    print(\"Could not request results from Google Speech Recognition service; {0}\".format(e))\n"
   ]
  },
  {
   "cell_type": "markdown",
   "metadata": {},
   "source": [
    "## 测试翻译"
   ]
  },
  {
   "cell_type": "code",
   "execution_count": 1,
   "metadata": {},
   "outputs": [
    {
     "name": "stdout",
     "output_type": "stream",
     "text": [
      "中译英：Have you eaten?\n",
      "中译英：The books on the table.\n",
      "英译中：你吃了吗？\n"
     ]
    }
   ],
   "source": [
    "# 首先试一下微软的翻译\n",
    "from translate import Translator\n",
    "text_zh = '你吃了么？'\n",
    "text_en = 'Did you eat?'\n",
    "trans_zh2en = Translator(from_lang='zh', to_lang='en')\n",
    "trans_en2zh = Translator(from_lang='en', to_lang='zh')\n",
    "print(f'中译英：{trans_zh2en.translate(text_zh)}')\n",
    "print(f'中译英：{trans_zh2en.translate(\"桌子上的书\")}')\n",
    "print(f'英译中：{trans_en2zh.translate(text_en)}')"
   ]
  },
  {
   "cell_type": "code",
   "execution_count": null,
   "metadata": {},
   "outputs": [],
   "source": [
    "# 再试一下google的翻译\n",
    "# 走了代理，不过去，回头再来看\n",
    "from googletrans import Translator\n",
    "text_zh = '你吃了么？'\n",
    "text_en = 'Did you eat?'\n",
    "translator = Translator()\n",
    "print(f'中译英：{translator.translate(text_zh, dest=\"en\").text}')\n",
    "print(f'英译中：{translator.translate(text_en, dest=\"zh-cn\").text}')"
   ]
  },
  {
   "cell_type": "code",
   "execution_count": null,
   "metadata": {},
   "outputs": [],
   "source": []
  }
 ],
 "metadata": {
  "interpreter": {
   "hash": "e86eb7507d9fa187f688fd27120c2dc16853b9a9c0ad31a8f826f776daa4cfb5"
  },
  "kernelspec": {
   "display_name": "Python 3.8.13 ('drawingByMouth')",
   "language": "python",
   "name": "python3"
  },
  "language_info": {
   "codemirror_mode": {
    "name": "ipython",
    "version": 3
   },
   "file_extension": ".py",
   "mimetype": "text/x-python",
   "name": "python",
   "nbconvert_exporter": "python",
   "pygments_lexer": "ipython3",
   "version": "3.8.13"
  },
  "orig_nbformat": 4
 },
 "nbformat": 4,
 "nbformat_minor": 2
}
