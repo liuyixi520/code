{
 "cells": [
  {
   "cell_type": "markdown",
   "metadata": {},
   "source": [
    "# 神经网络的学习\n",
    "- 从训练数据集中获得最优参数的过程，记神经网络的反向传播过程\n",
    "- 深度学习是一种新的编程方法，摆脱了以往以人为中心的思想，所有的东西都让数据发声\n",
    "## 传统算法&机器学习&深度学习\n",
    "- 传统算法：人能想到的算法,然后编写算法规则，即把假设空间写死\n",
    "- 机器学习：人能想到的特征，提取特征向量，机器学习（SVM/KNN）\n",
    "- 深度学习：数据->答案\n",
    "- 所以也称机器学习是一种端到端的学习方式\n",
    "## 以识别手写数字为例说明三种算法的思路\n",
    "### 传统算法\n",
    "- 把(28*28)**256所有的情况都枚举出来\n",
    "- 然后写分支判断语句，判断每种情况是哪种分类\n",
    "- 但这种情况是不行的，因为(28*28)**256是一个天文数字，写不出来这样的代码\n",
    "### 机器学习\n",
    "- 提取特征：比如说边缘、角点、纹理、统计特征等\n",
    "- 然后使用机器学习算法，比如SVM/KNN\n",
    "- 最后就能比较好的将图片分类\n",
    "### 深度学习\n",
    "- 将图片数据直接喂给深度学习算法，比如神经网络\n",
    "- 通过反向传播机制，让算法自己找到最好的假设空间\n",
    "- 最后能比较好的进行图片分类"
   ]
  },
  {
   "cell_type": "markdown",
   "metadata": {},
   "source": [
    "## 均方误差\n",
    "- 使用公式表达均方误差：$ E = 1/2 \\sum_k (yk - tk)^2$"
   ]
  },
  {
   "cell_type": "code",
   "execution_count": 1,
   "metadata": {},
   "outputs": [
    {
     "name": "stdout",
     "output_type": "stream",
     "text": [
      "0.09750000000000003\n",
      "0.5975\n"
     ]
    }
   ],
   "source": [
    "import numpy as np\n",
    "def mean_squared_error(y, t):\n",
    "    return 0.5 * np.sum((y-t)**2)\n",
    "# 使用softmax预测出来的一组数字的概率\n",
    "y = [0.1, 0.05, 0.6, 0.0, 0.05, 0.1, 0.0, 0.1, 0.0, 0.0]\n",
    "# 使用one-hot编码的标签，这个样本的真实标签是2\n",
    "t = [0, 0, 1, 0, 0, 0, 0, 0, 0, 0]\n",
    "# 计算示例中的均方误差\n",
    "# 也就说这个样本所产生的均方误差大概是0.1\n",
    "print(mean_squared_error(np.array(y), np.array(t)))\n",
    "\n",
    "# 再来计算一个样本的均方误差\n",
    "y = [0.1, 0.05, 0.1, 0.0, 0.05, 0.1, 0.0, 0.6, 0.0, 0.0]\n",
    "# 假设真实标签还是2\n",
    "t = [0, 0, 1, 0, 0, 0, 0, 0, 0, 0]\n",
    "# 由于预测出来是7的概率最大，所以这个样本的损失还是比较大的\n",
    "print(mean_squared_error(np.array(y), np.array(t)))"
   ]
  },
  {
   "cell_type": "markdown",
   "metadata": {},
   "source": [
    "## 交叉熵误差\n",
    "- 使用公式表达交叉熵误差：$ E = - \\sum_k tk \\log(yk) $\n",
    "- 相对于均方误差，这个误差只考虑真实标签那个预测情况，预测概率越接近于1，误差越小，反之越大"
   ]
  },
  {
   "cell_type": "code",
   "execution_count": 2,
   "metadata": {},
   "outputs": [
    {
     "name": "stdout",
     "output_type": "stream",
     "text": [
      "0.510825457099338\n",
      "2.3025840929945454\n"
     ]
    }
   ],
   "source": [
    "# 以上面mnist的结果，计算一下交叉熵的损失\n",
    "def cross_entropy_error(y, t):\n",
    "    # 为了防止log(0)对结果溢出，加上一个比较小的量，根据softmax的例子\n",
    "    # 即使加了这delta也不影响最终的概率分布\n",
    "    delta = 1e-7\n",
    "    return -np.sum(t * np.log(y+delta))\n",
    "y = [0.1, 0.05, 0.6, 0.0, 0.05, 0.1, 0.0, 0.1, 0.0, 0.0]\n",
    "t = [0, 0, 1, 0, 0, 0, 0, 0, 0, 0]\n",
    "print(cross_entropy_error(np.array(y), np.array(t)))\n",
    "\n",
    "# 预测比较失败的那个交叉熵损失是多少\n",
    "y = [0.1, 0.05, 0.1, 0.0, 0.05, 0.1, 0.0, 0.6, 0.0, 0.0]\n",
    "t = [0, 0, 1, 0, 0, 0, 0, 0, 0, 0]\n",
    "print(cross_entropy_error(np.array(y), np.array(t)))"
   ]
  },
  {
   "cell_type": "markdown",
   "metadata": {},
   "source": [
    "# mini-batch学习\n",
    "- 机器学习的过程就是对损失函数学习的过程\n",
    "- 前面介绍的损失只是对单个样本的损失，损失函数的求解是对所有样本的损失的求和\n",
    "- 但是所有的样本又太大了，学习起来成本太高\n",
    "- 所以训练的时候常常将一些样本捆绑起来，形成一个batch，然后对一个batch进行学习\n",
    "- 一个batch的交叉熵损失函数可以用公式表达为：$ E = -1/N \\sum_N \\sum_k tk \\log(yk) $\n",
    "- 其中N是batch的大小，k是每个样本的索引，yk是预测的概率，tk是真实的类别"
   ]
  },
  {
   "cell_type": "code",
   "execution_count": 3,
   "metadata": {},
   "outputs": [
    {
     "name": "stderr",
     "output_type": "stream",
     "text": [
      "2022-04-25 17:18:47.449141: W tensorflow/stream_executor/platform/default/dso_loader.cc:64] Could not load dynamic library 'libcudart.so.11.0'; dlerror: libcudart.so.11.0: cannot open shared object file: No such file or directory\n",
      "2022-04-25 17:18:47.449176: I tensorflow/stream_executor/cuda/cudart_stub.cc:29] Ignore above cudart dlerror if you do not have a GPU set up on your machine.\n"
     ]
    },
    {
     "name": "stdout",
     "output_type": "stream",
     "text": [
      "(60000, 28, 28)\n",
      "(10000, 28, 28)\n",
      "(60000,)\n",
      "(10000,)\n",
      "(60000, 784)\n",
      "(10000, 784)\n",
      "(60000, 10)\n",
      "(10000, 10)\n"
     ]
    }
   ],
   "source": [
    "# 使用keras加载mnist数据集\n",
    "import numpy as np\n",
    "from keras.datasets import mnist\n",
    "(x_train, t_train), (x_test, t_test) = mnist.load_data()\n",
    "print(x_train.shape)\n",
    "print(x_test.shape)\n",
    "print(t_train.shape)\n",
    "print(t_test.shape)\n",
    "# 把特征空间拉平，并转换成[0, 1]区间的值，把28*28的图片变成一维的\n",
    "# 把标签空间转换成one-hot编码\n",
    "x_train = x_train.reshape(60000, 784).astype('float32') / 255\n",
    "x_test = x_test.reshape(10000, 784).astype('float32') / 255\n",
    "t_train = np.eye(10)[t_train.astype('int32')]\n",
    "t_test = np.eye(10)[t_test.astype('int32')]\n",
    "print(x_train.shape)\n",
    "print(x_test.shape)\n",
    "print(t_train.shape)\n",
    "print(t_test.shape)"
   ]
  },
  {
   "cell_type": "code",
   "execution_count": 4,
   "metadata": {},
   "outputs": [
    {
     "name": "stdout",
     "output_type": "stream",
     "text": [
      "[16950 39420  8350 13679 51388 11157 25590  1644 50493 32269]\n",
      "(10, 784)\n",
      "(10, 10)\n",
      "<class 'numpy.ndarray'>\n",
      "<class 'numpy.ndarray'>\n",
      "[[0. 0. 0. ... 0. 0. 0.]\n",
      " [0. 0. 0. ... 0. 0. 0.]\n",
      " [0. 0. 0. ... 0. 0. 0.]\n",
      " ...\n",
      " [0. 0. 0. ... 0. 0. 0.]\n",
      " [0. 0. 0. ... 0. 0. 0.]\n",
      " [0. 0. 0. ... 0. 0. 0.]]\n",
      "[[0. 1. 0. 0. 0. 0. 0. 0. 0. 0.]\n",
      " [0. 0. 1. 0. 0. 0. 0. 0. 0. 0.]\n",
      " [0. 0. 0. 1. 0. 0. 0. 0. 0. 0.]\n",
      " [0. 0. 0. 0. 0. 0. 1. 0. 0. 0.]\n",
      " [0. 0. 0. 1. 0. 0. 0. 0. 0. 0.]\n",
      " [0. 1. 0. 0. 0. 0. 0. 0. 0. 0.]\n",
      " [0. 0. 0. 1. 0. 0. 0. 0. 0. 0.]\n",
      " [0. 0. 0. 1. 0. 0. 0. 0. 0. 0.]\n",
      " [0. 1. 0. 0. 0. 0. 0. 0. 0. 0.]\n",
      " [0. 0. 1. 0. 0. 0. 0. 0. 0. 0.]]\n"
     ]
    }
   ],
   "source": [
    "# 随机从训练集中抽取一些数据，用于训练\n",
    "import numpy as np\n",
    "# 从[0, 60000)区间随机抽取10个数字\n",
    "batch_mask = np.random.choice(x_train.shape[0], 10)\n",
    "x_batch = x_train[batch_mask]\n",
    "t_batch = t_train[batch_mask]\n",
    "print(batch_mask)\n",
    "print(x_batch.shape)\n",
    "print(t_batch.shape)\n",
    "print(type(x_batch))\n",
    "print(type(t_batch))\n",
    "print(x_batch)\n",
    "print(t_batch)"
   ]
  },
  {
   "cell_type": "code",
   "execution_count": 5,
   "metadata": {},
   "outputs": [],
   "source": [
    "# 一个batch的交叉熵损失函数定义\n",
    "def cross_entropy_error(y, t):\n",
    "    # 如果仅有一个样本，那么就给它增加一个维度，表示是单一样本\n",
    "    if y.ndim == 1:\n",
    "        t = t.reshape(1, t.size)\n",
    "        y = y.reshape(1, y.size)\n",
    "    batch_size = y.shape[0]\n",
    "    return -np.sum(t * np.log(y + 1e-7)) / batch_size"
   ]
  },
  {
   "cell_type": "code",
   "execution_count": 6,
   "metadata": {},
   "outputs": [
    {
     "name": "stdout",
     "output_type": "stream",
     "text": [
      "2.3025840929945454\n",
      "(100,)\n",
      "94.18283726144865\n"
     ]
    }
   ],
   "source": [
    "# 单个样本的交叉熵损失\n",
    "y = [0.1, 0.05, 0.1, 0.0, 0.05, 0.1, 0.0, 0.6, 0.0, 0.0]\n",
    "t = [0, 0, 1, 0, 0, 0, 0, 0, 0, 0]\n",
    "print(cross_entropy_error(np.array(y), np.array(t)))\n",
    "# 多个样本的交叉熵损失\n",
    "# 模拟生成10个样本的概率分布\n",
    "y = np.array(y*10)\n",
    "print(y.shape)\n",
    "print(cross_entropy_error(y, t_batch))"
   ]
  },
  {
   "cell_type": "markdown",
   "metadata": {},
   "source": [
    "## 为什么必须要有损失函数\n",
    "- 问题：深度学习模型最终的目的是为了提高准确率，模型的学习策略可以设置为提高学习率就可以了！但是为什么还要有损失函数的出现？\n",
    "- 如果设置了损失函数作为学习率，会导致整个学习的过程停滞不前——参数的导数大部分都会变成0\n",
    "- 在深度学习得到参数时，如果这个参数函数的导数为正，那么我们就减小这个参数；反之如果导数为负，那么我们就增大这个参数，最后慢慢的变化，就会使得最后的模型变好\n",
    "- 但是精度函数是一个离散的函数，比如说批量是100时，这个精度只会在[0,1,0.01]这100个值选择，比如说我们一组参数使得精度为32.1%，另一组参数为32.2%。那么模型是感知不到参数的调整会让模型变优的。\n",
    "- 反之损失函数是一个连续的函数就不存在这个问题\n",
    "- 同样的，一般不能使用阶跃函数作为激活函数也是这个道理，因为阶跃函数是一个离散的函数"
   ]
  },
  {
   "cell_type": "markdown",
   "metadata": {},
   "source": [
    "## 数值微分\n",
    "### 导数\n",
    "导数的定义可以用公式表达为：$$ \\frac{\\partial f(x)}{\\partial x} = \\lim_{\\epsilon \\to 0} \\frac{f(x + \\epsilon) - f(x)}{\\epsilon} $$"
   ]
  },
  {
   "cell_type": "code",
   "execution_count": 7,
   "metadata": {},
   "outputs": [],
   "source": [
    "# 不好的实现\n",
    "# 注意这里函数式编程的技巧，输入的f是一个函数\n",
    "import numpy as np\n",
    "def numerical_diff_bad(f, x):\n",
    "    delta = np.float32(1e-50)\n",
    "    return (f(x+delta)-f(x))/delta"
   ]
  },
  {
   "cell_type": "code",
   "execution_count": 8,
   "metadata": {},
   "outputs": [
    {
     "name": "stdout",
     "output_type": "stream",
     "text": [
      "0.0\n",
      "True\n",
      "1e-04\n",
      "False\n"
     ]
    }
   ],
   "source": [
    "# 上面的函数有两个问题\n",
    "# 一个问题问题是：delta的值太小，会被当成0\n",
    "import numpy as np\n",
    "print(np.float32(1e-50))\n",
    "print(np.float32(1e-50)==0)\n",
    "print(np.float32(1e-4))\n",
    "print(np.float32(1e-4)==0)\n",
    "# 另一个问题是：我们想要的是在x点处的导数，这样求出来是[x, x+delta]之间的导数\n",
    "# 解决的办法是：所以要在左右两边去一个均值\n"
   ]
  },
  {
   "cell_type": "code",
   "execution_count": 9,
   "metadata": {},
   "outputs": [],
   "source": [
    "import numpy as np\n",
    "def numerical_diff(f, x):\n",
    "    delta = 1e-4\n",
    "    return (f(x+delta)-f(x-delta))/(2*delta)"
   ]
  },
  {
   "cell_type": "code",
   "execution_count": 10,
   "metadata": {},
   "outputs": [
    {
     "data": {
      "image/png": "[encoded data removed]",
      "text/plain": [
       "<Figure size 432x288 with 1 Axes>"
      ]
     },
     "metadata": {
      "needs_background": "light"
     },
     "output_type": "display_data"
    }
   ],
   "source": [
    "# 使用numerical_diff函数求导\n",
    "import numpy as np \n",
    "import matplotlib.pyplot as plt\n",
    "def function_1(x):\n",
    "    return 0.01*x**2 + 0.1*x\n",
    "# 画出来上面的函数曲线\n",
    "x = np.arange(0.0, 20.0, 0.1)\n",
    "y = function_1(x)\n",
    "plt.xlabel(\"x\")\n",
    "plt.ylabel(\"f(x)\")\n",
    "plt.plot(x, y)\n",
    "plt.show()"
   ]
  },
  {
   "cell_type": "code",
   "execution_count": 11,
   "metadata": {},
   "outputs": [
    {
     "name": "stdout",
     "output_type": "stream",
     "text": [
      "这个函数在5这个点的导数是：0.1999999999990898\n",
      "这个函数在10这个点的导数是：0.2999999999986347\n"
     ]
    }
   ],
   "source": [
    "# 来计算在5, 10两个点的导数\n",
    "# 根据高中知识上面那个函数的导数公式：g(x)=0.02x + 0.1\n",
    "# 所以计算的结果是对的\n",
    "print(f'这个函数在5这个点的导数是：{numerical_diff(function_1, 5)}')\n",
    "print(f'这个函数在10这个点的导数是：{numerical_diff(function_1, 10)}')"
   ]
  },
  {
   "cell_type": "markdown",
   "metadata": {},
   "source": [
    "### 偏导数\n",
    "- 前面的导数只是说明了自变量只有一个的情况下的导数情况\n",
    "- 这里说明自变量是多个的情况下的导数\n",
    "- 可以简单理解为将其他变量都固定下来，只求一个变量的导数\n",
    "- 最后的结果可以这样解释\n",
    "- 原来的函数图像是一个三维的\n",
    "- 在x[0]和y组成的平面中在[3,4]这个点上的斜率是6\n",
    "- 在x[1]和y组成的平面中在[3,4]这个点上的斜率是8"
   ]
  },
  {
   "cell_type": "code",
   "execution_count": 12,
   "metadata": {},
   "outputs": [
    {
     "name": "stdout",
     "output_type": "stream",
     "text": [
      "这个函数在[3, 4]这个点的偏导数是：6.00000000000378\n",
      "这个函数在[3, 4]这个点的偏导数是：7.999999999999119\n"
     ]
    }
   ],
   "source": [
    "import numpy as np\n",
    "# 与前面不同的是，前面x是一个标量，这里x是一个向量\n",
    "def function_2(x):\n",
    "    # return x[0]**2 + x[1]**2\n",
    "    return np.sum(x**2)\n",
    "# 现在比如说要求[3, 4]这个点的偏导数\n",
    "# 重新定义一个函数，将x[1]固定在4这个点\n",
    "def function_tmp1(x):\n",
    "    return x**2 + 4**2\n",
    "# 重新定义一个函数，将x[0]固定在3这个点\n",
    "def function_tmp2(x):\n",
    "    return 3**2 + x**2\n",
    "# 求出来x[0]的偏导数\n",
    "print(f'这个函数在[3, 4]这个点的偏导数是：{numerical_diff(function_tmp1, 3)}')\n",
    "# 求出来x[1]的偏导数\n",
    "print(f'这个函数在[3, 4]这个点的偏导数是：{numerical_diff(function_tmp2, 4)}')"
   ]
  },
  {
   "cell_type": "markdown",
   "metadata": {},
   "source": [
    "### 梯度\n",
    "- 在某个点上的梯度是指这个点偏导数\n",
    "- 梯度的维度和输入的维度一致"
   ]
  },
  {
   "cell_type": "code",
   "execution_count": 13,
   "metadata": {},
   "outputs": [],
   "source": [
    "import numpy as np\n",
    "def numerical_gradient(f, x):\n",
    "    delta = 1e-4\n",
    "    # 梯度的维度和x的维度一样\n",
    "    grad = np.zeros_like(x)\n",
    "    # 对每个维度求偏导\n",
    "    for idx in range(x.size):\n",
    "        # 当前维度，要求解梯度的那个点的坐标\n",
    "        tmp_val = x[idx]\n",
    "        # f(x+delta)\n",
    "        x[idx] = tmp_val + delta\n",
    "        fx1 = f(x)\n",
    "        # f(x-delta)\n",
    "        x[idx] = tmp_val - delta\n",
    "        fx2 = f(x)\n",
    "        # 求偏导\n",
    "        grad[idx] = (fx1-fx2)/(2*delta)\n",
    "        # 恢复x的值\n",
    "        x[idx] = tmp_val\n",
    "    return grad"
   ]
  },
  {
   "cell_type": "code",
   "execution_count": 14,
   "metadata": {},
   "outputs": [
    {
     "name": "stdout",
     "output_type": "stream",
     "text": [
      "[6. 8.]\n",
      "[0. 4.]\n",
      "[6. 0.]\n"
     ]
    }
   ],
   "source": [
    "# 测试一下函数2的梯度\n",
    "import numpy as np\n",
    "# x是一个向量\n",
    "def function_2(x):\n",
    "    # return x[0]**2 + x[1]**2\n",
    "    return np.sum(x**2)\n",
    "print(numerical_gradient(function_2, np.array([3.0, 4.0])))\n",
    "print(numerical_gradient(function_2, np.array([0.0, 2.0])))\n",
    "print(numerical_gradient(function_2, np.array([3.0, 0.0])))"
   ]
  },
  {
   "cell_type": "markdown",
   "metadata": {},
   "source": [
    "## 梯度法\n",
    "- 深度学习的过程是使用梯度法寻找最优参数的过程\n",
    "- 梯度法可以用公式表达为：\n",
    "$$ x_0 = x_0 - \\alpha \\frac{\\partial f}{\\partial x_0} $$\n",
    "$$ x_1 = x_1 - \\alpha \\frac{\\partial f}{\\partial x_1} $$"
   ]
  },
  {
   "cell_type": "code",
   "execution_count": 15,
   "metadata": {},
   "outputs": [],
   "source": [
    "# 使用简单的函数实现梯度下降\n",
    "def gradient_descent(f, init_x, lr=0.01, step_num=100):\n",
    "    x = init_x\n",
    "    for i in range(step_num):\n",
    "        grad = numerical_gradient(f, x)\n",
    "        # 滑向最低点的过程\n",
    "        x -= lr*grad\n",
    "    # 返回最低点的那个梯度\n",
    "    return x"
   ]
  },
  {
   "cell_type": "code",
   "execution_count": 16,
   "metadata": {},
   "outputs": [
    {
     "data": {
      "text/plain": [
       "array([-6.11110793e-10,  8.14814391e-10])"
      ]
     },
     "execution_count": 16,
     "metadata": {},
     "output_type": "execute_result"
    }
   ],
   "source": [
    "# 测试一下\n",
    "def function_2(x):\n",
    "    return np.sum(x**2)\n",
    "# 初始化小球在的那个点\n",
    "x = np.array([-3.0, 4.0])\n",
    "# 从可视化的那个图形可以看出来，最低调就是x[0], x[1]导数都是0的那个点\n",
    "gradient_descent(function_2, init_x=x, lr=0.1, step_num=100)"
   ]
  },
  {
   "cell_type": "code",
   "execution_count": 17,
   "metadata": {},
   "outputs": [
    {
     "name": "stdout",
     "output_type": "stream",
     "text": [
      "[-2.58983747e+13 -1.29524862e+12]\n"
     ]
    }
   ],
   "source": [
    "# 学习率过大，模型最后收敛的并不好\n",
    "x = np.array([-3.0, 4.0])\n",
    "print(gradient_descent(function_2, init_x=x, lr=10.0, step_num=100))"
   ]
  },
  {
   "cell_type": "code",
   "execution_count": 18,
   "metadata": {},
   "outputs": [
    {
     "name": "stdout",
     "output_type": "stream",
     "text": [
      "[-2.99999994  3.99999992]\n"
     ]
    }
   ],
   "source": [
    "# 学习率过小，模型最后收敛的也不好\n",
    "x = np.array([-3.0, 4.0])\n",
    "print(gradient_descent(function_2, init_x=x, lr=1e-10, step_num=100))"
   ]
  },
  {
   "cell_type": "markdown",
   "metadata": {},
   "source": [
    "## 神经网络的梯度\n",
    "- 也是一个矩阵的梯度\n",
    "- 下面这个例子中，假设神经网络只有一层，形状是(2,3)。暂且忽略偏置项"
   ]
  },
  {
   "cell_type": "code",
   "execution_count": 19,
   "metadata": {},
   "outputs": [],
   "source": [
    "# 这设计python类中的函数的时候，如果要自己调用自己，那么一定要传入self参数，否则会报错\n",
    "class simpleNet:\n",
    "    def cross_entropy_error(self, y, t):\n",
    "        return -np.sum(t*np.log(y))\n",
    "    def softmax(self, x):\n",
    "        return np.exp(x)/np.sum(np.exp(x))\n",
    "    def __init__(self):\n",
    "        self.W = np.random.randn(2, 3)\n",
    "    def predict(self, x):\n",
    "        return np.dot(x, self.W)\n",
    "    def loss(self, x, t):\n",
    "        z = self.predict(x)\n",
    "        y = self.softmax(z)\n",
    "        loss = self.cross_entropy_error(y, t)\n",
    "        return loss"
   ]
  },
  {
   "cell_type": "code",
   "execution_count": 20,
   "metadata": {},
   "outputs": [
    {
     "name": "stdout",
     "output_type": "stream",
     "text": [
      "权重参数是：[[ 0.47412058  0.49296901  1.58017092]\n",
      " [-0.83625698 -1.15110694 -1.60922946]]\n",
      "这个网络的预测结果是：[-0.46815893 -0.74021484 -0.50020396]\n",
      "预测最大的那个索引是：0\n",
      "这个网络的损失是：1.0364472338066975\n"
     ]
    }
   ],
   "source": [
    "# 验证上面的简单的神经网络\n",
    "net = simpleNet()\n",
    "print(f'权重参数是：{net.W}')\n",
    "# 给定一个假设样本的特征和标签\n",
    "x = np.array([0.6, 0.9])\n",
    "t = np.array([0, 0, 1])\n",
    "p = net.predict(x)\n",
    "print(f'这个网络的预测结果是：{p}')\n",
    "# 返回最大的索引，和实际结果差不多\n",
    "print(f'预测最大的那个索引是：{np.argmax(p)}')\n",
    "# 计算损失\n",
    "print(f'这个网络的损失是：{net.loss(x, t)}')"
   ]
  },
  {
   "cell_type": "code",
   "execution_count": 22,
   "metadata": {},
   "outputs": [],
   "source": [
    "# 与前面的不同的是，这里输入的张量是2D的，所以重新使用书中的函数\n",
    "def numerical_gradient(f, x):\n",
    "    h = 1e-4 # 0.0001\n",
    "    grad = np.zeros_like(x)\n",
    "    \n",
    "    it = np.nditer(x, flags=['multi_index'], op_flags=['readwrite'])\n",
    "    while not it.finished:\n",
    "        idx = it.multi_index\n",
    "        tmp_val = x[idx]\n",
    "        x[idx] = tmp_val + h\n",
    "        fxh1 = f(x) # f(x+h)\n",
    "        \n",
    "        x[idx] = tmp_val - h \n",
    "        fxh2 = f(x) # f(x-h)\n",
    "        grad[idx] = (fxh1 - fxh2) / (2*h)\n",
    "        \n",
    "        x[idx] = tmp_val\n",
    "        it.iternext()   \n",
    "        \n",
    "    return grad"
   ]
  },
  {
   "cell_type": "code",
   "execution_count": 23,
   "metadata": {},
   "outputs": [],
   "source": [
    "f = lambda w: net.loss(x, t)\n",
    "dW = numerical_gradient(f, net.W)"
   ]
  },
  {
   "cell_type": "code",
   "execution_count": 24,
   "metadata": {},
   "outputs": [
    {
     "name": "stdout",
     "output_type": "stream",
     "text": [
      "[[ 0.21975811  0.16741429 -0.38717241]\n",
      " [ 0.32963717  0.25112144 -0.58075861]]\n"
     ]
    }
   ],
   "source": [
    "print(dW)"
   ]
  },
  {
   "cell_type": "markdown",
   "metadata": {},
   "source": [
    "## 学习算法的实现\n",
    "### 神经网络的学习步骤\n",
    "1. 随机选择一个mini-batch，我们的优化目标就是让这个mini-batch的损失函数最小\n",
    "2. 计算出来各个权重参数的梯度\n",
    "3. 沿着梯度的方向，对权重参数做微小的调整，使得损失函数可以变小\n",
    "4. 回到步骤一，重复上面的三个步骤"
   ]
  },
  {
   "cell_type": "code",
   "execution_count": 1,
   "metadata": {},
   "outputs": [],
   "source": [
    "# 引入原来书籍中的脚本\n",
    "%run ./common/functions.py\n",
    "%run ./common/gradient.py"
   ]
  },
  {
   "cell_type": "code",
   "execution_count": 2,
   "metadata": {},
   "outputs": [],
   "source": [
    "from common.functions import *\n",
    "from common.gradient import numerical_gradient\n",
    "\n",
    "class TwoLayerNet:\n",
    "    def __init__(self, input_size, hidden_size, output_size, weight_init_std=0.01):\n",
    "        # 随机初始化权重\n",
    "        self.params = {}\n",
    "        self.params['W1'] = weight_init_std * np.random.randn(input_size, hidden_size)\n",
    "        self.params['b1'] = np.zeros(hidden_size)\n",
    "        self.params['W2'] = weight_init_std * np.random.randn(hidden_size, output_size)\n",
    "        self.params['b2'] = np.zeros(output_size)\n",
    "    def predict(self, x):\n",
    "        W1, W2 = self.params['W1'], self.params['W2']\n",
    "        b1, b2 = self.params['b1'], self.params['b2']\n",
    "        a1 = np.dot(x, W1) + b1\n",
    "        z1 = sigmoid(a1)\n",
    "        a2 = np.dot(z1, W2) + b2\n",
    "        y = softmax(a2)\n",
    "        return y\n",
    "    def loss(self, x, t):\n",
    "        y = self.predict(x)\n",
    "        return cross_entropy_error(y, t)\n",
    "    def accuracy(self, x, t):\n",
    "        y = self.predict(x)\n",
    "        y = np.argmax(y, axis=1)\n",
    "        t = np.argmax(t, axis=1)\n",
    "        accuracy = np.sum(y == t) / float(x.shape[0])\n",
    "        return accuracy\n",
    "    def numerical_gradient(self, x, t):\n",
    "        loss_W = lambda W: self.loss(x, t)\n",
    "        \n",
    "        grads = {}\n",
    "        grads['W1'] = numerical_gradient(loss_W, self.params['W1'])\n",
    "        grads['b1'] = numerical_gradient(loss_W, self.params['b1'])\n",
    "        grads['W2'] = numerical_gradient(loss_W, self.params['W2'])\n",
    "        grads['b2'] = numerical_gradient(loss_W, self.params['b2'])\n",
    "        return grads"
   ]
  },
  {
   "cell_type": "code",
   "execution_count": 3,
   "metadata": {},
   "outputs": [
    {
     "name": "stdout",
     "output_type": "stream",
     "text": [
      "(784, 100)\n",
      "(100,)\n",
      "(100, 10)\n",
      "(10,)\n"
     ]
    }
   ],
   "source": [
    "net = TwoLayerNet(input_size=784, hidden_size=100, output_size=10)\n",
    "print(net.params['W1'].shape)\n",
    "print(net.params['b1'].shape)\n",
    "print(net.params['W2'].shape)\n",
    "print(net.params['b2'].shape)"
   ]
  },
  {
   "cell_type": "code",
   "execution_count": 4,
   "metadata": {},
   "outputs": [],
   "source": [
    "# 伪造100个训练样本\n",
    "x = np.random.rand(100, 784)\n",
    "y = net.predict(x)"
   ]
  },
  {
   "cell_type": "code",
   "execution_count": 5,
   "metadata": {},
   "outputs": [
    {
     "name": "stdout",
     "output_type": "stream",
     "text": [
      "(784, 100)\n",
      "(100,)\n",
      "(100, 10)\n",
      "(100,)\n"
     ]
    }
   ],
   "source": [
    "# 计算梯度是一个比较贵的事情\n",
    "x = np.random.rand(100, 784)\n",
    "# 伪装正确的100个标签分布\n",
    "t = np.random.rand(100, 10)\n",
    "grads = net.numerical_gradient(x, t)\n",
    "print(grads['W1'].shape)\n",
    "print(grads['b1'].shape)\n",
    "print(grads['W2'].shape)\n",
    "print(grads['b1'].shape)"
   ]
  },
  {
   "cell_type": "code",
   "execution_count": null,
   "metadata": {},
   "outputs": [],
   "source": []
  }
 ],
 "metadata": {
  "interpreter": {
   "hash": "1021d31412234ebea20baf61e8fdbc8c22153a59dde70b52bcafccce89619e30"
  },
  "kernelspec": {
   "display_name": "Python 3.8.12 ('pytorch')",
   "language": "python",
   "name": "python3"
  },
  "language_info": {
   "codemirror_mode": {
    "name": "ipython",
    "version": 3
   },
   "file_extension": ".py",
   "mimetype": "text/x-python",
   "name": "python",
   "nbconvert_exporter": "python",
   "pygments_lexer": "ipython3",
   "version": "3.8.12"
  },
  "orig_nbformat": 4
 },
 "nbformat": 4,
 "nbformat_minor": 2
}
