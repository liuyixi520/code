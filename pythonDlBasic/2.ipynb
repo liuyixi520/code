{
 "cells": [
  {
   "cell_type": "markdown",
   "metadata": {},
   "source": [
    "# 感知机\n",
    "- 感知机是神经网络实现的基础\n",
    "- 神经网络中的一个神经元就是一个感知机"
   ]
  },
  {
   "cell_type": "code",
   "execution_count": 8,
   "metadata": {},
   "outputs": [
    {
     "name": "stdout",
     "output_type": "stream",
     "text": [
      "0\n",
      "0\n",
      "0\n",
      "1\n"
     ]
    }
   ],
   "source": [
    "# 与门不带偏置的实现\n",
    "def And(x1, x2):\n",
    "    w1, w2, theta = 0.5, 0.5, 0.7\n",
    "    tmp = x1 * w1 + x2 * w2\n",
    "    if tmp <= theta:\n",
    "        return 0\n",
    "    else:\n",
    "        return 1\n",
    "# 测试与门的运算结果\n",
    "print(And(0, 0))\n",
    "print(And(1, 0))\n",
    "print(And(0, 1))\n",
    "print(And(1, 1))"
   ]
  },
  {
   "cell_type": "markdown",
   "metadata": {},
   "source": [
    "## 感知机的实现\n",
    "- 与门实现\n",
    "- 与非门实现\n",
    "- 或门实现\n",
    "## 感知机无法实现异或门\n",
    "- 把四个门的真值表放在笛卡尔坐标中\n",
    "- 使用np.sum()实现的都是一个线性函数\n",
    "- 与、或、与非可以用一条直线将两种情况分隔开\n",
    "- 但是异或是无法使用一条直线将两种情况分隔开的"
   ]
  },
  {
   "cell_type": "code",
   "execution_count": 9,
   "metadata": {},
   "outputs": [
    {
     "name": "stdout",
     "output_type": "stream",
     "text": [
      "0\n",
      "0\n",
      "0\n",
      "1\n"
     ]
    }
   ],
   "source": [
    "# 不带偏置会有一个超参数theta，太麻烦\n",
    "# 把它放到等式的右边就可以当成偏置，写起来方便\n",
    "import numpy as np\n",
    "def And(x1, x2):\n",
    "    x = np.array([x1, x2])\n",
    "    w = np.array([0.5, 0.5])\n",
    "    b = -0.7\n",
    "    tmp = np.sum(x * w) + b\n",
    "    if tmp <= 0:\n",
    "        return 0\n",
    "    else:\n",
    "        return 1\n",
    "# 测试与门的运算结果\n",
    "print(And(0.0, 0.0))\n",
    "print(And(1.0, 0.0))\n",
    "print(And(0.0, 1.0))\n",
    "print(And(1.0, 1.0))"
   ]
  },
  {
   "cell_type": "code",
   "execution_count": 10,
   "metadata": {},
   "outputs": [
    {
     "name": "stdout",
     "output_type": "stream",
     "text": [
      "1\n",
      "1\n",
      "1\n",
      "0\n"
     ]
    }
   ],
   "source": [
    "# 用感知机实现与非门\n",
    "def NAnd(x1, x2):\n",
    "    x = np.array([x1, x2])\n",
    "    w = np.array([-0.5, -0.5])\n",
    "    b = 0.7\n",
    "    tmp = np.sum(x * w) + b\n",
    "    if tmp <= 0:\n",
    "        return 0\n",
    "    else:\n",
    "        return 1\n",
    "# 测试与非门的运算结果\n",
    "print(NAnd(0.0, 0.0))\n",
    "print(NAnd(1.0, 0.0))\n",
    "print(NAnd(0.0, 1.0))\n",
    "print(NAnd(1.0, 1.0))"
   ]
  },
  {
   "cell_type": "code",
   "execution_count": 11,
   "metadata": {},
   "outputs": [
    {
     "name": "stdout",
     "output_type": "stream",
     "text": [
      "0\n",
      "1\n",
      "1\n",
      "1\n"
     ]
    }
   ],
   "source": [
    "# 用感知机实现或门\n",
    "def Or(x1, x2):\n",
    "    x = np.array([x1, x2])\n",
    "    w = np.array([0.5, 0.5])\n",
    "    b = -0.2\n",
    "    tmp = np.sum(x * w) + b\n",
    "    if tmp <= 0:\n",
    "        return 0\n",
    "    else:\n",
    "        return 1\n",
    "# 测试或门的运算结果\n",
    "print(Or(0.0, 0.0))\n",
    "print(Or(1.0, 0.0))\n",
    "print(Or(0.0, 1.0))\n",
    "print(Or(1.0, 1.0))"
   ]
  },
  {
   "cell_type": "markdown",
   "metadata": {},
   "source": [
    "# 异或门多层感知机的实现\n",
    "- 使用与门、或门、与非门可以构造出来一个异或门"
   ]
  },
  {
   "cell_type": "code",
   "execution_count": 12,
   "metadata": {},
   "outputs": [
    {
     "name": "stdout",
     "output_type": "stream",
     "text": [
      "0\n",
      "1\n",
      "1\n",
      "0\n"
     ]
    }
   ],
   "source": [
    "# 使用与门、与非门、或门实现XOR门\n",
    "def XOr(x1, x2):\n",
    "    s1 = NAnd(x1, x2)\n",
    "    s2 = Or(x1, x2)\n",
    "    y = And(s1, s2)\n",
    "    return y\n",
    "# 测试XOR门的运算结果\n",
    "print(XOr(0.0, 0.0))\n",
    "print(XOr(1.0, 0.0))\n",
    "print(XOr(0.0, 1.0))\n",
    "print(XOr(1.0, 1.0))"
   ]
  },
  {
   "cell_type": "code",
   "execution_count": null,
   "metadata": {},
   "outputs": [],
   "source": []
  }
 ],
 "metadata": {
  "interpreter": {
   "hash": "e7370f93d1d0cde622a1f8e1c04877d8463912d04d973331ad4851f04de6915a"
  },
  "kernelspec": {
   "display_name": "Python 3.10.4 64-bit",
   "language": "python",
   "name": "python3"
  },
  "language_info": {
   "codemirror_mode": {
    "name": "ipython",
    "version": 3
   },
   "file_extension": ".py",
   "mimetype": "text/x-python",
   "name": "python",
   "nbconvert_exporter": "python",
   "pygments_lexer": "ipython3",
   "version": "3.8.12"
  },
  "orig_nbformat": 4
 },
 "nbformat": 4,
 "nbformat_minor": 2
}
