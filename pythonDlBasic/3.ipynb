{
 "cells": [
  {
   "cell_type": "markdown",
   "metadata": {},
   "source": [
    "# 神经网络\n",
    "- 感知机中的w向量叫做权重参数，代表了各个输入的重要程度\n",
    "- 感知机中的b向量叫做偏置，代表了神经元被激活的容易程度\n",
    "- 感知机要作为一个神经元，还要给自己加上一个激活函数，常见的激活函数有simoid函数、阶跃函数、tanh函数、relu函数等"
   ]
  },
  {
   "cell_type": "markdown",
   "metadata": {},
   "source": [
    "## 常见的激活函数"
   ]
  },
  {
   "cell_type": "code",
   "execution_count": 1,
   "metadata": {},
   "outputs": [
    {
     "data": {
      "image/png": "[encoded data removed]",
      "text/plain": [
       "<Figure size 432x288 with 1 Axes>"
      ]
     },
     "metadata": {
      "needs_background": "light"
     },
     "output_type": "display_data"
    }
   ],
   "source": [
    "# sigmoid函数\n",
    "import numpy as np\n",
    "import matplotlib.pyplot as plt\n",
    "def sigmoid(x):\n",
    "    return 1 / (1 + np.exp(-x))\n",
    "# 画出sigmoid函数的曲线\n",
    "x = np.linspace(-10, 10, 100)\n",
    "y = sigmoid(x)\n",
    "plt.plot(x, y)\n",
    "plt.show()"
   ]
  },
  {
   "cell_type": "code",
   "execution_count": 2,
   "metadata": {},
   "outputs": [
    {
     "name": "stderr",
     "output_type": "stream",
     "text": [
      "/tmp/ipykernel_10166/2102518773.py:3: DeprecationWarning: `np.int` is a deprecated alias for the builtin `int`. To silence this warning, use `int` by itself. Doing this will not modify any behavior and is safe. When replacing `np.int`, you may wish to use e.g. `np.int64` or `np.int32` to specify the precision. If you wish to review your current use, check the release note link for additional information.\n",
      "Deprecated in NumPy 1.20; for more details and guidance: https://numpy.org/devdocs/release/1.20.0-notes.html#deprecations\n",
      "  return np.array(x > 0, dtype=np.int)\n"
     ]
    },
    {
     "data": {
      "image/png": "[encoded data removed]",
      "text/plain": [
       "<Figure size 432x288 with 1 Axes>"
      ]
     },
     "metadata": {
      "needs_background": "light"
     },
     "output_type": "display_data"
    }
   ],
   "source": [
    "# 阶跃函数\n",
    "def step_function(x):\n",
    "    return np.array(x > 0, dtype=np.int)\n",
    "# 画出阶跃函数的曲线\n",
    "x = np.arange(-5.0, 5.0, 0.1)\n",
    "y = step_function(x)\n",
    "plt.plot(x, y)\n",
    "# 制定y轴的范围，为了图形美观   \n",
    "plt.ylim(-0.1, 1.1)\n",
    "plt.show()"
   ]
  },
  {
   "cell_type": "code",
   "execution_count": 3,
   "metadata": {},
   "outputs": [
    {
     "data": {
      "image/png": "[encoded data removed]",
      "text/plain": [
       "<Figure size 432x288 with 1 Axes>"
      ]
     },
     "metadata": {
      "needs_background": "light"
     },
     "output_type": "display_data"
    }
   ],
   "source": [
    "# ReLU函数\n",
    "def relu(x):\n",
    "    return np.maximum(0, x)\n",
    "# 画出ReLU函数的曲线\n",
    "x = np.arange(-5.0, 5.0, 0.1)\n",
    "y = relu(x)\n",
    "plt.plot(x, y)\n",
    "plt.show()"
   ]
  },
  {
   "cell_type": "markdown",
   "metadata": {},
   "source": [
    "## 多维数组的运算"
   ]
  },
  {
   "cell_type": "code",
   "execution_count": 4,
   "metadata": {},
   "outputs": [
    {
     "name": "stdout",
     "output_type": "stream",
     "text": [
      "[1 2 3 4 5]\n",
      "[ 7  8  9 10 11]\n",
      "1\n",
      "1\n",
      "(5,)\n",
      "(5,)\n",
      "[ 8 10 12 14 16]\n"
     ]
    }
   ],
   "source": [
    "# 一维数组的运算\n",
    "x = np.arange(1, 6)\n",
    "y = np.arange(7, 12)\n",
    "print(x)\n",
    "print(y)\n",
    "# 查看维度信息\n",
    "print(x.ndim)\n",
    "print(y.ndim)\n",
    "# 查看数组的形状\n",
    "print(x.shape)\n",
    "print(y.shape)\n",
    "# 查看连个数组相加后的结果\n",
    "print(x+y)"
   ]
  },
  {
   "cell_type": "code",
   "execution_count": 5,
   "metadata": {},
   "outputs": [
    {
     "name": "stdout",
     "output_type": "stream",
     "text": [
      "[[1 2 3]\n",
      " [4 5 6]]\n",
      "[[ 7  8  9]\n",
      " [10 11 12]]\n",
      "[[13 14]\n",
      " [15 16]\n",
      " [17 18]]\n",
      "2\n",
      "2\n",
      "2\n",
      "(2, 3)\n",
      "(2, 3)\n",
      "(3, 2)\n",
      "[[ 8 10 12]\n",
      " [14 16 18]]\n",
      "[[ 8 10 12]\n",
      " [14 16 18]]\n",
      "[[364 388]\n",
      " [499 532]]\n"
     ]
    }
   ],
   "source": [
    "# 矩阵的运算，和向量类似，只是注意一下点积\n",
    "x = np.arange(1, 7).reshape(2, 3)\n",
    "y = np.arange(7, 13).reshape(2, 3)\n",
    "z = np.arange(13, 19).reshape(3, 2)\n",
    "print(x)\n",
    "print(y)\n",
    "print(z)\n",
    "print(x.ndim)\n",
    "print(y.ndim)\n",
    "print(z.ndim)\n",
    "print(x.shape)\n",
    "print(y.shape)\n",
    "print(z.shape)\n",
    "print(x + y)\n",
    "# 矩阵算术运算时要求两个矩阵的形状要一直\n",
    "print(x+y)\n",
    "# print(y+z)\n",
    "# 点积时，要求前面矩阵的第二个维度后后面矩阵的第一个维度相同\n",
    "# print(x.dot(y))\n",
    "print(y.dot(z))"
   ]
  },
  {
   "cell_type": "markdown",
   "metadata": {},
   "source": [
    "## 神经网络的实现\n",
    "- 每层神经网络的计算过程，可以用公式表达为：$A = X \\times W + B$"
   ]
  },
  {
   "cell_type": "markdown",
   "metadata": {},
   "source": [
    "## 展现3层神经网络的计算过程"
   ]
  },
  {
   "cell_type": "code",
   "execution_count": 6,
   "metadata": {},
   "outputs": [
    {
     "name": "stdout",
     "output_type": "stream",
     "text": [
      "[1.  0.5]\n",
      "(2,)\n",
      "[0.3 0.7 1.1]\n",
      "(3,)\n",
      "[0.57444252 0.66818777 0.75026011]\n",
      "[0.51615984 1.21402696]\n",
      "(2,)\n",
      "[0.62624937 0.7710107 ]\n",
      "[0.31682708 0.69627909]\n",
      "(2,)\n"
     ]
    }
   ],
   "source": [
    "# 第一层神经网络的计算过程\n",
    "X = np.array([1.0, 0.5])\n",
    "print(X)\n",
    "print(X.shape)\n",
    "W1 = np.array([[0.1, 0.3, 0.5], [0.2, 0.4, 0.6]])\n",
    "B1 = np.array([0.1, 0.2, 0.3])\n",
    "A1 = np.dot(X, W1) + B1\n",
    "print(A1)\n",
    "print(A1.shape)\n",
    "Z1 = sigmoid(A1)\n",
    "print(Z1)\n",
    "# 第二层神经网络的计算过程\n",
    "W2 = np.array([[0.1, 0.4], [0.2, 0.5], [0.3, 0.6]])\n",
    "B2 = np.array([0.1, 0.2])\n",
    "A2 = np.dot(Z1, W2) + B2\n",
    "print(A2)\n",
    "print(A2.shape)\n",
    "Z2 = sigmoid(A2)\n",
    "print(Z2)\n",
    "# 第三层神经网络的计算过程\n",
    "W3 = np.array([[0.1, 0.3], [0.2, 0.4]])\n",
    "B3 = np.array([0.1, 0.2])\n",
    "A3 = np.dot(Z2, W3) + B3\n",
    "print(A3)\n",
    "print(A3.shape)"
   ]
  },
  {
   "cell_type": "markdown",
   "metadata": {},
   "source": [
    "## 使用神经网络语言实现上面的过程"
   ]
  },
  {
   "cell_type": "code",
   "execution_count": 7,
   "metadata": {},
   "outputs": [
    {
     "name": "stdout",
     "output_type": "stream",
     "text": [
      "[0.31682708 0.69627909]\n"
     ]
    }
   ],
   "source": [
    "# 初始化神经网络\n",
    "def init_network():\n",
    "    # 初始化一个字典用来存放权重参数和偏置参数\n",
    "    network = {}\n",
    "    network['W1'] = np.array([[0.1, 0.3, 0.5], [0.2, 0.4, 0.6]])\n",
    "    network['b1'] = np.array([0.1, 0.2, 0.3])\n",
    "    network['W2'] = np.array([[0.1, 0.4], [0.2, 0.5], [0.3, 0.6]])\n",
    "    network['b2'] = np.array([0.1, 0.2])\n",
    "    network['W3'] = np.array([[0.1, 0.3], [0.2, 0.4]])\n",
    "    network['b3'] = np.array([0.1, 0.2])\n",
    "    return network\n",
    "# 定义前项传播过程\n",
    "def forward(network, x):\n",
    "    W1, W2, W3 = network['W1'], network['W2'], network['W3']\n",
    "    b1, b2, b3 = network['b1'], network['b2'], network['b3']\n",
    "    A1 = np.dot(x, W1) + b1\n",
    "    Z1 = sigmoid(A1)\n",
    "    A2 = np.dot(Z1, W2) + b2\n",
    "    Z2 = sigmoid(A2)\n",
    "    A3 = np.dot(Z2, W3) + b3\n",
    "    return A3\n",
    "# 测试上面的运算结果\n",
    "network = init_network()\n",
    "X = np.array([1.0, 0.5])\n",
    "print(forward(network, X))"
   ]
  },
  {
   "cell_type": "markdown",
   "metadata": {},
   "source": [
    "## 输出层的设计\n",
    "- 在上面的那个3层神经网络中，最后的输出由两个神经元直接输出，没有做任何转换\n",
    "- 这里介绍softmax输出，将多个输出最后映射成概率分布\n",
    "- softmax回归可以用公式表达：$y = \\frac{e^{a_1}}{\\sum_{i=1}^{n}e^{a_i}}$\n",
    "- 为什么不直接用sum(x)，是因为exp(x)表达出来了输出的相对位置，就是说给数组中的这些数字加上或者减去一个常数，最后的计算结果不会变化。比如看softmax是如何对付溢出这个问题的"
   ]
  },
  {
   "cell_type": "code",
   "execution_count": 2,
   "metadata": {},
   "outputs": [
    {
     "name": "stdout",
     "output_type": "stream",
     "text": [
      "[1 2 3 4 5]\n",
      "[  2.71828183   7.3890561   20.08553692  54.59815003 148.4131591 ]\n",
      "233.2041839862982\n",
      "[0.01165623 0.03168492 0.08612854 0.23412166 0.63640865]\n"
     ]
    }
   ],
   "source": [
    "# 演示softmax的一个例子\n",
    "import numpy as np\n",
    "X = np.arange(1, 6)\n",
    "print(X)\n",
    "exp_X = np.exp(X)\n",
    "print(exp_X)\n",
    "print(sum(exp_X))\n",
    "print(exp_X/sum(exp_X))"
   ]
  },
  {
   "cell_type": "code",
   "execution_count": 3,
   "metadata": {},
   "outputs": [],
   "source": [
    "# 定义softmax函数\n",
    "def softmax(x):\n",
    "    exp_x = np.exp(x)\n",
    "    return exp_x / sum(exp_x)"
   ]
  },
  {
   "cell_type": "code",
   "execution_count": 4,
   "metadata": {},
   "outputs": [
    {
     "name": "stdout",
     "output_type": "stream",
     "text": [
      "[0.09003057 0.24472847 0.66524096]\n",
      "[0.09003057 0.24472847 0.66524096]\n",
      "[901 902 903]\n",
      "[nan nan nan]\n",
      "[-2 -1  0]\n",
      "[0.09003057 0.24472847 0.66524096]\n"
     ]
    },
    {
     "name": "stderr",
     "output_type": "stream",
     "text": [
      "/tmp/ipykernel_4350/3560810081.py:3: RuntimeWarning: overflow encountered in exp\n",
      "  exp_x = np.exp(x)\n",
      "/tmp/ipykernel_4350/3560810081.py:4: RuntimeWarning: invalid value encountered in true_divide\n",
      "  return exp_x / sum(exp_x)\n"
     ]
    }
   ],
   "source": [
    "# 使用softmax位置相对性验证\n",
    "x = np.arange(1, 4)\n",
    "y = x+3\n",
    "print(softmax(x))\n",
    "print(softmax(y))\n",
    "\n",
    "# 溢出问题验证\n",
    "x_overflow = np.arange(901, 904)\n",
    "print(x_overflow)\n",
    "print(softmax(x_overflow))\n",
    "\n",
    "# 使用平移不变形，解决溢出问题\n",
    "x_shift = x_overflow - np.max(x_overflow)\n",
    "print(x_shift)\n",
    "print(softmax(x_shift))"
   ]
  },
  {
   "cell_type": "code",
   "execution_count": 11,
   "metadata": {},
   "outputs": [
    {
     "name": "stdout",
     "output_type": "stream",
     "text": [
      "[0.31682708 0.69627909]\n",
      "[0.40625907 0.59374093]\n"
     ]
    }
   ],
   "source": [
    "# 在上面的3层神经网络中，最后的输出结果给一个softmax函数\n",
    "# 最后的输出之和为1，就可以解释为概率了\n",
    "# 如果在训练神经网络是，训练数据集的正样本都跑到了上面的神经元，负样本都跑到了下面的神经元，\n",
    "# 那么这个最后的结果就可以解释为新的这个样本为正样本的概率是0.4，负样本的概率是0.6\n",
    "network = init_network()\n",
    "x = np.array([1.0, 0.5])\n",
    "y = forward(network, x)\n",
    "print(y)\n",
    "print(softmax(y))"
   ]
  },
  {
   "cell_type": "markdown",
   "metadata": {},
   "source": [
    "# 手写数字识别\n",
    "- 使用MINIS数据集实现深度神经网络上的HelloWorld"
   ]
  },
  {
   "cell_type": "code",
   "execution_count": 17,
   "metadata": {},
   "outputs": [
    {
     "name": "stdout",
     "output_type": "stream",
     "text": [
      "(60000, 28, 28)\n",
      "(60000,)\n",
      "(10000, 28, 28)\n",
      "(10000,)\n"
     ]
    }
   ],
   "source": [
    "# 加载mnist数据集\n",
    "# 这里和书里不一样，书里是把数据集先下载下来的\n",
    "# 可能是不想用keras这个包，和自己提前说的只用numpy和matplotlib\n",
    "from keras.datasets import mnist\n",
    "(X_train, y_train), (X_test, y_test) = mnist.load_data()\n",
    "print(X_train.shape)\n",
    "print(y_train.shape)\n",
    "print(X_test.shape)\n",
    "print(y_test.shape)"
   ]
  },
  {
   "cell_type": "code",
   "execution_count": 22,
   "metadata": {},
   "outputs": [
    {
     "data": {
      "image/png": "[encoded data removed]",
      "text/plain": [
       "<Figure size 432x288 with 1 Axes>"
      ]
     },
     "metadata": {
      "needs_background": "light"
     },
     "output_type": "display_data"
    }
   ],
   "source": [
    "import matplotlib.pyplot as plt\n",
    "# 查看mnist的第一个样本和标签\n",
    "plt.imshow(X_train[0])\n",
    "plt.title(y_train[0])\n",
    "plt.show()"
   ]
  },
  {
   "cell_type": "code",
   "execution_count": 23,
   "metadata": {},
   "outputs": [
    {
     "name": "stdout",
     "output_type": "stream",
     "text": [
      "(60000, 784)\n",
      "(10000, 784)\n"
     ]
    }
   ],
   "source": [
    "# 这里暂时不使用CNN，所以先将图像数据拉平，暂时不需要空间信息\n",
    "X_train = X_train.reshape(X_train.shape[0], -1).astype(np.float32)\n",
    "X_test = X_test.reshape(X_test.shape[0], -1).astype(np.float32)\n",
    "print(X_train.shape)\n",
    "print(X_test.shape)"
   ]
  },
  {
   "cell_type": "code",
   "execution_count": 36,
   "metadata": {},
   "outputs": [],
   "source": [
    "import pickle\n",
    "# 获取数据\n",
    "def get_data():\n",
    "    (X_train, y_train), (X_test, y_test) = mnist.load_data()\n",
    "    # 先将数据拉平，不适用CNN那一套，暂时不需要空间信息\n",
    "    X_train = X_train.reshape(X_train.shape[0], -1).astype(np.float32)\n",
    "    X_test = X_test.reshape(X_test.shape[0], -1).astype(np.float32)\n",
    "    X_train /= 255\n",
    "    X_test /= 255\n",
    "    # 作者已经把模型训练给好了，所以这里只返回测试数据集\n",
    "    return X_test, y_test\n",
    "def init_network():\n",
    "    with open('./sample_weight.pkl', 'rb') as f:\n",
    "        network = pickle.load(f)\n",
    "    return network\n",
    "def predict(network, x):\n",
    "    W1, W2, W3 = network['W1'], network['W2'], network['W3']\n",
    "    b1, b2, b3 = network['b1'], network['b2'], network['b3']\n",
    "    A1 = np.dot(x, W1) + b1\n",
    "    Z1 = sigmoid(A1)\n",
    "    A2 = np.dot(Z1, W2) + b2\n",
    "    Z2 = sigmoid(A2)\n",
    "    A3 = np.dot(Z2, W3) + b3\n",
    "    y = softmax(A3)\n",
    "    return y"
   ]
  },
  {
   "cell_type": "code",
   "execution_count": 42,
   "metadata": {},
   "outputs": [
    {
     "name": "stdout",
     "output_type": "stream",
     "text": [
      "(784, 50)\n",
      "(50,)\n",
      "(50, 100)\n",
      "(100,)\n",
      "(100, 10)\n",
      "(10,)\n",
      "dict_keys(['b2', 'W1', 'b1', 'W2', 'W3', 'b3'])\n"
     ]
    }
   ],
   "source": [
    "# 再单独看一下network的结构\n",
    "network = init_network()\n",
    "# type(network)\n",
    "# print(network.values())\n",
    "print(network['W1'].shape)\n",
    "print(network['b1'].shape)\n",
    "print(network['W2'].shape)\n",
    "print(network['b2'].shape)\n",
    "print(network['W3'].shape)\n",
    "print(network['b3'].shape)\n",
    "# 作者专门做了一个三层的神经网络``\n",
    "print(network.keys())"
   ]
  },
  {
   "cell_type": "code",
   "execution_count": 41,
   "metadata": {},
   "outputs": [
    {
     "name": "stdout",
     "output_type": "stream",
     "text": [
      "[[0. 0. 0. ... 0. 0. 0.]\n",
      " [0. 0. 0. ... 0. 0. 0.]\n",
      " [0. 0. 0. ... 0. 0. 0.]\n",
      " ...\n",
      " [0. 0. 0. ... 0. 0. 0.]\n",
      " [0. 0. 0. ... 0. 0. 0.]\n",
      " [0. 0. 0. ... 0. 0. 0.]]\n",
      "(10000, 784)\n",
      "(10000,)\n",
      "Accuracy: 0.9352\n"
     ]
    }
   ],
   "source": [
    "# 开始秀了\n",
    "# 分别先拿到特征空间和标签空间\n",
    "x, t = get_data()\n",
    "print(x)\n",
    "print(x.shape)\n",
    "print(t.shape)\n",
    "network = init_network()\n",
    "# 初始化准确率\n",
    "accuracy_cnt = 0\n",
    "for i in range(len(x)):\n",
    "    # 用神经网络预测的值\n",
    "    y = predict(network, x[i])\n",
    "    # 概率最大的那个\n",
    "    p = np.argmax(y)\n",
    "    # 如果预测正确，+1\n",
    "    if p == t[i]:\n",
    "        accuracy_cnt += 1\n",
    "# 也就是说作者给的模型的准确率是0.94\n",
    "print(f'Accuracy: {accuracy_cnt / len(x)}')"
   ]
  },
  {
   "cell_type": "markdown",
   "metadata": {},
   "source": [
    "## 批处理\n",
    "- 在训练和测试神经网络时，把数据分割成一个个小的批次，每个批次里包含一定量的数据"
   ]
  }
 ],
 "metadata": {
  "interpreter": {
   "hash": "1021d31412234ebea20baf61e8fdbc8c22153a59dde70b52bcafccce89619e30"
  },
  "kernelspec": {
   "display_name": "Python 3.8.12 ('pytorch')",
   "language": "python",
   "name": "python3"
  },
  "language_info": {
   "codemirror_mode": {
    "name": "ipython",
    "version": 3
   },
   "file_extension": ".py",
   "mimetype": "text/x-python",
   "name": "python",
   "nbconvert_exporter": "python",
   "pygments_lexer": "ipython3",
   "version": "3.8.12"
  },
  "orig_nbformat": 4
 },
 "nbformat": 4,
 "nbformat_minor": 2
}
