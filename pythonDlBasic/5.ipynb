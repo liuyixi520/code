{
 "cells": [
  {
   "cell_type": "markdown",
   "metadata": {},
   "source": [
    "# 误差反向传播\n",
    "求解梯度有两种方法：\n",
    "- 上一章中的数值微分法\n",
    "- 本章中的反向传播法\n",
    "\n",
    "理解反向传播的过程有两种放方法：\n",
    "- 数学公式\n",
    "- 计算图\n",
    "\n",
    "使用计算图的好处：\n",
    "- 局部计算：无论计算图有多么复杂，都可以只关注局部的计算\n",
    "- 使用计算图可以更好地理解反向传播的过程\n",
    "- 使用计算图可以高效的计算梯度\n",
    "\n",
    "链式法则：\n",
    "- 定义：如果某个函数可以由复合函数表示，则该复合函数的导数可以由构成该符合函数的各个函数的导数乘积表示\n",
    "- 使用公式表达为：$$\\frac{\\partial f}{\\partial x} = \\prod \\limits_{i=0}^n \\frac{\\partial f_i}{\\partial x_i}$$\n",
    "- 加法节点的反向传播会将上游的值原封不动的传递给下游\n",
    "- 乘法节点的反向传播会将输入信号翻转后传给下游"
   ]
  },
  {
   "cell_type": "markdown",
   "metadata": {},
   "source": [
    "### 乘法层的实现\n",
    "- 将梯度翻转后传递给下游"
   ]
  },
  {
   "cell_type": "code",
   "execution_count": 7,
   "metadata": {},
   "outputs": [],
   "source": [
    "# 乘法层反向传播的简单实现\n",
    "class MulLayer:\n",
    "    def __init__(self):\n",
    "        # self.x = None\n",
    "        # self.y = None\n",
    "        pass\n",
    "\n",
    "    def forward(self, x, y):\n",
    "        self.x = x\n",
    "        self.y = y\n",
    "        out = x * y\n",
    "\n",
    "        return out\n",
    "\n",
    "    def backward(self, dout): #dout是上一层的梯度\n",
    "        dx = dout * self.y\n",
    "        dy = dout * self.x\n",
    "\n",
    "        return dx, dy"
   ]
  },
  {
   "cell_type": "code",
   "execution_count": 8,
   "metadata": {},
   "outputs": [
    {
     "name": "stdout",
     "output_type": "stream",
     "text": [
      "apple_price: 200\n",
      "tax_price: 220.00000000000003\n",
      "grad_apple_price:1.1\n",
      "grad_tax:200\n",
      "grad_apple:2.2\n",
      "grad_apple_num:110.00000000000001\n"
     ]
    }
   ],
   "source": [
    "# 测试乘法层的正向、反向传播\n",
    "apple = 100\n",
    "apple_num = 2\n",
    "tax = 1.1\n",
    "\n",
    "# layer\n",
    "mul_apple_layer = MulLayer()\n",
    "mul_tax_layer = MulLayer()\n",
    "\n",
    "# forward\n",
    "apple_price = mul_apple_layer.forward(apple, apple_num)\n",
    "price = mul_tax_layer.forward(apple_price, tax)\n",
    "\n",
    "print(f'apple_price: {apple_price}')\n",
    "print(f'tax_price: {price}')\n",
    "\n",
    "# backforward\n",
    "# 最终价格自己关于自己的梯度是1\n",
    "dprice = 1\n",
    "dapple_price, dtax = mul_tax_layer.backward(dprice)\n",
    "dapple, dapple_num = mul_apple_layer.backward(dapple_price)\n",
    "print(f'grad_apple_price:{dapple_price}')\n",
    "print(f'grad_tax:{dtax}')\n",
    "print(f'grad_apple:{dapple}')\n",
    "print(f'grad_apple_num:{dapple_num}')"
   ]
  },
  {
   "cell_type": "markdown",
   "metadata": {},
   "source": [
    "### 加法层的实现\n",
    "- 将梯度原封不动的传递给下游"
   ]
  },
  {
   "cell_type": "code",
   "execution_count": 9,
   "metadata": {},
   "outputs": [],
   "source": [
    "class AddLayer:\n",
    "    def __init__(self):\n",
    "        pass\n",
    "    def forward(self, x, y):\n",
    "        out = x + y\n",
    "        return out\n",
    "    def backward(self, dout):\n",
    "        dx = dout * 1\n",
    "        dy = dout * 1\n",
    "        return dx, dy"
   ]
  },
  {
   "cell_type": "code",
   "execution_count": 12,
   "metadata": {},
   "outputs": [
    {
     "name": "stdout",
     "output_type": "stream",
     "text": [
      "这里是正向传播的过程\n",
      "apple_price:200\n",
      "orange_price:450\n",
      "all_price:650\n",
      "tax_price:715.0000000000001\n",
      "这里是反向传播的梯度\n",
      "dall_price:1.1\n",
      "dtax:650\n",
      "d_add_apple_price:1.1\n",
      "d_add_orange_price:1.1\n",
      "dorange_price:3.3000000000000003\n",
      "dorange_num:165.0\n",
      "dapple_price:2.2\n",
      "dapple_num:110.00000000000001\n"
     ]
    }
   ],
   "source": [
    "# 加法层和乘法层的混合测试\n",
    "apple = 100\n",
    "apple_num = 2\n",
    "orange = 150\n",
    "orange_num = 3\n",
    "tax = 1.1\n",
    "\n",
    "# layer\n",
    "apple_layer = MulLayer()\n",
    "orange_layer = MulLayer()\n",
    "add_apple_orange_layer = AddLayer()\n",
    "mul_tax_layer = MulLayer()\n",
    "\n",
    "# forward\n",
    "apple_price = apple_layer.forward(apple, apple_num)\n",
    "orange_price = orange_layer.forward(orange, orange_num)\n",
    "all_price = add_apple_orange_layer.forward(apple_price, orange_price)\n",
    "price = mul_tax_layer.forward(all_price, tax)\n",
    "\n",
    "# backward\n",
    "dprice = 1\n",
    "dall_price, dtax = mul_tax_layer.backward(dprice)\n",
    "d_add_apple_price, d_add_orange_price = add_apple_orange_layer.backward(dall_price)\n",
    "dorange_price, dorange_num = orange_layer.backward(d_add_orange_price)\n",
    "dapple_price, dapple_num = apple_layer.backward(d_add_apple_price)\n",
    "\n",
    "# 查看正向传播的过程\n",
    "print('这里是正向传播的过程')\n",
    "print(f'apple_price:{apple_price}')\n",
    "print(f'orange_price:{orange_price}')\n",
    "print(f'all_price:{all_price}')\n",
    "print(f'tax_price:{price}')\n",
    "\n",
    "# 查看反向传播的梯度\n",
    "print('这里是反向传播的梯度')\n",
    "print(f'dall_price:{dall_price}')\n",
    "print(f'dtax:{dtax}')\n",
    "print(f'd_add_apple_price:{d_add_apple_price}')\n",
    "print(f'd_add_orange_price:{d_add_orange_price}')\n",
    "print(f'dorange_price:{dorange_price}')\n",
    "print(f'dorange_num:{dorange_num}')\n",
    "print(f'dapple_price:{dapple_price}')\n",
    "print(f'dapple_num:{dapple_num}')"
   ]
  },
  {
   "cell_type": "markdown",
   "metadata": {},
   "source": [
    "### ReLU层的实现\n",
    "- 当x>0时，将信号原封不动的传递给下游\n",
    "- 当x<=0时，传递给下游的信号将在这里终止"
   ]
  },
  {
   "cell_type": "code",
   "execution_count": 1,
   "metadata": {},
   "outputs": [],
   "source": [
    "class ReluLayer():\n",
    "    def __init__(self):\n",
    "        pass\n",
    "    def forward(self, x):\n",
    "        self.mask = (x<=0)\n",
    "        out = x.copy()\n",
    "        out[self.mask] = 0\n",
    "        return out\n",
    "    def backward(self, dout):\n",
    "        dout[self.mask]=0\n",
    "        dx = dout\n",
    "        return dx"
   ]
  },
  {
   "cell_type": "markdown",
   "metadata": {},
   "source": [
    "# Sigmoid层的实现\n",
    "- 上面加法和乘法层的实现，用的是具体的数值来向下游反向传递梯度的，这里的梯度就是具体的值\n",
    "- Sigmoid这里直接用的函数的导数，把导数当成梯度，向下游传递把导数当成梯度反向传递"
   ]
  },
  {
   "cell_type": "code",
   "execution_count": 2,
   "metadata": {},
   "outputs": [],
   "source": [
    "import numpy as np\n",
    "class Sigmoid:\n",
    "    def __init__(self):\n",
    "        self.out = None\n",
    "    def forward(self, x):\n",
    "        out = 1 / (1 + np.exp(-x))\n",
    "        self.out = out\n",
    "        return out\n",
    "    # 这里用了比较多的数学推导\n",
    "    def backward(self, dout):\n",
    "        dx = dout * (1.0 - self.out) * self.out\n",
    "        return dx"
   ]
  },
  {
   "cell_type": "markdown",
   "metadata": {},
   "source": [
    "## Affine/Softmax层的实现\n",
    "### Affine"
   ]
  },
  {
   "cell_type": "code",
   "execution_count": 5,
   "metadata": {},
   "outputs": [
    {
     "name": "stdout",
     "output_type": "stream",
     "text": [
      "(2,)\n",
      "(2, 3)\n",
      "(3,)\n",
      "[ 6. 13. 20.]\n",
      "(3,)\n"
     ]
    }
   ],
   "source": [
    "# Affine层的正向传播示例\n",
    "X = np.array([1.0, 2.0])\n",
    "W = np.array([[1.0, 3.0, 5.0], [2.0, 4.0, 6.0]])\n",
    "b = np.array([1.0, 2.0, 3.0])\n",
    "print(X.shape)\n",
    "print(W.shape)\n",
    "print(b.shape)\n",
    "\n",
    "# 仿射变换\n",
    "Y = np.dot(X, W) + b\n",
    "print(Y)\n",
    "print(Y.shape)"
   ]
  },
  {
   "cell_type": "code",
   "execution_count": 13,
   "metadata": {},
   "outputs": [],
   "source": [
    "# Affine层的定义\n",
    "import numpy as np\n",
    "class AffineLayer:\n",
    "    # 初始化权重和偏置\n",
    "    def __init__(self, W, b):\n",
    "        self.W = W\n",
    "        self.b = b\n",
    "        self.x = None\n",
    "        self.dW = None\n",
    "        self.db = None\n",
    "    def forward(self, x):\n",
    "        self.x = x\n",
    "        out = np.dot(x, self.W) + self.b\n",
    "        return out\n",
    "    # 可以简单的将点积理解为标量乘法，所以在反向传播时，要将信号翻转\n",
    "    # 正向传播是dout的形状是一定的，反向传播是当前的的梯度要和当前数据形状一致\n",
    "    def backward(self, dout):\n",
    "        dx = np.dot(dout, self.W.T)\n",
    "        self.dW = np.dot(self.x.T, dout)\n",
    "        self.db = np.sum(dout, axis=0)\n",
    "        return dx"
   ]
  },
  {
   "cell_type": "markdown",
   "metadata": {},
   "source": [
    "### softmax-with-loss层\n",
    "- softmax层最后的反向传播的梯度是：$y-t$\n",
    "- 这么漂亮的结果不是偶然得到的，而是交叉熵和softmax结合的结果，设计出来的"
   ]
  },
  {
   "cell_type": "code",
   "execution_count": 20,
   "metadata": {},
   "outputs": [],
   "source": [
    "%run ./common/functions.py"
   ]
  },
  {
   "cell_type": "code",
   "execution_count": 21,
   "metadata": {},
   "outputs": [],
   "source": [
    "# softmax层的定义\n",
    "from common.functions import softmax\n",
    "class SoftmaxLayer:\n",
    "    def __init__(self):\n",
    "        self.loss = None\n",
    "        self.y = None\n",
    "        self.t = None\n",
    "    def forward(self, x, t):\n",
    "        self.t = t\n",
    "        self.y = softmax(x)\n",
    "        self.loss = cross_entropy_error(self.y, self.t)\n",
    "        return self.loss\n",
    "    def backward(self, dout=1):\n",
    "        batch_size = self.t.shape[0]\n",
    "        dx = (self.y - self.t) / batch_size\n",
    "        return dx"
   ]
  },
  {
   "cell_type": "markdown",
   "metadata": {},
   "source": [
    "## 误差反向传播的全貌\n",
    "### 神将网络学习的全貌\n",
    "- 前提：选择合适的权重、偏置。神将网络学习的整个过程就是在假设空间中寻找最合适的假设，即寻找最合适的权重、偏置\n",
    "- 学习的过程分为一下三个部分\n",
    "  - 选择一个mini-batch，然后计算整个batch的loss，最后会用权重和偏置的形式表达出来\n",
    "  - 计算每一个参数的梯度：给每一参数加上delta，然后f(x+delta) - f(x-delta) / 2delta就可以计算出来每个参数在这个假设空间下的梯度\n",
    "  - 使用当前的值减去学习率和梯度的乘积，更新参数\n",
    "  - 重复上面的三个过程，一定会让问题得到收敛，最后的loss在不断的减小\n",
    "- 上面这个过程虽然简单，但是在计算梯度时，开销太大了，具体表现为每次更新梯度时，有多少个参数，都要计算多少次，所以这一章中使用的是计算图来计算梯度"
   ]
  }
 ],
 "metadata": {
  "interpreter": {
   "hash": "1021d31412234ebea20baf61e8fdbc8c22153a59dde70b52bcafccce89619e30"
  },
  "kernelspec": {
   "display_name": "Python 3.8.12 ('pytorch')",
   "language": "python",
   "name": "python3"
  },
  "language_info": {
   "codemirror_mode": {
    "name": "ipython",
    "version": 3
   },
   "file_extension": ".py",
   "mimetype": "text/x-python",
   "name": "python",
   "nbconvert_exporter": "python",
   "pygments_lexer": "ipython3",
   "version": "3.8.12"
  },
  "orig_nbformat": 4
 },
 "nbformat": 4,
 "nbformat_minor": 2
}
