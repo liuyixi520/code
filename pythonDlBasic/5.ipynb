{
 "cells": [
  {
   "cell_type": "markdown",
   "metadata": {},
   "source": [
    "# 误差反向传播\n",
    "理解反向传播的过程有两种放方法：\n",
    "- 数学公式\n",
    "- 计算图"
   ]
  }
 ],
 "metadata": {
  "language_info": {
   "name": "python"
  },
  "orig_nbformat": 4
 },
 "nbformat": 4,
 "nbformat_minor": 2
}
