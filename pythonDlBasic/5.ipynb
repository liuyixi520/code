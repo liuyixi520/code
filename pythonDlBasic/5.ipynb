{
 "cells": [
  {
   "cell_type": "markdown",
   "metadata": {},
   "source": [
    "# 误差反向传播\n",
    "求解梯度有两种方法：\n",
    "- 上一章中的数值微分法\n",
    "- 本章中的反向传播法\n",
    "\n",
    "理解反向传播的过程有两种放方法：\n",
    "- 数学公式\n",
    "- 计算图\n",
    "\n",
    "使用计算图的好处：\n",
    "- 使用计算图可以更好地理解反向传播的过程\n",
    "- 使用计算图可以高效的计算梯度\n",
    "\n",
    "链式法则：\n",
    "- 定义：如果某个函数可以由复合函数表示，则该复合函数的导数可以由构成该符合函数的各个函数的导数乘积表示\n",
    "- 使用公式表达为：$$\\frac{\\partial f}{\\partial x} = \\prod \\limits_{i=0}^n \\frac{\\partial f_i}{\\partial x_i}$$\n",
    "- 乘法节点的反向传播会将输入信号翻转后传给下游\n",
    "- 加法节点的反向传播会将1传给下游"
   ]
  },
  {
   "cell_type": "code",
   "execution_count": 1,
   "metadata": {},
   "outputs": [],
   "source": [
    "# 乘法层反向传播的简单实现\n",
    "class MulLayer:\n",
    "    def __init__(self):\n",
    "        self.x = None\n",
    "        self.y = None\n",
    "\n",
    "    def forward(self, x, y):\n",
    "        self.x = x\n",
    "        self.y = y\n",
    "        out = x * y\n",
    "\n",
    "        return out\n",
    "\n",
    "    def backward(self, dout):\n",
    "        dx = dout * self.y\n",
    "        dy = dout * self.x\n",
    "\n",
    "        return dx, dy"
   ]
  },
  {
   "cell_type": "code",
   "execution_count": 3,
   "metadata": {},
   "outputs": [
    {
     "name": "stdout",
     "output_type": "stream",
     "text": [
      "apple_price: 200\n",
      "price: 220.00000000000003\n",
      "1.1 200 2.2 110.00000000000001\n"
     ]
    }
   ],
   "source": [
    "# 测试乘法层的正向、反向传播\n",
    "apple = 100\n",
    "apple_num = 2\n",
    "tax = 1.1\n",
    "\n",
    "# layer\n",
    "mul_apple_layer = MulLayer()\n",
    "mul_tax_layer = MulLayer()\n",
    "\n",
    "# forward\n",
    "apple_price = mul_apple_layer.forward(apple, apple_num)\n",
    "price = mul_tax_layer.forward(apple_price, tax)\n",
    "\n",
    "print(f'apple_price: {apple_price}')\n",
    "print(f'price: {price}')\n",
    "\n",
    "# backforward\n",
    "# 最终价格自己关于自己的梯度是1\n",
    "dprice = 1\n",
    "dapple_price, dtax = mul_tax_layer.backward(dprice)\n",
    "dapple, dapple_num = mul_apple_layer.backward(dapple_price)\n",
    "print(dapple_price, dtax, dapple, dapple_num)"
   ]
  },
  {
   "cell_type": "code",
   "execution_count": null,
   "metadata": {},
   "outputs": [],
   "source": []
  }
 ],
 "metadata": {
  "interpreter": {
   "hash": "1021d31412234ebea20baf61e8fdbc8c22153a59dde70b52bcafccce89619e30"
  },
  "kernelspec": {
   "display_name": "Python 3.8.12 ('pytorch')",
   "language": "python",
   "name": "python3"
  },
  "language_info": {
   "codemirror_mode": {
    "name": "ipython",
    "version": 3
   },
   "file_extension": ".py",
   "mimetype": "text/x-python",
   "name": "python",
   "nbconvert_exporter": "python",
   "pygments_lexer": "ipython3",
   "version": "3.8.12"
  },
  "orig_nbformat": 4
 },
 "nbformat": 4,
 "nbformat_minor": 2
}
