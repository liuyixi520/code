{
 "cells": [
  {
   "cell_type": "markdown",
   "metadata": {},
   "source": [
    "# 误差反向传播\n",
    "求解梯度有两种方法：\n",
    "- 上一章中的数值微分法\n",
    "- 本章中的反向传播法\n",
    "\n",
    "理解反向传播的过程有两种放方法：\n",
    "- 数学公式\n",
    "- 计算图\n",
    "\n",
    "使用计算图的好处：\n",
    "- 局部计算：无论计算图有多么复杂，都可以只关注局部的计算\n",
    "- 使用计算图可以更好地理解反向传播的过程\n",
    "- 使用计算图可以高效的计算梯度\n",
    "\n",
    "链式法则：\n",
    "- 定义：如果某个函数可以由复合函数表示，则该复合函数的导数可以由构成该符合函数的各个函数的导数乘积表示\n",
    "- 使用公式表达为：$$\\frac{\\partial f}{\\partial x} = \\prod \\limits_{i=0}^n \\frac{\\partial f_i}{\\partial x_i}$$\n",
    "- 加法节点的反向传播会将上游的值原封不动的传递给下游\n",
    "- 乘法节点的反向传播会将输入信号翻转后传给下游"
   ]
  },
  {
   "cell_type": "markdown",
   "metadata": {},
   "source": [
    "### 乘法层的实现\n",
    "- 将梯度翻转后传递给下游"
   ]
  },
  {
   "cell_type": "code",
   "execution_count": 3,
   "metadata": {},
   "outputs": [],
   "source": [
    "# 乘法层反向传播的简单实现\n",
    "class MulLayer:\n",
    "    def __init__(self):\n",
    "        # self.x = None\n",
    "        # self.y = None\n",
    "        pass\n",
    "\n",
    "    def forward(self, x, y):\n",
    "        self.x = x\n",
    "        self.y = y\n",
    "        out = x * y\n",
    "\n",
    "        return out\n",
    "\n",
    "    def backward(self, dout):\n",
    "        dx = dout * self.y\n",
    "        dy = dout * self.x\n",
    "\n",
    "        return dx, dy"
   ]
  },
  {
   "cell_type": "code",
   "execution_count": 4,
   "metadata": {},
   "outputs": [
    {
     "name": "stdout",
     "output_type": "stream",
     "text": [
      "apple_price: 200\n",
      "tax_price: 220.00000000000003\n",
      "grad_apple_price:1.1\n",
      "grad_tax:200\n",
      "grad_apple:2.2\n",
      "grad_apple_num:110.00000000000001\n"
     ]
    }
   ],
   "source": [
    "# 测试乘法层的正向、反向传播\n",
    "apple = 100\n",
    "apple_num = 2\n",
    "tax = 1.1\n",
    "\n",
    "# layer\n",
    "mul_apple_layer = MulLayer()\n",
    "mul_tax_layer = MulLayer()\n",
    "\n",
    "# forward\n",
    "apple_price = mul_apple_layer.forward(apple, apple_num)\n",
    "price = mul_tax_layer.forward(apple_price, tax)\n",
    "\n",
    "print(f'apple_price: {apple_price}')\n",
    "print(f'tax_price: {price}')\n",
    "\n",
    "# backforward\n",
    "# 最终价格自己关于自己的梯度是1\n",
    "dprice = 1\n",
    "dapple_price, dtax = mul_tax_layer.backward(dprice)\n",
    "dapple, dapple_num = mul_apple_layer.backward(dapple_price)\n",
    "print(f'grad_apple_price:{dapple_price}')\n",
    "print(f'grad_tax:{dtax}')\n",
    "print(f'grad_apple:{dapple}')\n",
    "print(f'grad_apple_num:{dapple_num}')"
   ]
  },
  {
   "cell_type": "markdown",
   "metadata": {},
   "source": [
    "### 加法层的实现\n",
    "- 将梯度原封不动的传递给下游"
   ]
  },
  {
   "cell_type": "code",
   "execution_count": 5,
   "metadata": {},
   "outputs": [],
   "source": [
    "class AddLayer:\n",
    "    def __init__(self):\n",
    "        pass\n",
    "    def forward(self, x, y):\n",
    "        out = x + y\n",
    "        return out\n",
    "    def backward(self, dout):\n",
    "        dx = dout * 1\n",
    "        dy = dout * 1\n",
    "        return dx, dy"
   ]
  },
  {
   "cell_type": "code",
   "execution_count": 6,
   "metadata": {},
   "outputs": [
    {
     "name": "stdout",
     "output_type": "stream",
     "text": [
      "grad_apple_price:2.2\n",
      "grad_orange_price:3.3000000000000003\n",
      "grad_tax:650\n",
      "grad_apple:110.00000000000001\n",
      "grad_orange:165.0\n"
     ]
    }
   ],
   "source": [
    "apple = 100\n",
    "apple_num = 2\n",
    "orange = 150\n",
    "orange_num = 3\n",
    "tax = 1.1\n",
    "\n",
    "# layer\n",
    "apple_layer = MulLayer()\n",
    "orange_layer = MulLayer()\n",
    "add_apple_orange_layer = AddLayer()\n",
    "mul_tax_layer = MulLayer()\n",
    "\n",
    "# forward\n",
    "apple_price = apple_layer.forward(apple, apple_num)\n",
    "orange_price = orange_layer.forward(orange, orange_num)\n",
    "all_price = add_apple_orange_layer.forward(apple_price, orange_price)\n",
    "price = mul_tax_layer.forward(all_price, tax)\n",
    "\n",
    "# backward\n",
    "dprice = 1\n",
    "dall_price, dtax = mul_tax_layer.backward(dprice)\n",
    "dapple_price, dorange_price = add_apple_orange_layer.backward(dall_price)\n",
    "dorange_price, dorange_num = orange_layer.backward(dorange_price)\n",
    "dapple_price, dapple_num = apple_layer.backward(dapple_price)\n",
    "\n",
    "# 查看反向传播的梯度\n",
    "print(f'grad_apple_price:{dapple_price}')\n",
    "print(f'grad_orange_price:{dorange_price}')\n",
    "print(f'grad_tax:{dtax}')\n",
    "print(f'grad_apple:{dapple_num}')\n",
    "print(f'grad_orange:{dorange_num}')\n"
   ]
  },
  {
   "cell_type": "markdown",
   "metadata": {},
   "source": [
    "### ReLU层的实现\n",
    "- 当x>0时，将信号原封不动的传递给下游\n",
    "- 当x<=0时，传递给下游的信号将在这里终止"
   ]
  },
  {
   "cell_type": "code",
   "execution_count": 1,
   "metadata": {},
   "outputs": [],
   "source": [
    "class ReluLayer():\n",
    "    def __init__(self):\n",
    "        pass\n",
    "    def forward(self, x):\n",
    "        self.mask = (x<=0)\n",
    "        out = x.copy()\n",
    "        out[self.mask] = 0\n",
    "        return out\n",
    "    def backward(self, dout):\n",
    "        dout[self.mask]=0\n",
    "        dx = dout\n",
    "        return dx"
   ]
  },
  {
   "cell_type": "markdown",
   "metadata": {},
   "source": [
    "# Sigmoid层的实现\n",
    "- 上面加法和乘法层的实现，用的是具体的数值来向下游反向传递梯度的，这里的梯度就是具体的值\n",
    "- Sigmoid这里直接用的函数的导数，把导数当成梯度，向下游传递把导数当成梯度反向传递"
   ]
  },
  {
   "cell_type": "code",
   "execution_count": null,
   "metadata": {},
   "outputs": [],
   "source": [
    "import numpy as np\n",
    "class Sigmoid:\n",
    "    def __init__(self):\n",
    "        self.out = None\n",
    "    def forward(self, x):\n",
    "        out = 1 / (1 + np.exp(-x))\n",
    "        self.out = out\n",
    "        return out\n",
    "    # 这里用了比较多的数学推导\n",
    "    def backward(self, dout):\n",
    "        dx = dout * (1.0 - self.out) * self.out\n",
    "        return dx"
   ]
  }
 ],
 "metadata": {
  "interpreter": {
   "hash": "1021d31412234ebea20baf61e8fdbc8c22153a59dde70b52bcafccce89619e30"
  },
  "kernelspec": {
   "display_name": "Python 3.8.12 ('pytorch')",
   "language": "python",
   "name": "python3"
  },
  "language_info": {
   "codemirror_mode": {
    "name": "ipython",
    "version": 3
   },
   "file_extension": ".py",
   "mimetype": "text/x-python",
   "name": "python",
   "nbconvert_exporter": "python",
   "pygments_lexer": "ipython3",
   "version": "3.8.12"
  },
  "orig_nbformat": 4
 },
 "nbformat": 4,
 "nbformat_minor": 2
}
