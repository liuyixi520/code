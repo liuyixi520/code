{
 "cells": [
  {
   "cell_type": "markdown",
   "metadata": {},
   "source": [
    "# 自然语言和单词的分布式表示\n",
    "- 编程语言是一种“硬语言”，自然语言是一种“软语言”\n",
    "- 单词的含义：语言是由文字构成的，单词是文字的一部分，单词的含义是文字的意义。所以让计算机去理解单词的含义才是重点，让计算机理解单词的含义分为以下三种方法：\n",
    "  - 基于同义词的字典方法\n",
    "  - 基于计数的方法\n",
    "  - 基于推理的方法\n",
    "## 基于同义词的字典方法\n",
    "像做新华字典那样：人为的设计同义词、上位-下位、整体-部分。知名的同义词字典方法：WordNet。使用同义词字典存在的问题：\n",
    "- 难以顺应时代的变化\n",
    "- 主要靠人，后期人力维护成本高"
   ]
  },
  {
   "cell_type": "markdown",
   "metadata": {},
   "source": [
    "## 基于计数的方法\n",
    "- 语料库\n",
    "- 将单词要转变成向量"
   ]
  },
  {
   "cell_type": "code",
   "execution_count": 1,
   "metadata": {},
   "outputs": [
    {
     "name": "stdout",
     "output_type": "stream",
     "text": [
      "you say goodbey and i say hello .\n"
     ]
    },
    {
     "data": {
      "text/plain": [
       "['you', 'say', 'goodbey', 'and', 'i', 'say', 'hello', '.']"
      ]
     },
     "execution_count": 1,
     "metadata": {},
     "output_type": "execute_result"
    }
   ],
   "source": [
    "# 语料库预处理小案例\n",
    "text = 'you say goodbey and I say hello.'\n",
    "text = text.lower()\n",
    "text = text.replace('.', ' .')\n",
    "print(text)\n",
    "words = text.split(' ')\n",
    "words"
   ]
  },
  {
   "cell_type": "code",
   "execution_count": 2,
   "metadata": {},
   "outputs": [
    {
     "name": "stdout",
     "output_type": "stream",
     "text": [
      "word_to_id:{'you': 0, 'say': 1, 'goodbey': 2, 'and': 3, 'i': 4, 'hello': 5, '.': 6}\n",
      "id_to_word:{0: 'you', 1: 'say', 2: 'goodbey', 3: 'and', 4: 'i', 5: 'hello', 6: '.'}\n"
     ]
    }
   ],
   "source": [
    "# 将词和字典互转\n",
    "word_to_id = {}\n",
    "id_to_word = {}\n",
    "for word in words:\n",
    "    # 排除掉重复元素\n",
    "    if word not in word_to_id:\n",
    "        idx = len(word_to_id)\n",
    "        word_to_id[word] = idx\n",
    "        id_to_word[idx] = word\n",
    "print(f'word_to_id:{word_to_id}')\n",
    "print(f'id_to_word:{id_to_word}')"
   ]
  },
  {
   "cell_type": "code",
   "execution_count": 3,
   "metadata": {},
   "outputs": [
    {
     "name": "stdout",
     "output_type": "stream",
     "text": [
      "text_id:[0, 1, 2, 3, 4, 1, 5, 6]\n"
     ]
    }
   ],
   "source": [
    "# 再将词转换为id，这里id可以重复\n",
    "text_id = [word_to_id[word] for word in words]\n",
    "print(f'text_id:{text_id}')"
   ]
  },
  {
   "cell_type": "code",
   "execution_count": 4,
   "metadata": {},
   "outputs": [
    {
     "data": {
      "text/plain": [
       "(array([0, 1, 2, 3, 4, 1, 5, 6]),\n",
       " {'you': 0, 'say': 1, 'goodbey': 2, 'and': 3, 'i': 4, 'hello': 5, '.': 6},\n",
       " {0: 'you', 1: 'say', 2: 'goodbey', 3: 'and', 4: 'i', 5: 'hello', 6: '.'})"
      ]
     },
     "execution_count": 4,
     "metadata": {},
     "output_type": "execute_result"
    }
   ],
   "source": [
    "# 将上面的过程定义成一个函数\n",
    "import numpy as np\n",
    "def preprocess(text):\n",
    "    text = text.lower()\n",
    "    text = text.replace('.', ' .')\n",
    "    words = text.split(' ')\n",
    "    word_to_id = {}\n",
    "    id_to_word = {} \n",
    "    for word in words:\n",
    "        if word not in word_to_id:\n",
    "            idx = len(word_to_id)\n",
    "            word_to_id[word] = idx\n",
    "            id_to_word[idx] = word\n",
    "    corpus = np.array([word_to_id[word] for word in words])\n",
    "    return corpus, word_to_id, id_to_word\n",
    "text = 'you say goodbey and I say hello.'\n",
    "preprocess(text)"
   ]
  },
  {
   "cell_type": "markdown",
   "metadata": {},
   "source": [
    "### 分布式假设\n",
    "- 单词本身并么有意义，单词的含义是由它的上下文决定的\n",
    "### 共现矩阵\n",
    "- 用单词的上下文来描述单词\n",
    "- 共现矩阵是一个方阵，它的大小是语料库中单词的个数\n",
    "- 共现矩阵是沿着对角线对称的矩阵，因为它的第i行和第i列都是表达第i个单词的上下文\n",
    "- 共现矩阵只能简单的描述那些单词是我的上下文，而不能描述清楚这些上下文和自己的关联究竟有多强，这就是后面要使用PPMI的原因"
   ]
  },
  {
   "cell_type": "code",
   "execution_count": 5,
   "metadata": {},
   "outputs": [
    {
     "name": "stdout",
     "output_type": "stream",
     "text": [
      "[0 1 2 3 4 1 5 6]\n",
      "[[0 1 0 0 0 0 0]\n",
      " [1 0 1 0 1 1 0]\n",
      " [0 1 0 1 0 0 0]\n",
      " [0 0 1 0 1 0 0]\n",
      " [0 1 0 1 0 0 0]\n",
      " [0 1 0 0 0 0 1]\n",
      " [0 0 0 0 0 1 0]]\n"
     ]
    }
   ],
   "source": [
    "# 共现矩阵示例\n",
    "text = 'you say goodbey and I say hello.'\n",
    "corpus, word_to_id, id_to_word = preprocess(text)\n",
    "def create_co_matrix(corpus, vocab_size, window_size=1):\n",
    "    corpus_size = len(corpus)\n",
    "    co_matrix = np.zeros((vocab_size, vocab_size), dtype=np.int32)\n",
    "    for idx, word_id in enumerate(corpus):\n",
    "        for i in range(1, window_size + 1):\n",
    "            left_idx = idx - i\n",
    "            right_idx = idx + i\n",
    "            # 左边界，第一个单词的左边界需要考虑\n",
    "            # word_id的长度已经是单词的个数了，所以重复的单词不会被考虑了\n",
    "            if left_idx >= 0:\n",
    "                left_word_id = corpus[left_idx]\n",
    "                co_matrix[word_id, left_word_id] += 1\n",
    "            if right_idx < corpus_size:\n",
    "                right_word_id = corpus[right_idx]\n",
    "                co_matrix[word_id, right_word_id] += 1\n",
    "    return co_matrix\n",
    "print(corpus)\n",
    "vocab_size = len(word_to_id)\n",
    "co_matrix = create_co_matrix(corpus, vocab_size)\n",
    "print(co_matrix)"
   ]
  },
  {
   "cell_type": "markdown",
   "metadata": {},
   "source": [
    "### 余弦相似度\n",
    "- 判定两个单词（向量）的相似成都\n",
    "- 用公式表示为：\n",
    "  $$\n",
    "  cos(A, B) = \\frac{A \\cdot B}{||A|| \\cdot ||B||}\n",
    "  $$   "
   ]
  },
  {
   "cell_type": "code",
   "execution_count": 6,
   "metadata": {},
   "outputs": [
    {
     "name": "stdout",
     "output_type": "stream",
     "text": [
      "co_matrix:\n",
      "[[0 1 0 0 0 0 0]\n",
      " [1 0 1 0 1 1 0]\n",
      " [0 1 0 1 0 0 0]\n",
      " [0 0 1 0 1 0 0]\n",
      " [0 1 0 1 0 0 0]\n",
      " [0 1 0 0 0 0 1]\n",
      " [0 0 0 0 0 1 0]]\n",
      "you_v:\n",
      "[0 1 0 0 0 0 0]\n",
      "i_v:\n",
      "[0 1 0 1 0 0 0]\n",
      "cos_similarity(you_v, i_v):0.7071067691154799\n"
     ]
    }
   ],
   "source": [
    "# 余弦相似度代码实现\n",
    "def cos_similarity(x, y, eps=1e-8):\n",
    "    nx = x / (np.sqrt(np.sum(x ** 2)) + eps)\n",
    "    ny = y / (np.sqrt(np.sum(y ** 2)) + eps)\n",
    "    return np.dot(nx, ny)\n",
    "\n",
    "text = 'you say goodbey and I say hello.'\n",
    "corpus, word_to_id, id_to_word = preprocess(text)\n",
    "vocab_size = len(word_to_id)\n",
    "co_matrix = create_co_matrix(corpus, vocab_size)\n",
    "print(f'co_matrix:\\n{co_matrix}')\n",
    "\n",
    "you_v = co_matrix[word_to_id['you']]\n",
    "i_v = co_matrix[word_to_id['i']]\n",
    "print(f'you_v:\\n{you_v}')\n",
    "print(f'i_v:\\n{i_v}')\n",
    "print(f'cos_similarity(you_v, i_v):{cos_similarity(you_v, i_v)}')"
   ]
  },
  {
   "cell_type": "markdown",
   "metadata": {},
   "source": [
    "## 基于计数的方法改进\n",
    "### 点互信息\n",
    "- 英文缩PMI：为了解决高频词汇相似度比较高的问题\n",
    "- 英文缩写PPMI：为了解决无穷小的问题，引入点交互信息的概念\n",
    "- 共现矩阵只是简单的一些0，1。需要使用余弦相似度才能计算出来两个单词的相似度\n",
    "- 将共现矩阵转化为正点互信息矩阵，可以更加好的描绘出单词上下文对他的贡献\n",
    "- 但是当一个语料库变大时，去计算共现矩阵或者点互信息矩阵的时间复杂度会变得很高"
   ]
  },
  {
   "cell_type": "code",
   "execution_count": 7,
   "metadata": {},
   "outputs": [
    {
     "name": "stdout",
     "output_type": "stream",
     "text": [
      "co_matrix:\n",
      "[[0 1 0 0 0 0 0]\n",
      " [1 0 1 0 1 1 0]\n",
      " [0 1 0 1 0 0 0]\n",
      " [0 0 1 0 1 0 0]\n",
      " [0 1 0 1 0 0 0]\n",
      " [0 1 0 0 0 0 1]\n",
      " [0 0 0 0 0 1 0]]\n",
      "W:\n",
      "[[0.        1.8073549 0.        0.        0.        0.        0.       ]\n",
      " [1.8073549 0.        0.8073549 0.        0.8073549 0.8073549 0.       ]\n",
      " [0.        0.8073549 0.        1.8073549 0.        0.        0.       ]\n",
      " [0.        0.        1.8073549 0.        1.8073549 0.        0.       ]\n",
      " [0.        0.8073549 0.        1.8073549 0.        0.        0.       ]\n",
      " [0.        0.8073549 0.        0.        0.        0.        2.807355 ]\n",
      " [0.        0.        0.        0.        0.        2.807355  0.       ]]\n"
     ]
    }
   ],
   "source": [
    "# 正点互信息矩阵\n",
    "import numpy as np\n",
    "def ppmi(C, verbose=False, eps=1e-8):\n",
    "    M = np.zeros_like(C, dtype=np.float32)\n",
    "    # 共现矩阵中所有不为0的元素的个数\n",
    "    N = np.sum(C)\n",
    "    # 共现矩阵中每一行上下文的个数\n",
    "    S = np.sum(C, axis=0)\n",
    "    total = C.shape[0] * C.shape[1]\n",
    "    cnt = 0\n",
    "    for i in range(C.shape[0]):\n",
    "        for j in range(C.shape[1]):\n",
    "            pmi = np.log2(C[i, j] * N / (S[j] * S[i]) + eps)\n",
    "            M[i, j] = max(0, pmi)\n",
    "            if verbose:\n",
    "                cnt += 1\n",
    "                if cnt % 101 == 0:\n",
    "                    print(f'{cnt}/{total}')\n",
    "    return M\n",
    "\n",
    "text = 'you say goodbey and I say hello.'\n",
    "corpus, word_to_id, id_to_word = preprocess(text)\n",
    "vocab_size = len(word_to_id)\n",
    "co_matrix = create_co_matrix(corpus, vocab_size)\n",
    "print(f'co_matrix:\\n{co_matrix}')\n",
    "W = ppmi(co_matrix)\n",
    "print(f'W:\\n{W}')"
   ]
  },
  {
   "cell_type": "markdown",
   "metadata": {},
   "source": [
    "### 降维\n",
    "- 这里主要使用SVD（奇异值分解）的方式降维\n",
    "- 在这个案例中，如果使用共现矩阵或者正点相互矩阵，需要一个7x7的矩阵\n",
    "- 经过SVD降维之后，我们可以自动选取维度为2的矩阵，这样就可以得到两个单词的相似度\n",
    "- 将其可视化展示出来，看一看见i和you的距离比较近，hello和goodbey的距离比较近，这也是和我们正常的认知是一样的"
   ]
  },
  {
   "cell_type": "code",
   "execution_count": 8,
   "metadata": {},
   "outputs": [
    {
     "name": "stdout",
     "output_type": "stream",
     "text": [
      "co_matrix:\n",
      "[[0 1 0 0 0 0 0]\n",
      " [1 0 1 0 1 1 0]\n",
      " [0 1 0 1 0 0 0]\n",
      " [0 0 1 0 1 0 0]\n",
      " [0 1 0 1 0 0 0]\n",
      " [0 1 0 0 0 0 1]\n",
      " [0 0 0 0 0 1 0]]\n",
      "W:\n",
      "[[0.        1.8073549 0.        0.        0.        0.        0.       ]\n",
      " [1.8073549 0.        0.8073549 0.        0.8073549 0.8073549 0.       ]\n",
      " [0.        0.8073549 0.        1.8073549 0.        0.        0.       ]\n",
      " [0.        0.        1.8073549 0.        1.8073549 0.        0.       ]\n",
      " [0.        0.8073549 0.        1.8073549 0.        0.        0.       ]\n",
      " [0.        0.8073549 0.        0.        0.        0.        2.807355 ]\n",
      " [0.        0.        0.        0.        0.        2.807355  0.       ]]\n",
      "U.shpae: (7, 7)\n",
      "S.shape: (7,)\n",
      "V.shape: (7, 7)\n",
      "U:\n",
      "[[ 0.00000000e+00  3.40948761e-01 -3.88578059e-16 -1.20516241e-01\n",
      "  -9.32324946e-01 -1.11022302e-16  8.76837125e-17]\n",
      " [-5.97636402e-01  0.00000000e+00  1.80237904e-01  0.00000000e+00\n",
      "   0.00000000e+00 -7.81245828e-01  0.00000000e+00]\n",
      " [-5.55111512e-17  4.36312199e-01 -2.22044605e-16 -5.08782864e-01\n",
      "   2.25325629e-01 -1.38777878e-17 -7.07106769e-01]\n",
      " [-4.97828126e-01  2.22044605e-16  6.80396318e-01  1.38777878e-17\n",
      "  -1.11022302e-16  5.37799239e-01  4.17710493e-17]\n",
      " [-3.12375064e-17  4.36312199e-01 -1.59998290e-16 -5.08782864e-01\n",
      "   2.25325629e-01 -1.30164976e-17  7.07106769e-01]\n",
      " [-3.12375064e-17  7.09237099e-01 -1.59998290e-16  6.83926761e-01\n",
      "   1.70958877e-01 -1.30164976e-17  5.08946562e-17]\n",
      " [-6.28488600e-01 -2.49800181e-16 -7.10334539e-01 -2.77555756e-17\n",
      "   2.22044605e-16  3.16902101e-01 -5.37838029e-17]]\n",
      "S:\n",
      "[3.1680453e+00 3.1680453e+00 2.7029872e+00 2.7029872e+00 1.5144811e+00\n",
      " 1.5144811e+00 2.1159333e-16]\n",
      "V:\n",
      "[[-3.4094876e-01 -2.2204460e-16 -4.3631220e-01  0.0000000e+00\n",
      "  -4.3631220e-01 -7.0923710e-01 -0.0000000e+00]\n",
      " [-0.0000000e+00  5.9763640e-01  1.1102230e-16  4.9782813e-01\n",
      "   2.2204460e-16 -2.2204460e-16  6.2848860e-01]\n",
      " [ 1.2051624e-01 -5.8286709e-16  5.0878286e-01  0.0000000e+00\n",
      "   5.0878286e-01 -6.8392676e-01 -0.0000000e+00]\n",
      " [ 0.0000000e+00 -1.8023790e-01 -1.2490009e-16 -6.8039632e-01\n",
      "   4.1633363e-17  8.3266727e-17  7.1033454e-01]\n",
      " [ 0.0000000e+00 -7.8124583e-01 -3.3306691e-16  5.3779924e-01\n",
      "  -2.2204460e-16  3.3306691e-16  3.1690210e-01]\n",
      " [-9.3232495e-01 -5.5511151e-17  2.2532563e-01  0.0000000e+00\n",
      "   2.2532563e-01  1.7095888e-01 -0.0000000e+00]\n",
      " [-0.0000000e+00 -2.1914837e-16  7.0710677e-01  5.5511151e-17\n",
      "  -7.0710677e-01 -4.0008086e-17  5.5511151e-17]]\n"
     ]
    }
   ],
   "source": [
    "# 使用奇异值矩阵分解的案例\n",
    "import sys\n",
    "import numpy as np\n",
    "import numpy.linalg as LA\n",
    "import matplotlib.pyplot as plt\n",
    "\n",
    "text = 'you say goodbey and I say hello.'\n",
    "corpus, word_to_id, id_to_word = preprocess(text)\n",
    "vocab_size = len(word_to_id)\n",
    "co_matrix = create_co_matrix(corpus, vocab_size)\n",
    "print(f'co_matrix:\\n{co_matrix}')\n",
    "W = ppmi(co_matrix)\n",
    "print(f'W:\\n{W}')\n",
    "U, S, V = LA.svd(W)\n",
    "print(f'U.shpae: {U.shape}')\n",
    "print(f'S.shape: {S.shape}')\n",
    "print(f'V.shape: {V.shape}')\n",
    "print(f'U:\\n{U}')\n",
    "print(f'S:\\n{S}')\n",
    "print(f'V:\\n{V}')"
   ]
  },
  {
   "cell_type": "code",
   "execution_count": 9,
   "metadata": {},
   "outputs": [
    {
     "name": "stdout",
     "output_type": "stream",
     "text": [
      "U[:, :2]:\n",
      "[[ 0.0000000e+00  3.4094876e-01]\n",
      " [-5.9763640e-01  0.0000000e+00]\n",
      " [-5.5511151e-17  4.3631220e-01]\n",
      " [-4.9782813e-01  2.2204460e-16]\n",
      " [-3.1237506e-17  4.3631220e-01]\n",
      " [-3.1237506e-17  7.0923710e-01]\n",
      " [-6.2848860e-01 -2.4980018e-16]]\n"
     ]
    }
   ],
   "source": [
    "# 现在将样本降为二维\n",
    "print(F'U[:, :2]:\\n{U[:, :2]}')"
   ]
  },
  {
   "cell_type": "code",
   "execution_count": 10,
   "metadata": {},
   "outputs": [
    {
     "data": {
      "image/png": "[encoded data removed]",
      "text/plain": [
       "<Figure size 432x288 with 1 Axes>"
      ]
     },
     "metadata": {
      "needs_background": "light"
     },
     "output_type": "display_data"
    }
   ],
   "source": [
    "# 画出降维后的单词向量空间\n",
    "for word, word_id in word_to_id.items():\n",
    "    plt.annotate(word, xy=(U[word_id, 0], U[word_id, 1]))\n",
    "plt.scatter(U[:, 0], U[:, 1], alpha=0.5)\n",
    "plt.show()"
   ]
  },
  {
   "cell_type": "markdown",
   "metadata": {},
   "source": [
    "### PTB语料库\n",
    "- 网络问题，ptb数据集搞不下来"
   ]
  },
  {
   "cell_type": "code",
   "execution_count": null,
   "metadata": {},
   "outputs": [],
   "source": [
    "%run ./dataset/ptb.py"
   ]
  }
 ],
 "metadata": {
  "interpreter": {
   "hash": "1021d31412234ebea20baf61e8fdbc8c22153a59dde70b52bcafccce89619e30"
  },
  "kernelspec": {
   "display_name": "Python 3.8.12 ('pytorch')",
   "language": "python",
   "name": "python3"
  },
  "language_info": {
   "codemirror_mode": {
    "name": "ipython",
    "version": 3
   },
   "file_extension": ".py",
   "mimetype": "text/x-python",
   "name": "python",
   "nbconvert_exporter": "python",
   "pygments_lexer": "ipython3",
   "version": "3.8.12"
  },
  "orig_nbformat": 4
 },
 "nbformat": 4,
 "nbformat_minor": 2
}
