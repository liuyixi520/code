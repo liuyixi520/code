{
 "cells": [
  {
   "cell_type": "markdown",
   "metadata": {},
   "source": [
    "# 自然语言和单词的分布式表示\n",
    "- 编程语言是一种“硬语言”，自然语言是一种“软语言”\n",
    "- 单词的含义：语言是由文字构成的，单词是文字的一部分，单词的含义是文字的意义。所以让计算机去理解单词的含义才是重点，让计算机理解单词的含义分为以下三种方法：\n",
    "  - 基于同义词的字典方法\n",
    "  - 基于计数的方法\n",
    "  - 基于推理的方法\n",
    "## 基于同义词的字典方法\n",
    "像做新华字典那样：人为的设计同义词、上位-下位、整体-部分。知名的同义词字典方法：WordNet。使用同义词字典存在的问题：\n",
    "- 难以顺应时代的变化\n",
    "- 主要靠人，后期人力维护成本高"
   ]
  },
  {
   "cell_type": "markdown",
   "metadata": {},
   "source": [
    "## 基于计数的方法\n",
    "- 语料库\n",
    "- 将单词要转变成向量"
   ]
  },
  {
   "cell_type": "code",
   "execution_count": 6,
   "metadata": {},
   "outputs": [
    {
     "name": "stdout",
     "output_type": "stream",
     "text": [
      "you say goodbey and i say hello .\n"
     ]
    },
    {
     "data": {
      "text/plain": [
       "['you', 'say', 'goodbey', 'and', 'i', 'say', 'hello', '.']"
      ]
     },
     "execution_count": 6,
     "metadata": {},
     "output_type": "execute_result"
    }
   ],
   "source": [
    "# 语料库预处理小案例\n",
    "text = 'you say goodbey and I say hello.'\n",
    "text = text.lower()\n",
    "text = text.replace('.', ' .')\n",
    "print(text)\n",
    "words = text.split(' ')\n",
    "words"
   ]
  },
  {
   "cell_type": "code",
   "execution_count": 8,
   "metadata": {},
   "outputs": [
    {
     "name": "stdout",
     "output_type": "stream",
     "text": [
      "word_to_id:{'you': 0, 'say': 1, 'goodbey': 2, 'and': 3, 'i': 4, 'hello': 5, '.': 6}\n",
      "id_to_word:{0: 'you', 1: 'say', 2: 'goodbey', 3: 'and', 4: 'i', 5: 'hello', 6: '.'}\n"
     ]
    }
   ],
   "source": [
    "# 将词和字典互转\n",
    "word_to_id = {}\n",
    "id_to_word = {}\n",
    "for word in words:\n",
    "    # 排除掉重复元素\n",
    "    if word not in word_to_id:\n",
    "        idx = len(word_to_id)\n",
    "        word_to_id[word] = idx\n",
    "        id_to_word[idx] = word\n",
    "print(f'word_to_id:{word_to_id}')\n",
    "print(f'id_to_word:{id_to_word}')"
   ]
  },
  {
   "cell_type": "code",
   "execution_count": 9,
   "metadata": {},
   "outputs": [
    {
     "name": "stdout",
     "output_type": "stream",
     "text": [
      "text_id:[0, 1, 2, 3, 4, 1, 5, 6]\n"
     ]
    }
   ],
   "source": [
    "# 再将词转换为id，这里id可以重复\n",
    "text_id = [word_to_id[word] for word in words]\n",
    "print(f'text_id:{text_id}')"
   ]
  },
  {
   "cell_type": "code",
   "execution_count": 10,
   "metadata": {},
   "outputs": [
    {
     "data": {
      "text/plain": [
       "(array([0, 1, 2, 3, 4, 1, 5, 6]),\n",
       " {'you': 0, 'say': 1, 'goodbey': 2, 'and': 3, 'i': 4, 'hello': 5, '.': 6},\n",
       " {0: 'you', 1: 'say', 2: 'goodbey', 3: 'and', 4: 'i', 5: 'hello', 6: '.'})"
      ]
     },
     "execution_count": 10,
     "metadata": {},
     "output_type": "execute_result"
    }
   ],
   "source": [
    "# 将上面的过程定义成一个函数\n",
    "import numpy as np\n",
    "def preprocess(text):\n",
    "    text = text.lower()\n",
    "    text = text.replace('.', ' .')\n",
    "    words = text.split(' ')\n",
    "    word_to_id = {}\n",
    "    id_to_word = {} \n",
    "    for word in words:\n",
    "        if word not in word_to_id:\n",
    "            idx = len(word_to_id)\n",
    "            word_to_id[word] = idx\n",
    "            id_to_word[idx] = word\n",
    "    corpus = np.array([word_to_id[word] for word in words])\n",
    "    return corpus, word_to_id, id_to_word\n",
    "text = 'you say goodbey and I say hello.'\n",
    "preprocess(text)"
   ]
  },
  {
   "cell_type": "code",
   "execution_count": null,
   "metadata": {},
   "outputs": [],
   "source": []
  }
 ],
 "metadata": {
  "interpreter": {
   "hash": "1021d31412234ebea20baf61e8fdbc8c22153a59dde70b52bcafccce89619e30"
  },
  "kernelspec": {
   "display_name": "Python 3.8.12 ('pytorch')",
   "language": "python",
   "name": "python3"
  },
  "language_info": {
   "codemirror_mode": {
    "name": "ipython",
    "version": 3
   },
   "file_extension": ".py",
   "mimetype": "text/x-python",
   "name": "python",
   "nbconvert_exporter": "python",
   "pygments_lexer": "ipython3",
   "version": "3.8.12"
  },
  "orig_nbformat": 4
 },
 "nbformat": 4,
 "nbformat_minor": 2
}
