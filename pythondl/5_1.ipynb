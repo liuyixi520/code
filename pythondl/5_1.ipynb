{
 "cells": [
  {
   "cell_type": "markdown",
   "metadata": {},
   "source": [
    "# 深度学习用于计算机视觉\n",
    "## 卷积神经网络简介\n",
    "![卷积神经网络工作原理](../img/cnn_work.png)\n",
    "- 能够计算convnet中的参数个数，就明白了卷积神经网络的工作原理\n",
    "- 卷积核是由权重参数组成的，每个w都是卷积核上的一个点，所以卷积神经网络在学习的过程中就是在寻找合适的卷积核\n",
    "- 卷积网络中的参数个数计算公式：$parameters = C_o \\times (K_w \\times K_h \\times C_i + 1) $\n",
    "## 白话卷积核构建过程\n",
    "- 首先卷积核是一个4D张量，有多少个输入通道就要构建多少层卷积核，有多少个输出通道就要构建多少堆卷积核\n",
    "- 卷积的输出通道是一个抽象的概念，第一层的时候可以简单的理解为色道（RGB=3，WB=1），后来的输出通道数就代表该层提取出来特征的个数\n",
    "- 卷积神经网络的输入和输出都是4D张量：样本数，长、宽、通道数。上一层的输出通道数是下一层的输入通道数\n",
    "- 卷积在运算的时候先考虑层，再考虑堆。好理解一点。\n",
    "- 各层在做了卷积之后，要累加在一起，也就是说不管有多少输入，输出只有一个。即多层卷积核的输出只有一层\n",
    "- 卷积核上的每个像素点会有一个权重w，每堆卷积核上会有一个偏置b\n",
    "## 说明图中参数的计算过程\n",
    "- 输入通道为2，输出通道为3，卷积核的大小为3x3：构建2层3x3的卷积核，总共构建3堆\n",
    "- 在每堆每层中有9个w，两层有18个w，然后每堆有1个b，也就是说每堆有19个参数，总共三堆总共就有57个参数\n",
    "- 每堆卷积核经过卷积后，会形成一个3x3的张量\n",
    "- 最后3堆积累在一起，就会形成一个3x3x3的3D张量"
   ]
  },
  {
   "cell_type": "code",
   "execution_count": 8,
   "metadata": {},
   "outputs": [
    {
     "name": "stdout",
     "output_type": "stream",
     "text": [
      "Model: \"sequential_6\"\n",
      "_________________________________________________________________\n",
      " Layer (type)                Output Shape              Param #   \n",
      "=================================================================\n",
      " conv2d_9 (Conv2D)           (None, 3, 3, 3)           57        \n",
      "                                                                 \n",
      "=================================================================\n",
      "Total params: 57\n",
      "Trainable params: 57\n",
      "Non-trainable params: 0\n",
      "_________________________________________________________________\n"
     ]
    }
   ],
   "source": [
    "from keras import models, layers\n",
    "# 上图中的网络模型搭建\n",
    "model_demo = models.Sequential()\n",
    "model_demo.add(layers.Conv2D(3, (3,3), activation='relu', input_shape=(5,5,2)))\n",
    "model_demo.summary()"
   ]
  },
  {
   "cell_type": "code",
   "execution_count": 10,
   "metadata": {},
   "outputs": [
    {
     "name": "stdout",
     "output_type": "stream",
     "text": [
      "Model: \"sequential_8\"\n",
      "_________________________________________________________________\n",
      " Layer (type)                Output Shape              Param #   \n",
      "=================================================================\n",
      " conv2d_13 (Conv2D)          (None, 26, 26, 32)        320       \n",
      "                                                                 \n",
      " max_pooling2d_6 (MaxPooling  (None, 13, 13, 32)       0         \n",
      " 2D)                                                             \n",
      "                                                                 \n",
      " conv2d_14 (Conv2D)          (None, 11, 11, 64)        18496     \n",
      "                                                                 \n",
      " max_pooling2d_7 (MaxPooling  (None, 5, 5, 64)         0         \n",
      " 2D)                                                             \n",
      "                                                                 \n",
      " conv2d_15 (Conv2D)          (None, 3, 3, 64)          36928     \n",
      "                                                                 \n",
      " flatten (Flatten)           (None, 576)               0         \n",
      "                                                                 \n",
      " dense (Dense)               (None, 64)                36928     \n",
      "                                                                 \n",
      " dense_1 (Dense)             (None, 10)                650       \n",
      "                                                                 \n",
      "=================================================================\n",
      "Total params: 93,322\n",
      "Trainable params: 93,322\n",
      "Non-trainable params: 0\n",
      "_________________________________________________________________\n"
     ]
    }
   ],
   "source": [
    "# LeNet模型\n",
    "model = models.Sequential()\n",
    "model.add(layers.Conv2D(32, (3, 3), activation='relu', input_shape=(28, 28, 1)))\n",
    "model.add(layers.MaxPooling2D((2, 2)))\n",
    "model.add(layers.Conv2D(64, (3, 3), activation='relu'))\n",
    "model.add(layers.MaxPooling2D((2, 2)))\n",
    "model.add(layers.Conv2D(64, (3, 3), activation='relu'))\n",
    "model.add(layers.Flatten())\n",
    "model.add(layers.Dense(64, activation='relu'))\n",
    "model.add(layers.Dense(10, activation='softmax'))\n",
    "model.summary()"
   ]
  },
  {
   "cell_type": "code",
   "execution_count": 12,
   "metadata": {},
   "outputs": [
    {
     "name": "stdout",
     "output_type": "stream",
     "text": [
      "Downloading data from https://storage.googleapis.com/tensorflow/tf-keras-datasets/mnist.npz\n",
      "11493376/11490434 [==============================] - 98s 9us/step\n",
      "11501568/11490434 [==============================] - 98s 9us/step\n",
      "Epoch 1/5\n"
     ]
    },
    {
     "name": "stderr",
     "output_type": "stream",
     "text": [
      "2022-04-11 18:18:53.968431: W tensorflow/core/framework/cpu_allocator_impl.cc:82] Allocation of 188160000 exceeds 10% of free system memory.\n"
     ]
    },
    {
     "name": "stdout",
     "output_type": "stream",
     "text": [
      "938/938 [==============================] - 18s 18ms/step - loss: 0.1791 - accuracy: 0.9438\n",
      "Epoch 2/5\n",
      "938/938 [==============================] - 17s 18ms/step - loss: 0.0466 - accuracy: 0.9855\n",
      "Epoch 3/5\n",
      "938/938 [==============================] - 21s 22ms/step - loss: 0.0319 - accuracy: 0.9898\n",
      "Epoch 4/5\n",
      "938/938 [==============================] - 21s 22ms/step - loss: 0.0241 - accuracy: 0.9925\n",
      "Epoch 5/5\n",
      "938/938 [==============================] - 19s 20ms/step - loss: 0.0198 - accuracy: 0.9944\n",
      "313/313 [==============================] - 1s 4ms/step - loss: 0.0291 - accuracy: 0.9922\n"
     ]
    }
   ],
   "source": [
    "# 使用卷积神经网络在minist数据集上训练\n",
    "from keras.datasets import mnist\n",
    "from tensorflow.keras.utils import to_categorical\n",
    "(train_images, train_labels), (test_images, test_labels) = mnist.load_data()\n",
    "train_images = train_images.reshape((60000, 28, 28, 1))\n",
    "train_images = train_images.astype('float32') / 255\n",
    "test_images = test_images.reshape((10000, 28, 28, 1))\n",
    "test_images = test_images.astype('float32') / 255\n",
    "train_labels = to_categorical(train_labels)\n",
    "test_labels = to_categorical(test_labels)\n",
    "model.compile(optimizer='rmsprop',\n",
    "              loss='categorical_crossentropy',\n",
    "              metrics=['accuracy'])\n",
    "model.fit(train_images, train_labels, epochs=5, batch_size=64)\n",
    "test_loss, test_acc = model.evaluate(test_images, test_labels)"
   ]
  },
  {
   "cell_type": "code",
   "execution_count": null,
   "metadata": {},
   "outputs": [],
   "source": []
  }
 ],
 "metadata": {
  "interpreter": {
   "hash": "1021d31412234ebea20baf61e8fdbc8c22153a59dde70b52bcafccce89619e30"
  },
  "kernelspec": {
   "display_name": "Python 3.8.12 ('pytorch')",
   "language": "python",
   "name": "python3"
  },
  "language_info": {
   "codemirror_mode": {
    "name": "ipython",
    "version": 3
   },
   "file_extension": ".py",
   "mimetype": "text/x-python",
   "name": "python",
   "nbconvert_exporter": "python",
   "pygments_lexer": "ipython3",
   "version": "3.8.12"
  },
  "orig_nbformat": 4
 },
 "nbformat": 4,
 "nbformat_minor": 2
}
