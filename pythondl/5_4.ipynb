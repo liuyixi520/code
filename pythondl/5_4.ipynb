{
 "cells": [
  {
   "cell_type": "markdown",
   "metadata": {},
   "source": [
    "# 预训练——数据增强的特征提取\n",
    "- 直接在卷积基后面上重新定义全连接层，然后进行训练\n",
    "- 这种方式可以使用数据增强技术。这种方法比直接使用特征提取的方式计算量更加大，精度也更加高：[kaggle链接](https://www.kaggle.com/liuyixi/dogs-vs-cats-pre-train2)"
   ]
  },
  {
   "cell_type": "code",
   "execution_count": 1,
   "metadata": {},
   "outputs": [],
   "source": [
    "# 直接用上面模型的那个数据集路径，这里只要把路径名声明一下即可\n",
    "import os\n",
    "original_dataset_dir = '../../data/cats_and_dogs/train'\n",
    "base_dir = '../../data/cats_and_dogs_small'\n",
    "train_dir = os.path.join(base_dir, 'train')\n",
    "valid_dir = os.path.join(base_dir, 'valid')\n",
    "test_dir = os.path.join(base_dir, 'test')\n",
    "\n",
    "train_dir_dogs = os.path.join(train_dir, 'dogs')\n",
    "valid_dir_dogs = os.path.join(valid_dir, 'dogs')\n",
    "test_dir_dogs = os.path.join(test_dir, 'dogs')\n",
    "train_dir_cats = os.path.join(train_dir, 'cats')\n",
    "valid_dir_cats = os.path.join(valid_dir, 'cats')\n",
    "test_dir_cats = os.path.join(test_dir, 'cats')"
   ]
  },
  {
   "cell_type": "code",
   "execution_count": null,
   "metadata": {},
   "outputs": [],
   "source": [
    "# 定义卷积基\n",
    "from keras.applications import vgg16\n",
    "conv_base = vgg16.VGG16(weights='imagenet', include_top=False, input_shape=(150, 150, 3))"
   ]
  },
  {
   "cell_type": "code",
   "execution_count": null,
   "metadata": {},
   "outputs": [],
   "source": [
    "# 使用卷积基，然后加上全连接层\n",
    "from keras import models, layers\n",
    "model = models.Sequential()\n",
    "model.add(conv_base)\n",
    "model.add(layers.Flatten())\n",
    "model.add(layers.Dense(256, activation='relu'))\n",
    "model.add(layers.Dense(1, activation='sigmoid'))\n",
    "model.summary()"
   ]
  },
  {
   "cell_type": "code",
   "execution_count": null,
   "metadata": {},
   "outputs": [],
   "source": [
    "# 将卷积基的参数设置为不可训练\n",
    "print(f'冻结之前，模型参数的数量为：{len(model.trainable_weights)}')\n",
    "conv_base.trainable = False\n",
    "print(f'冻结之后，模型参数的数量为：{len(model.trainable_weights)}')"
   ]
  },
  {
   "cell_type": "code",
   "execution_count": null,
   "metadata": {},
   "outputs": [],
   "source": [
    "# 开始准备数据、训练模型\n",
    "from keras.preprocessing.image import ImageDataGenerator\n",
    "from keras import optimizers\n",
    "train_datagen = ImageDataGenerator(rescale=1./255,rotation_range=40,\n",
    "                                      width_shift_range=0.2,height_shift_range=0.2,\n",
    "                                        shear_range=0.2,zoom_range=0.2,horizontal_flip=True,\n",
    "                                        fill_mode='nearest')\n",
    "test_datagen = ImageDataGenerator(rescale=1./255)\n",
    "train_generator = train_datagen.flow_from_directory(train_dir,target_size=(150,150),batch_size=20,class_mode='binary')\n",
    "valid_generator = test_datagen.flow_from_directory(valid_dir,target_size=(150,150),batch_size=20,class_mode='binary')\n",
    "model.compile(loss='binary_crossentropy',optimizer='rmsprop',metrics=['acc'])\n",
    "history = model.fit_generator(train_generator,steps_per_epoch=100,epochs=30,validation_data=valid_generator,validation_steps=50)"
   ]
  }
 ],
 "metadata": {
  "interpreter": {
   "hash": "1021d31412234ebea20baf61e8fdbc8c22153a59dde70b52bcafccce89619e30"
  },
  "kernelspec": {
   "display_name": "Python 3.8.12 ('pytorch')",
   "language": "python",
   "name": "python3"
  },
  "language_info": {
   "codemirror_mode": {
    "name": "ipython",
    "version": 3
   },
   "file_extension": ".py",
   "mimetype": "text/x-python",
   "name": "python",
   "nbconvert_exporter": "python",
   "pygments_lexer": "ipython3",
   "version": "3.8.12"
  },
  "orig_nbformat": 4
 },
 "nbformat": 4,
 "nbformat_minor": 2
}
