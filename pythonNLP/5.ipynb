{
 "cells": [
  {
   "cell_type": "code",
   "execution_count": 4,
   "metadata": {},
   "outputs": [
    {
     "name": "stdout",
     "output_type": "stream",
     "text": [
      "\u001b[0;31mType:\u001b[0m        module\n",
      "\u001b[0;31mString form:\u001b[0m <module 'nltk' from '/home/y/.conda/envs/pytorch/lib/python3.8/site-packages/nltk/__init__.py'>\n",
      "\u001b[0;31mFile:\u001b[0m        ~/.conda/envs/pytorch/lib/python3.8/site-packages/nltk/__init__.py\n",
      "\u001b[0;31mDocstring:\u001b[0m  \n",
      "The Natural Language Toolkit (NLTK) is an open source Python library\n",
      "for Natural Language Processing.  A free online book is available.\n",
      "(If you use the library for academic research, please cite the book.)\n",
      "\n",
      "Steven Bird, Ewan Klein, and Edward Loper (2009).\n",
      "Natural Language Processing with Python.  O'Reilly Media Inc.\n",
      "https://www.nltk.org/book/\n",
      "\n",
      "isort:skip_file\n",
      "\n",
      "@version: 3.7\n"
     ]
    }
   ],
   "source": [
    "import nltk\n",
    "nltk?"
   ]
  },
  {
   "cell_type": "code",
   "execution_count": null,
   "metadata": {},
   "outputs": [],
   "source": []
  }
 ],
 "metadata": {
  "interpreter": {
   "hash": "1021d31412234ebea20baf61e8fdbc8c22153a59dde70b52bcafccce89619e30"
  },
  "kernelspec": {
   "display_name": "Python 3.8.12 ('pytorch')",
   "language": "python",
   "name": "python3"
  },
  "language_info": {
   "codemirror_mode": {
    "name": "ipython",
    "version": 3
   },
   "file_extension": ".py",
   "mimetype": "text/x-python",
   "name": "python",
   "nbconvert_exporter": "python",
   "pygments_lexer": "ipython3",
   "version": "3.8.12"
  },
  "orig_nbformat": 4
 },
 "nbformat": 4,
 "nbformat_minor": 2
}
