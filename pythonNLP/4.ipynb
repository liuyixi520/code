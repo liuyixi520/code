{
 "cells": [
  {
   "cell_type": "markdown",
   "metadata": {},
   "source": [
    "# 编写结构化程序\n",
    "- 回到基础\n",
    "- 序列\n",
    "- 风格的问题\n",
    "- 函数\n",
    "- 更多关于函数\n",
    "- 程序开发\n",
    "- 算法设计\n",
    "- Python库的样例"
   ]
  }
 ],
 "metadata": {
  "language_info": {
   "name": "python"
  },
  "orig_nbformat": 4
 },
 "nbformat": 4,
 "nbformat_minor": 2
}
