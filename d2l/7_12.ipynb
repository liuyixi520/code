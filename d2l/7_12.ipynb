{
 "cells": [
  {
   "cell_type": "markdown",
   "metadata": {},
   "source": [
    "# 语义分割\n",
    "## 四种图像任务的描述\n",
    "- 图像分类：根据图像中的像素做一个softmax分类\n",
    "- 目标检测：检测出来图像中有效的四个坐标点（BoundingBox），然后根据这些坐标点做一个softmax分类\n",
    "- 语义分割：把图片中的每个像素点做一个softmax分类，也就是明确图片中的每一个像素点是什么类别。类别数目 = 种类数 + 1（背景类别）\n",
    "- 实例分割：在语义分割上的进化，如果一个图片中有多个同类的目标，那么要明确每个目标是具体那个。比如说图片中有多个人，要明确每个人是谁"
   ]
  },
  {
   "cell_type": "code",
   "execution_count": null,
   "metadata": {},
   "outputs": [],
   "source": []
  }
 ],
 "metadata": {
  "language_info": {
   "name": "python"
  },
  "orig_nbformat": 4
 },
 "nbformat": 4,
 "nbformat_minor": 2
}
