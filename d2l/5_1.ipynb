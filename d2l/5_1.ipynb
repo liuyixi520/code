{
 "cells": [
  {
   "cell_type": "code",
   "execution_count": null,
   "metadata": {},
   "outputs": [],
   "source": [
    "import torch\n",
    "import torch.nn as nn\n",
    "import torch.nn.functional as F"
   ]
  },
  {
   "cell_type": "code",
   "execution_count": 11,
   "metadata": {},
   "outputs": [
    {
     "data": {
      "text/plain": [
       "tensor([[ 0.0032,  0.4253, -1.2341,  ...,  0.9088,  0.2228,  0.6706],\n",
       "        [ 0.2839, -1.2709,  0.5632,  ..., -0.5825,  0.4609, -0.9634],\n",
       "        [ 2.1322,  0.2403,  0.7053,  ..., -0.4477,  0.7872,  0.4680],\n",
       "        ...,\n",
       "        [ 0.0290, -0.9926, -0.1016,  ...,  2.4561,  0.3028,  1.1418],\n",
       "        [-0.6582,  0.4107, -0.6195,  ...,  0.4711, -0.3452, -0.5042],\n",
       "        [ 0.9252,  0.5669,  0.2504,  ..., -1.7746, -0.7170,  0.9792]])"
      ]
     },
     "execution_count": 11,
     "metadata": {},
     "output_type": "execute_result"
    }
   ],
   "source": [
    "# 定义一个简单的网络，输入为28*28的图像，输出为10个类别\n",
    "# 中间有一个256个神经元的隐藏层，激活函数为ReLU\n",
    "net = nn.Sequential(nn.Linear(784, 256), nn.ReLU(), nn.Linear(256, 10))\n",
    "# 随机生成10个样本\n",
    "X = torch.randn(10, 784)\n",
    "X"
   ]
  },
  {
   "cell_type": "code",
   "execution_count": 12,
   "metadata": {},
   "outputs": [
    {
     "data": {
      "text/plain": [
       "torch.Size([10, 784])"
      ]
     },
     "execution_count": 12,
     "metadata": {},
     "output_type": "execute_result"
    }
   ],
   "source": [
    "X.shape"
   ]
  },
  {
   "cell_type": "code",
   "execution_count": 13,
   "metadata": {},
   "outputs": [
    {
     "data": {
      "text/plain": [
       "tensor([[ 0.4832,  0.2948,  0.1808, -0.1765,  0.1011, -0.3131,  0.3894,  0.0271,\n",
       "          0.0947, -0.0423],\n",
       "        [ 0.4737,  0.0149,  0.5643, -0.2383,  0.0046, -0.1590,  0.3981, -0.1814,\n",
       "         -0.1315,  0.2506],\n",
       "        [ 0.3322, -0.1670, -0.1301, -0.0150, -0.1114, -0.0555,  0.0060,  0.0741,\n",
       "         -0.2602,  0.0481],\n",
       "        [ 0.6561,  0.1755,  0.5266, -0.0131,  0.1776, -0.0116,  0.3888,  0.2022,\n",
       "         -0.1441, -0.0620],\n",
       "        [ 0.2050,  0.1731,  0.5085, -0.0039,  0.4204, -0.0163,  0.0451, -0.0920,\n",
       "          0.5818,  0.2277],\n",
       "        [ 0.4777,  0.1369,  0.5375,  0.1796,  0.1730,  0.2138,  0.2925,  0.0927,\n",
       "          0.5343,  0.0680],\n",
       "        [ 0.4367,  0.1417,  0.5097, -0.2161,  0.0938,  0.1265,  0.6999,  0.0583,\n",
       "         -0.0065, -0.0719],\n",
       "        [ 0.2247,  0.4375,  0.0708,  0.0586, -0.3315,  0.2471,  0.1950,  0.0499,\n",
       "          0.1151,  0.1751],\n",
       "        [ 0.2255,  0.0191,  0.1364,  0.0198,  0.5057,  0.3566,  0.0255,  0.2832,\n",
       "          0.0784,  0.2891],\n",
       "        [ 0.3696,  0.2544,  0.4948,  0.0237,  0.0660, -0.2656,  0.0427,  0.1052,\n",
       "          0.0850, -0.0078]], grad_fn=<AddmmBackward0>)"
      ]
     },
     "execution_count": 13,
     "metadata": {},
     "output_type": "execute_result"
    }
   ],
   "source": [
    "net(X)"
   ]
  },
  {
   "cell_type": "code",
   "execution_count": null,
   "metadata": {},
   "outputs": [],
   "source": [
    "net(X).shape"
   ]
  },
  {
   "cell_type": "markdown",
   "metadata": {},
   "source": [
    "# 自定义块\n",
    "\n",
    "可以通过集成nn.Module来实现上面的那个网络\n",
    "继承nn.Module的好处在于，定义神经网络的时候可以比较自由灵活"
   ]
  },
  {
   "cell_type": "code",
   "execution_count": 6,
   "metadata": {},
   "outputs": [],
   "source": [
    "class MLP(nn.Module):\n",
    "    def __init__(self) -> None:\n",
    "        super().__init__()\n",
    "        self.hidden = nn.Linear(784, 256)\n",
    "        self.output = nn.Linear(256, 10)\n",
    "    def forward(self, x: torch.Tensor) -> torch.Tensor:\n",
    "        x = self.hidden(x)\n",
    "        x = F.relu(x)\n",
    "        x = self.output(x)\n",
    "        return x"
   ]
  },
  {
   "cell_type": "code",
   "execution_count": 14,
   "metadata": {},
   "outputs": [
    {
     "data": {
      "text/plain": [
       "tensor([[-0.1388, -0.1516,  0.0379, -0.1801,  0.1162,  0.2146,  0.1479,  0.1649,\n",
       "         -0.1288, -0.3250],\n",
       "        [ 0.2836, -0.1414, -0.0230, -0.2619, -0.1728,  0.0690,  0.3258,  0.0440,\n",
       "          0.0269, -0.1930],\n",
       "        [ 0.1954, -0.0557, -0.0299, -0.4243, -0.1315,  0.1100, -0.0072,  0.1216,\n",
       "          0.1194,  0.1135],\n",
       "        [-0.0959, -0.1803,  0.0920,  0.0734, -0.4702,  0.0734, -0.0013,  0.2202,\n",
       "         -0.0724,  0.0463],\n",
       "        [-0.4029, -0.1438,  0.5256,  0.0430,  0.1479, -0.0007,  0.0057,  0.4237,\n",
       "         -0.1057, -0.0070],\n",
       "        [-0.1483,  0.0802,  0.2107, -0.1186, -0.1844,  0.1295, -0.3139, -0.2463,\n",
       "         -0.3469,  0.3082],\n",
       "        [-0.3498, -0.0876,  0.3016, -0.4162,  0.3320,  0.1360, -0.3083,  0.2597,\n",
       "         -0.2648,  0.1708],\n",
       "        [-0.0542,  0.0247, -0.1060, -0.0724,  0.2339,  0.0302, -0.1284,  0.3791,\n",
       "          0.1285,  0.0273],\n",
       "        [ 0.1203, -0.0268,  0.0398, -0.1076, -0.3907,  0.0604, -0.1667,  0.1714,\n",
       "         -0.1704, -0.1164],\n",
       "        [-0.0120, -0.0403,  0.3129, -0.2454,  0.5257,  0.0209,  0.4058,  0.1683,\n",
       "         -0.2224,  0.0861]], grad_fn=<AddmmBackward0>)"
      ]
     },
     "execution_count": 14,
     "metadata": {},
     "output_type": "execute_result"
    }
   ],
   "source": [
    "net_mlp = MLP()\n",
    "net_mlp(X)"
   ]
  }
 ],
 "metadata": {
  "interpreter": {
   "hash": "1021d31412234ebea20baf61e8fdbc8c22153a59dde70b52bcafccce89619e30"
  },
  "kernelspec": {
   "display_name": "Python 3.8.12 ('pytorch')",
   "language": "python",
   "name": "python3"
  },
  "language_info": {
   "codemirror_mode": {
    "name": "ipython",
    "version": 3
   },
   "file_extension": ".py",
   "mimetype": "text/x-python",
   "name": "python",
   "nbconvert_exporter": "python",
   "pygments_lexer": "ipython3",
   "version": "3.8.12"
  },
  "orig_nbformat": 4
 },
 "nbformat": 4,
 "nbformat_minor": 2
}
