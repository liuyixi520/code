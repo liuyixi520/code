{
 "cells": [
  {
   "cell_type": "markdown",
   "metadata": {},
   "source": [
    "# 参数管理\n",
    "首先关注只有一个隐藏层的多层感知机"
   ]
  },
  {
   "cell_type": "code",
   "execution_count": 5,
   "metadata": {},
   "outputs": [],
   "source": [
    "import torch\n",
    "import torch.nn as nn\n",
    "import torch.nn.functional as F"
   ]
  },
  {
   "cell_type": "code",
   "execution_count": 6,
   "metadata": {},
   "outputs": [
    {
     "data": {
      "text/plain": [
       "tensor([[0.6304]], grad_fn=<AddmmBackward0>)"
      ]
     },
     "execution_count": 6,
     "metadata": {},
     "output_type": "execute_result"
    }
   ],
   "source": [
    "net = nn.Sequential(nn.Linear(2, 10), nn.ReLU(), nn.Linear(10, 1))\n",
    "X = torch.randn(1, 2)\n",
    "net(X)"
   ]
  },
  {
   "cell_type": "code",
   "execution_count": 8,
   "metadata": {},
   "outputs": [
    {
     "name": "stdout",
     "output_type": "stream",
     "text": [
      "OrderedDict([('weight', tensor([[ 0.0908, -0.3211],\n",
      "        [ 0.3577,  0.0298],\n",
      "        [ 0.2798,  0.2215],\n",
      "        [-0.3288,  0.5381],\n",
      "        [-0.4339, -0.1995],\n",
      "        [ 0.1267,  0.0210],\n",
      "        [-0.3011,  0.6287],\n",
      "        [ 0.0179,  0.3910],\n",
      "        [ 0.1185, -0.2769],\n",
      "        [ 0.4483, -0.4368]])), ('bias', tensor([-0.4719,  0.0544, -0.3760, -0.6724,  0.4816,  0.6374,  0.2119,  0.1519,\n",
      "         0.5913, -0.5480]))])\n",
      "--------------------------------------------------\n",
      "OrderedDict()\n",
      "--------------------------------------------------\n",
      "OrderedDict([('weight', tensor([[ 0.2271,  0.2390, -0.2177, -0.1952,  0.3145,  0.2331, -0.2545,  0.0176,\n",
      "          0.2124,  0.2918]])), ('bias', tensor([0.2157]))])\n"
     ]
    }
   ],
   "source": [
    "# 可以把net简单的理解成一个list\n",
    "print(net[0].state_dict())\n",
    "print('-' * 50)\n",
    "print(net[1].state_dict())\n",
    "print('-' * 50)\n",
    "print(net[2].state_dict())"
   ]
  },
  {
   "cell_type": "code",
   "execution_count": 11,
   "metadata": {},
   "outputs": [
    {
     "data": {
      "text/plain": [
       "Parameter containing:\n",
       "tensor([[ 0.2271,  0.2390, -0.2177, -0.1952,  0.3145,  0.2331, -0.2545,  0.0176,\n",
       "          0.2124,  0.2918]], requires_grad=True)"
      ]
     },
     "execution_count": 11,
     "metadata": {},
     "output_type": "execute_result"
    }
   ],
   "source": [
    "net[2].weight"
   ]
  },
  {
   "cell_type": "code",
   "execution_count": 12,
   "metadata": {},
   "outputs": [
    {
     "data": {
      "text/plain": [
       "Parameter containing:\n",
       "tensor([0.2157], requires_grad=True)"
      ]
     },
     "execution_count": 12,
     "metadata": {},
     "output_type": "execute_result"
    }
   ],
   "source": [
    "net[2].bias"
   ]
  },
  {
   "cell_type": "code",
   "execution_count": 13,
   "metadata": {},
   "outputs": [
    {
     "data": {
      "text/plain": [
       "tensor([[ 0.2271,  0.2390, -0.2177, -0.1952,  0.3145,  0.2331, -0.2545,  0.0176,\n",
       "          0.2124,  0.2918]])"
      ]
     },
     "execution_count": 13,
     "metadata": {},
     "output_type": "execute_result"
    }
   ],
   "source": [
    "net[2].weight.data"
   ]
  },
  {
   "cell_type": "code",
   "execution_count": 14,
   "metadata": {},
   "outputs": [
    {
     "data": {
      "text/plain": [
       "tensor([0.2157])"
      ]
     },
     "execution_count": 14,
     "metadata": {},
     "output_type": "execute_result"
    }
   ],
   "source": [
    "net[2].bias.data"
   ]
  },
  {
   "cell_type": "code",
   "execution_count": null,
   "metadata": {},
   "outputs": [],
   "source": []
  }
 ],
 "metadata": {
  "interpreter": {
   "hash": "1021d31412234ebea20baf61e8fdbc8c22153a59dde70b52bcafccce89619e30"
  },
  "kernelspec": {
   "display_name": "Python 3.8.12 ('pytorch')",
   "language": "python",
   "name": "python3"
  },
  "language_info": {
   "codemirror_mode": {
    "name": "ipython",
    "version": 3
   },
   "file_extension": ".py",
   "mimetype": "text/x-python",
   "name": "python",
   "nbconvert_exporter": "python",
   "pygments_lexer": "ipython3",
   "version": "3.8.12"
  },
  "orig_nbformat": 4
 },
 "nbformat": 4,
 "nbformat_minor": 2
}
