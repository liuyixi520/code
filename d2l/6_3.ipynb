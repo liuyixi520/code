{
 "cells": [
  {
   "cell_type": "markdown",
   "metadata": {},
   "source": [
    "# 多通道输入和输出\n",
    "- 一般一张图片是有多个通道的，比如所RGB就有三个通道\n",
    "- 通道只是一种泛称、不要仅仅指颜色通道，它重要的意义是可以表示多个模式\n",
    "- 比如说RGB三个通道，可以表示红、绿、蓝三种颜色，就要做三个通道\n",
    "- 输入通道最后的矩阵叉乘起来，最后输出通道只会有一个\n",
    "- 要得到多个输出通道，就要在输入通道上再做重复操作了\n",
    "- 多个输入和输出最重要的是在中间的隐藏层来使用的\n",
    "\n",
    "## 多个输入通道\n",
    "- 输入X: $c_i \\times n_h \\times n_w $\n",
    "- 核W: $c_i \\times k_h \\times k_w $\n",
    "- 偏差B：$c_i $\n",
    "- 输出Y: $m_h \\times m_w $\n",
    "- 公式表达： $Y = \\sum_{i=1}^{c_i}X_i \\cdot W_i + B$\n",
    "- 备注：无论有多少个输入通道，最后会做矩阵的加法，最后就是一个输出通道\n",
    "\n",
    "## 多个输入和输出通道\n",
    "- 输入X: $c_i \\times n_h \\times n_w $\n",
    "- 核W: $c_o \\times c_i \\times k_h \\times k_w $\n",
    "- 偏差B：$c_o \\times c_i $\n",
    "- 输出Y: $c_o \\times m_h \\times m_w $\n",
    "- 公式表达： $Y_{i,:,:} = X \\cdot W_{i,:,:,;} + B$, for i = 1, ..., c_o\n",
    "\n",
    "## 总结\n",
    "- 输入通道和输出通道是模型的超参数\n",
    "- 每个输入通道都有一个独立的二维卷积核，所有的结果相加得到一个输出通道\n",
    "- 所以每个输出通道都有一个独立的三维卷积核\n",
    "- 所以最后的结果是一个四阶张量"
   ]
  },
  {
   "cell_type": "code",
   "execution_count": 1,
   "metadata": {},
   "outputs": [],
   "source": [
    "# 实现多输入通道的相关运算\n",
    "import torch\n",
    "from d2l import torch as d2l\n",
    "\n",
    "def corr2d_multi_in(X, K):\n",
    "    return sum(d2l.corr2d(x, k) for x, k in zip(X, K))"
   ]
  },
  {
   "cell_type": "code",
   "execution_count": 5,
   "metadata": {},
   "outputs": [
    {
     "data": {
      "text/plain": [
       "tensor([[ 56.,  72.],\n",
       "        [104., 120.]])"
      ]
     },
     "execution_count": 5,
     "metadata": {},
     "output_type": "execute_result"
    }
   ],
   "source": [
    "X = torch.tensor([[[0, 1, 2], [3, 4, 5], [6, 7, 8]],\n",
    "                  [[1, 2, 3], [4, 5, 6], [7, 8, 9]]])\n",
    "K = torch.tensor([[[0, 1], [2, 3]], [[1, 2], [3, 4]]])\n",
    "corr2d_multi_in(X, K)"
   ]
  },
  {
   "cell_type": "code",
   "execution_count": 6,
   "metadata": {},
   "outputs": [
    {
     "data": {
      "text/plain": [
       "tensor([[[ 56.,  72.],\n",
       "         [104., 120.]],\n",
       "\n",
       "        [[ 76., 100.],\n",
       "         [148., 172.]],\n",
       "\n",
       "        [[ 96., 128.],\n",
       "         [192., 224.]]])"
      ]
     },
     "execution_count": 6,
     "metadata": {},
     "output_type": "execute_result"
    }
   ],
   "source": [
    "# 实现多输出通道的相关运算\n",
    "def corr2d_multi_out(X, K):\n",
    "    return torch.stack([corr2d_multi_in(X, k) for k in K], 0)\n",
    "K = torch.stack([K, K + 1, K + 2], 0)\n",
    "corr2d_multi_out(X, K)"
   ]
  },
  {
   "cell_type": "code",
   "execution_count": null,
   "metadata": {},
   "outputs": [],
   "source": []
  }
 ],
 "metadata": {
  "interpreter": {
   "hash": "1021d31412234ebea20baf61e8fdbc8c22153a59dde70b52bcafccce89619e30"
  },
  "kernelspec": {
   "display_name": "Python 3.8.12 ('pytorch')",
   "language": "python",
   "name": "python3"
  },
  "language_info": {
   "codemirror_mode": {
    "name": "ipython",
    "version": 3
   },
   "file_extension": ".py",
   "mimetype": "text/x-python",
   "name": "python",
   "nbconvert_exporter": "python",
   "pygments_lexer": "ipython3",
   "version": "3.8.12"
  },
  "orig_nbformat": 4
 },
 "nbformat": 4,
 "nbformat_minor": 2
}
