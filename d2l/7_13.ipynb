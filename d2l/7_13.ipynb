{
 "cells": [
  {
   "cell_type": "markdown",
   "metadata": {},
   "source": [
    "# 转置卷积\n",
    "- 这个是在做语义分割的时候，我们需要用到的一个技巧。\n",
    "- 通常在做卷积的时候，原始图片的高宽要么不变，要么减半\n",
    "- 但是语义分割需要对原始图片中的每一个像素点做输出判定，这个时候不停的压缩图片中的像素就会有问题了\n",
    "- 和卷积刚好是相反的操作，让原始图片的像素变多"
   ]
  }
 ],
 "metadata": {
  "language_info": {
   "name": "python"
  },
  "orig_nbformat": 4
 },
 "nbformat": 4,
 "nbformat_minor": 2
}
