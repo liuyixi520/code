{
 "cells": [
  {
   "cell_type": "markdown",
   "metadata": {},
   "source": [
    "# 神经网络leNet\n",
    "- 这是YAN大神的网络，主要用在手写数据集MINIST上的数字分类，为美国邮局服务的\n",
    "- 里面用了一些经典的思想，比如池化、卷积、全连接等等"
   ]
  },
  {
   "cell_type": "code",
   "execution_count": 1,
   "metadata": {},
   "outputs": [],
   "source": [
    "import torch\n",
    "from torch import nn\n",
    "from torch.nn import functional as F\n",
    "from d2l import torch as d2l"
   ]
  },
  {
   "cell_type": "code",
   "execution_count": 4,
   "metadata": {},
   "outputs": [],
   "source": [
    "# 将输入的数据进行数据处理\n",
    "# 这个函数更像是对输入图片像素矩阵的要求\n",
    "# -1表示要求不改变输入图像的样本个数\n",
    "# 1表示输入的图片是单通道（灰白）图片\n",
    "# 28x28表示图片的长宽\n",
    "class Reshape(nn.Module):\n",
    "    def forward(self, x):\n",
    "        # 将原始图像的像素矩阵转换成一个通道，28x28的矩阵\n",
    "        return x.view(-1, 1, 28, 28)\n",
    "\n",
    "net = nn.Sequential(\n",
    "    # 原始图片要32x32的，所以上下左右各填充两个像素点\n",
    "    # 将图片输出成6通道的\n",
    "    Reshape(),nn.Conv2d(1, 6, kernel_size=5, padding=2),nn.Sigmoid(),\n",
    "    # 来一个池化层，将图片缩小一半, kernel_size=2, stride=2 \n",
    "    nn.AvgPool2d(2, stride=2),\n",
    "    # 再次将图片输出成16通道的\n",
    "    nn.Conv2d(6, 16, kernel_size=5, padding=0),nn.Sigmoid(),\n",
    "    nn.AvgPool2d(2, stride=2), nn.Flatten(),\n",
    "    nn.Linear(16*5*5, 120),nn.Sigmoid(),\n",
    "    nn.Linear(120, 84),nn.Sigmoid(),\n",
    "    nn.Linear(84, 10)\n",
    ")"
   ]
  },
  {
   "cell_type": "code",
   "execution_count": 5,
   "metadata": {},
   "outputs": [
    {
     "name": "stdout",
     "output_type": "stream",
     "text": [
      "Reshape output shape:\t torch.Size([1, 1, 28, 28])\n",
      "Conv2d output shape:\t torch.Size([1, 6, 28, 28])\n",
      "Sigmoid output shape:\t torch.Size([1, 6, 28, 28])\n",
      "AvgPool2d output shape:\t torch.Size([1, 6, 14, 14])\n",
      "Conv2d output shape:\t torch.Size([1, 16, 10, 10])\n",
      "Sigmoid output shape:\t torch.Size([1, 16, 10, 10])\n",
      "AvgPool2d output shape:\t torch.Size([1, 16, 5, 5])\n",
      "Flatten output shape:\t torch.Size([1, 400])\n",
      "Linear output shape:\t torch.Size([1, 120])\n",
      "Sigmoid output shape:\t torch.Size([1, 120])\n",
      "Linear output shape:\t torch.Size([1, 84])\n",
      "Sigmoid output shape:\t torch.Size([1, 84])\n",
      "Linear output shape:\t torch.Size([1, 10])\n"
     ]
    }
   ],
   "source": [
    "X = torch.rand(size=(1, 1, 28, 28), dtype=torch.float32)\n",
    "for layer in net:\n",
    "    X = layer(X)\n",
    "    print(layer.__class__.__name__, 'output shape:\\t', X.shape)"
   ]
  },
  {
   "cell_type": "code",
   "execution_count": null,
   "metadata": {},
   "outputs": [],
   "source": []
  }
 ],
 "metadata": {
  "interpreter": {
   "hash": "1021d31412234ebea20baf61e8fdbc8c22153a59dde70b52bcafccce89619e30"
  },
  "kernelspec": {
   "display_name": "Python 3.8.12 ('pytorch')",
   "language": "python",
   "name": "python3"
  },
  "language_info": {
   "codemirror_mode": {
    "name": "ipython",
    "version": 3
   },
   "file_extension": ".py",
   "mimetype": "text/x-python",
   "name": "python",
   "nbconvert_exporter": "python",
   "pygments_lexer": "ipython3",
   "version": "3.8.12"
  },
  "orig_nbformat": 4
 },
 "nbformat": 4,
 "nbformat_minor": 2
}
