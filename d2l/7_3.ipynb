{
 "cells": [
  {
   "cell_type": "markdown",
   "metadata": {},
   "source": [
    "# NiN(网络中的网络)\n",
    "- LeNet, AlexNet, VGG三个网络都有一个共同的设计模式：通过一些列的卷积层和池化层来提取空间结构特征，然后通过全连接层对特征进行表征处理\n",
    "- AlexNet和VGG都是基于LeNet的改进版本，AlexNet的卷积层和池化层的结构更加复杂，VGG的结构更加简洁\n",
    "- 在最后他们都不可避免的使用了全连接层，但这样会丢失数据的空间信息\n",
    "- NiN提供了一个非常简单的解决方案：在每个像素（1x1的卷积层）的通道上分别使用MLP，这样就可以得到一个非常简单的特征表征"
   ]
  }
 ],
 "metadata": {
  "language_info": {
   "name": "python"
  },
  "orig_nbformat": 4
 },
 "nbformat": 4,
 "nbformat_minor": 2
}
