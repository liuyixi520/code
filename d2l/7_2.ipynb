{
 "cells": [
  {
   "cell_type": "markdown",
   "metadata": {},
   "source": [
    "# VGG网络\n",
    "- 将卷积层、激活函数、池化层放在一个模块（函数）中"
   ]
  },
  {
   "cell_type": "code",
   "execution_count": 1,
   "metadata": {},
   "outputs": [],
   "source": [
    "import torch\n",
    "from torch import nn\n",
    "from d2l import torch as d2l"
   ]
  },
  {
   "cell_type": "code",
   "execution_count": 2,
   "metadata": {},
   "outputs": [],
   "source": [
    "# 定义vgg网络\n",
    "# 参数分别为：卷积层数、输入通道数，输出通道数\n",
    "def vgg_block(num_convs, input_channel, output_channel):\n",
    "    # 最后这个模块输出的神经网络\n",
    "    blk = []\n",
    "    for i in range(num_convs):\n",
    "        # 卷积层\n",
    "        blk.append(nn.Conv2d(input_channel, output_channel, \n",
    "        kernel_size=3, padding=1))\n",
    "        # 激活函数\n",
    "        blk.append(nn.ReLU()) \n",
    "        # 后面一层的输入是当前层的输出\n",
    "        input_channel = output_channel\n",
    "    # 最后再链接一个最大池化层\n",
    "    blk.append(nn.MaxPool2d(kernel_size=2, stride=2))\n",
    "    # 返回这个模块\n",
    "    return nn.Sequential(*blk)"
   ]
  },
  {
   "cell_type": "code",
   "execution_count": 3,
   "metadata": {},
   "outputs": [],
   "source": [
    "# 定义vgg网络\n",
    "# 两个参数分别表示：卷积层数、输出通道数\n",
    "conv_arch = ((1, 64), (1, 128), (2, 256), (2, 512), (2, 512))"
   ]
  },
  {
   "cell_type": "code",
   "execution_count": 4,
   "metadata": {},
   "outputs": [],
   "source": [
    "# 定义vgg网络\n",
    "def vgg(conv_arch):\n",
    "    conv_blocks = []\n",
    "    # 初始化第一层的输入通道数\n",
    "    in_channel = 1\n",
    "    for(num_convs, out_chanels) in conv_arch:\n",
    "        conv_blocks.append(vgg_block(num_convs, in_channel, out_chanels))\n",
    "        in_channel = out_chanels\n",
    "    return nn.Sequential(\n",
    "        *conv_blocks,\n",
    "        nn.Flatten(),\n",
    "        nn.Linear(out_chanels*7*7, 4096, nn.ReLU(), nn.Dropout(0.5)),\n",
    "        nn.Linear(4096, 4096, nn.ReLU(), nn.Dropout(0.5)),\n",
    "        nn.Linear(4096, 10)\n",
    "    )\n"
   ]
  },
  {
   "cell_type": "code",
   "execution_count": 5,
   "metadata": {},
   "outputs": [
    {
     "ename": "TypeError",
     "evalue": "vgg_block() missing 3 required positional arguments: 'num_convs', 'input_channel', and 'output_channel'",
     "output_type": "error",
     "traceback": [
      "\u001b[0;31m---------------------------------------------------------------------------\u001b[0m",
      "\u001b[0;31mTypeError\u001b[0m                                 Traceback (most recent call last)",
      "Input \u001b[0;32mIn [5]\u001b[0m, in \u001b[0;36m<cell line: 1>\u001b[0;34m()\u001b[0m\n\u001b[0;32m----> 1\u001b[0m net \u001b[38;5;241m=\u001b[39m \u001b[43mvgg\u001b[49m\u001b[43m(\u001b[49m\u001b[43mconv_arch\u001b[49m\u001b[43m)\u001b[49m\n",
      "Input \u001b[0;32mIn [4]\u001b[0m, in \u001b[0;36mvgg\u001b[0;34m(conv_arch)\u001b[0m\n\u001b[1;32m      5\u001b[0m in_channel \u001b[38;5;241m=\u001b[39m \u001b[38;5;241m1\u001b[39m\n\u001b[1;32m      6\u001b[0m \u001b[38;5;28;01mfor\u001b[39;00m(num_convs, out_chanels) \u001b[38;5;129;01min\u001b[39;00m conv_arch:\n\u001b[0;32m----> 7\u001b[0m     conv_blocks\u001b[38;5;241m.\u001b[39mappend(\u001b[43mvgg_block\u001b[49m\u001b[43m(\u001b[49m\u001b[43m)\u001b[49m)\n\u001b[1;32m      8\u001b[0m     in_channel \u001b[38;5;241m=\u001b[39m out_chanels\n\u001b[1;32m      9\u001b[0m \u001b[38;5;28;01mreturn\u001b[39;00m nn\u001b[38;5;241m.\u001b[39mSequential(\n\u001b[1;32m     10\u001b[0m     \u001b[38;5;241m*\u001b[39mconv_blocks,\n\u001b[1;32m     11\u001b[0m     nn\u001b[38;5;241m.\u001b[39mFlatten(),\n\u001b[0;32m   (...)\u001b[0m\n\u001b[1;32m     14\u001b[0m     nn\u001b[38;5;241m.\u001b[39mLinear(\u001b[38;5;241m4096\u001b[39m, \u001b[38;5;241m10\u001b[39m)\n\u001b[1;32m     15\u001b[0m )\n",
      "\u001b[0;31mTypeError\u001b[0m: vgg_block() missing 3 required positional arguments: 'num_convs', 'input_channel', and 'output_channel'"
     ]
    }
   ],
   "source": [
    "net = vgg(conv_arch)"
   ]
  },
  {
   "cell_type": "code",
   "execution_count": null,
   "metadata": {},
   "outputs": [],
   "source": []
  }
 ],
 "metadata": {
  "interpreter": {
   "hash": "1021d31412234ebea20baf61e8fdbc8c22153a59dde70b52bcafccce89619e30"
  },
  "kernelspec": {
   "display_name": "Python 3.8.12 ('pytorch')",
   "language": "python",
   "name": "python3"
  },
  "language_info": {
   "codemirror_mode": {
    "name": "ipython",
    "version": 3
   },
   "file_extension": ".py",
   "mimetype": "text/x-python",
   "name": "python",
   "nbconvert_exporter": "python",
   "pygments_lexer": "ipython3",
   "version": "3.8.12"
  },
  "orig_nbformat": 4
 },
 "nbformat": 4,
 "nbformat_minor": 2
}
