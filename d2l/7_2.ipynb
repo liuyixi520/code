{
 "cells": [
  {
   "cell_type": "markdown",
   "metadata": {},
   "source": [
    "# VGG网络\n",
    "- 将卷积层、激活函数、池化层放在一个模块（函数）中\n",
    "- 这样显得整个网络更加清晰"
   ]
  },
  {
   "cell_type": "code",
   "execution_count": 1,
   "metadata": {},
   "outputs": [],
   "source": [
    "import torch\n",
    "from torch import nn\n",
    "from d2l import torch as d2l"
   ]
  },
  {
   "cell_type": "code",
   "execution_count": 3,
   "metadata": {},
   "outputs": [],
   "source": [
    "# 定义vgg网络\n",
    "# 参数分别为：卷积层数、输入通道数，输出通道数\n",
    "def vgg_block(num_convs, input_channel, output_channel):\n",
    "    # 最后这个模块输出的神经网络\n",
    "    blk = []\n",
    "    for i in range(num_convs):\n",
    "        # 卷积层\n",
    "        blk.append(nn.Conv2d(input_channel, output_channel, \n",
    "        kernel_size=3, padding=1))\n",
    "        # 激活函数\n",
    "        blk.append(nn.ReLU()) \n",
    "        # 后面一层的输入是当前层的输出\n",
    "        input_channel = output_channel\n",
    "    # 最后再链接一个最大池化层\n",
    "    blk.append(nn.MaxPool2d(kernel_size=2, stride=2))\n",
    "    # 返回这个模块\n",
    "    return nn.Sequential(*blk)"
   ]
  },
  {
   "cell_type": "code",
   "execution_count": 4,
   "metadata": {},
   "outputs": [],
   "source": [
    "# 定义vgg网络\n",
    "# 两个参数分别表示：卷积层数、输出通道数\n",
    "conv_arch = ((1, 64), (1, 128), (2, 256), (2, 512), (2, 512))"
   ]
  },
  {
   "cell_type": "code",
   "execution_count": 9,
   "metadata": {},
   "outputs": [],
   "source": [
    "# 定义vgg网络\n",
    "def vgg(conv_arch):\n",
    "    conv_blocks = []\n",
    "    # 初始化第一层的输入通道数\n",
    "    in_channel = 1\n",
    "    for(num_convs, out_chanels) in conv_arch:\n",
    "        conv_blocks.append(vgg_block(num_convs, in_channel, out_chanels))\n",
    "        in_channel = out_chanels\n",
    "    return nn.Sequential(\n",
    "        *conv_blocks,\n",
    "        nn.Flatten(),\n",
    "        nn.Linear(out_chanels*7*7, 4096), nn.ReLU(), nn.Dropout(0.5),\n",
    "        nn.Linear(4096, 4096), nn.ReLU(), nn.Dropout(0.5),\n",
    "        nn.Linear(4096, 10)\n",
    "    )\n",
    "net = vgg(conv_arch)"
   ]
  },
  {
   "cell_type": "code",
   "execution_count": 11,
   "metadata": {},
   "outputs": [
    {
     "name": "stdout",
     "output_type": "stream",
     "text": [
      "Sequential output shape:  torch.Size([1, 64, 112, 112])\n",
      "Sequential output shape:  torch.Size([1, 128, 56, 56])\n",
      "Sequential output shape:  torch.Size([1, 256, 28, 28])\n",
      "Sequential output shape:  torch.Size([1, 512, 14, 14])\n",
      "Sequential output shape:  torch.Size([1, 512, 7, 7])\n",
      "Flatten output shape:  torch.Size([1, 25088])\n",
      "Linear output shape:  torch.Size([1, 4096])\n",
      "ReLU output shape:  torch.Size([1, 4096])\n",
      "Dropout output shape:  torch.Size([1, 4096])\n",
      "Linear output shape:  torch.Size([1, 4096])\n",
      "ReLU output shape:  torch.Size([1, 4096])\n",
      "Dropout output shape:  torch.Size([1, 4096])\n",
      "Linear output shape:  torch.Size([1, 10])\n"
     ]
    }
   ],
   "source": [
    "X = torch.randn(size=(1, 1, 224, 224))\n",
    "for blk in net:\n",
    "    X = blk(X)\n",
    "    print(blk.__class__.__name__, 'output shape: ', X.shape)"
   ]
  },
  {
   "cell_type": "code",
   "execution_count": 12,
   "metadata": {},
   "outputs": [],
   "source": [
    "ratio = 4\n",
    "small_conv_arch = [(pair[0], pair[1]//ratio) for pair in conv_arch]\n",
    "net = vgg(small_conv_arch)"
   ]
  },
  {
   "cell_type": "code",
   "execution_count": null,
   "metadata": {},
   "outputs": [],
   "source": [
    "lr, num_epochs, batch_size = 0.05, 5, 256\n",
    "train_iter, test_iter = d2l.load_data_fashion_mnist(batch_size, resize=224)\n",
    "d2l.train_ch6(net, train_iter, test_iter, num_epochs, lr, d2l.try_gpu())"
   ]
  }
 ],
 "metadata": {
  "interpreter": {
   "hash": "1021d31412234ebea20baf61e8fdbc8c22153a59dde70b52bcafccce89619e30"
  },
  "kernelspec": {
   "display_name": "Python 3.8.12 ('pytorch')",
   "language": "python",
   "name": "python3"
  },
  "language_info": {
   "codemirror_mode": {
    "name": "ipython",
    "version": 3
   },
   "file_extension": ".py",
   "mimetype": "text/x-python",
   "name": "python",
   "nbconvert_exporter": "python",
   "pygments_lexer": "ipython3",
   "version": "3.8.12"
  },
  "orig_nbformat": 4
 },
 "nbformat": 4,
 "nbformat_minor": 2
}
