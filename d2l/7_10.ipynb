{
 "cells": [
  {
   "cell_type": "markdown",
   "metadata": {},
   "source": [
    "# 锚框\n",
    "- 在目标检测的任务中回答where这个问题，常常用到锚框这个技术\n",
    "- 一般要回答锚框里是否含有前景的物体\n",
    "- 还要回答锚框与真实框之间的偏移，一般用IoU来衡量\n",
    "## 赋予锚框标号\n",
    "- 每个锚框是一个训练样本\n",
    "- 将每一个锚框要么标记成背景，要么关联上一个真实边缘框\n",
    "- 我们可能生成大量的锚框，这会导致大量的负样本\n",
    "## 分配锚框标号示例\n",
    "- 假设现在有四个边缘框，九个锚框\n",
    "- 这样就能形成一个锚框和边缘框的矩阵，共有36个IoU的值\n",
    "- 这36个值里面为零的锚框就是背景锚框，这是我们不关心的锚框，直接可以剔除掉\n",
    "- 然后我们再找IoU最大的那个值，比如说是第二行第三列，这个时候我们就把这个值保留下来，将这个行和裂伤的其它值全部剔除掉\n",
    "- 上面那样做的目的是我们已经发现了第二个锚框是最能描述出第三个物体所在位置的\n",
    "- 将上面的两个操作循环执行三次，就可以找到其它三个物体的最佳锚框\n",
    "## 使用非极大值抑制（NMS）输出\n",
    "- 选中是前景类的最大预测值\n",
    "- 去掉所有其它和它IoU值大于阈值的预测值\n",
    "- 重复上面的过程所有的预测要么被选中，要么被剔除"
   ]
  },
  {
   "cell_type": "code",
   "execution_count": null,
   "metadata": {},
   "outputs": [],
   "source": [
    "%matplotlib inline\n",
    "import torch\n",
    "from d2l import torch as d2l\n",
    "torch.set_printoptions(2)"
   ]
  },
  {
   "cell_type": "code",
   "execution_count": null,
   "metadata": {},
   "outputs": [],
   "source": []
  }
 ],
 "metadata": {
  "language_info": {
   "name": "python"
  },
  "orig_nbformat": 4
 },
 "nbformat": 4,
 "nbformat_minor": 2
}
