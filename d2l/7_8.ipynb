{
 "cells": [
  {
   "cell_type": "markdown",
   "metadata": {},
   "source": [
    "# 微调\n",
    "## 神经网络的一般架构\n",
    "- 特征抽取，将图像中的原始像素变成容易线性分割的特征向量\n",
    "- 线性分类，将抽取出来的容易分割的特征向量进行分类\n",
    "## 微调的含义\n",
    "- 在一个大的数据集(e.g.ImageNet)上已经训练好了模型\n",
    "- 我们现在有一个数据集比ImageNet小，我们就直接可以用ImageNet上的这个模型，只需要调整最后一层就可以了"
   ]
  }
 ],
 "metadata": {
  "language_info": {
   "name": "python"
  },
  "orig_nbformat": 4
 },
 "nbformat": 4,
 "nbformat_minor": 2
}
