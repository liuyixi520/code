{
 "cells": [
  {
   "cell_type": "markdown",
   "metadata": {},
   "source": [
    "# 微调\n",
    "## 神经网络的一般架构\n",
    "- 特征抽取，将图像中的原始像素变成容易线性分割的特征向量\n",
    "- 线性分类，将抽取出来的容易分割的特征向量进行分类\n",
    "## 微调的含义\n",
    "- 在一个大的数据集(e.g.ImageNet)上已经训练好了模型\n",
    "- 我们现在有一个数据集比ImageNet小，我们就直接可以用ImageNet上的这个模型，只需要调整最后一层就可以了\n",
    "- 越底层的模式越抽象，所以这也是用大的数据集训练出来的模型，基本上不用去调整底层的权重原因\n",
    "## 总结\n",
    "- 微调通过使用在大数据上得到的预训练好的模型来初始化模型的权重，从而达到更好的效果\n",
    "- 预训练模型的质量很重要\n",
    "- 微调通常速度更快，精度更高"
   ]
  },
  {
   "cell_type": "code",
   "execution_count": null,
   "metadata": {},
   "outputs": [],
   "source": []
  }
 ],
 "metadata": {
  "language_info": {
   "name": "python"
  },
  "orig_nbformat": 4
 },
 "nbformat": 4,
 "nbformat_minor": 2
}
