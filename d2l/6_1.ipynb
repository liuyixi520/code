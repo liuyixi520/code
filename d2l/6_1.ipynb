{
 "cells": [
  {
   "cell_type": "markdown",
   "metadata": {},
   "source": [
    "# 什么是卷积神经网络\n",
    "- 卷积神经网络就是用一个小矩阵（卷积核）在原来图片像素矩阵上平移，做矩阵叉乘，然后生成一个新的矩阵\n",
    "- 这个时候如果原始图片中的矩阵与卷积核比较相似，那么做完矩阵运算之后，得到的值就会比较大，如果不相似，那么值就会比较小。\n",
    "- 然后通过激活函数，相似的地方就会被机会，不相似的地方就会被忽略"
   ]
  },
  {
   "cell_type": "markdown",
   "metadata": {},
   "source": [
    "# 为什么要使用卷积神经网络\n",
    "- 就图像处理来说，图像本来是一个二维的点矩阵，如果不使用卷积神经网络，我们就不得不把这些点矩阵拉伸成一个一维的向量，然后在喂给MLP模型，这个时候会发生参数爆炸\n",
    "- 以12M像素的彩色图片为例，他总共有36000000个像素点，如果我们做一个隐藏层的MLP，假设这个隐藏层上有100个神经元，那么这个神经网络就会有36000000*100=3.6B的参数，这个需要14GB的内存，这时候这个矮胖的模型基本上就没有办法训练了\n",
    "- 另一个重要的原因在于将二维矩阵拉伸成一个一维的向量，原来图片上的一些信息会丢失掉"
   ]
  },
  {
   "cell_type": "markdown",
   "metadata": {},
   "source": [
    "# 为什么卷积神经网络是有效的\n",
    "- 平移不变形：也就是说不管你在图片上如何移动目标小区域，都不会影响卷积神经网络在这张图片上的效果\n",
    "- 局部性：只让神经网络注意图像中的局部区域，而不必在意图像中相隔较远的区域之间的关系"
   ]
  },
  {
   "cell_type": "code",
   "execution_count": 2,
   "metadata": {},
   "outputs": [],
   "source": [
    "import torch\n",
    "from torch import nn\n",
    "from d2l import torch as d2l"
   ]
  },
  {
   "cell_type": "code",
   "execution_count": 3,
   "metadata": {},
   "outputs": [],
   "source": [
    "# 模拟卷积的运算过程，做一个二维相关的运算\n",
    "def corr2d(X,K):\n",
    "    # 代表卷积核的高度和宽度\n",
    "    h,w = K.shape\n",
    "    # 初始化卷积运算之后的结果\n",
    "    Y = torch.zeros((X.shape[0]-h+1,X.shape[1]-w+1))\n",
    "    # 模拟卷积核在原始图片像素矩阵上开始平移计算\n",
    "    for i in range(Y.shape[0]):\n",
    "        for j in range(Y.shape[1]):\n",
    "            Y[i,j] = (X[i:i+h,j:j+w]*K).sum()\n",
    "    return Y"
   ]
  },
  {
   "cell_type": "code",
   "execution_count": 4,
   "metadata": {},
   "outputs": [
    {
     "name": "stdout",
     "output_type": "stream",
     "text": [
      "tensor([[25., 30.],\n",
      "        [45., 50.]])\n"
     ]
    }
   ],
   "source": [
    "# 演示一下卷积的运算过程\n",
    "X = torch.arange(16).view((4,4))\n",
    "K = torch.tensor([[1,0,1],[0,1,0],[1,0,1]])\n",
    "Y = corr2d(X,K)\n",
    "print(Y)"
   ]
  },
  {
   "cell_type": "code",
   "execution_count": 5,
   "metadata": {},
   "outputs": [],
   "source": [
    "# 用上面的卷积函数是一个二维卷积层\n",
    "class Conv2D(nn.Module):\n",
    "    def __init__(self, kernel_size) -> None:\n",
    "        super().__init__()\n",
    "        self.weight = nn.Parameter(kernel_size)\n",
    "        # 每次卷积核做完运算之后，都会加上一个偏置项\n",
    "        self.bias = nn.Parameter(torch.zeros(1))\n",
    "    def forward(self, X):\n",
    "        return corr2d(X,self.weight) + self.bias"
   ]
  },
  {
   "cell_type": "code",
   "execution_count": 11,
   "metadata": {},
   "outputs": [
    {
     "data": {
      "text/plain": [
       "tensor([[1., 1., 0., 0., 0., 0., 1., 1.],\n",
       "        [1., 1., 0., 0., 0., 0., 1., 1.],\n",
       "        [1., 1., 0., 0., 0., 0., 1., 1.],\n",
       "        [1., 1., 0., 0., 0., 0., 1., 1.],\n",
       "        [1., 1., 0., 0., 0., 0., 1., 1.],\n",
       "        [1., 1., 0., 0., 0., 0., 1., 1.]])"
      ]
     },
     "execution_count": 11,
     "metadata": {},
     "output_type": "execute_result"
    }
   ],
   "source": [
    "# 一个用卷积层实现的图像边缘检测\n",
    "# 其中1代表黑色，0代表白色\n",
    "X = torch.ones(6,8)\n",
    "X[:,2:6] = 0\n",
    "X"
   ]
  },
  {
   "cell_type": "code",
   "execution_count": 12,
   "metadata": {},
   "outputs": [
    {
     "data": {
      "text/plain": [
       "tensor([[ 0.,  1.,  0.,  0.,  0., -1.,  0.],\n",
       "        [ 0.,  1.,  0.,  0.,  0., -1.,  0.],\n",
       "        [ 0.,  1.,  0.,  0.,  0., -1.,  0.],\n",
       "        [ 0.,  1.,  0.,  0.,  0., -1.,  0.],\n",
       "        [ 0.,  1.,  0.,  0.,  0., -1.,  0.],\n",
       "        [ 0.,  1.,  0.,  0.,  0., -1.,  0.]])"
      ]
     },
     "execution_count": 12,
     "metadata": {},
     "output_type": "execute_result"
    }
   ],
   "source": [
    "# 初始化这个卷积核\n",
    "# 如果图片上的候选区域像素没有发生改变，那么这个区域与卷积核矩阵叉乘之后的结果是0\n",
    "# 如果图片上的候选区域像素由黑变成白，那么这个区域与卷积核矩阵叉乘之后的结果是1\n",
    "# 如果图片上的候选区域像素由白变成黑，那么这个区域与卷积核矩阵叉乘之后的结果是-1\n",
    "K = torch.tensor([[1, -1]])\n",
    "Y = corr2d(X,K)\n",
    "Y"
   ]
  },
  {
   "cell_type": "markdown",
   "metadata": {},
   "source": [
    "# 图像检测的结果\n",
    "- 在第二列的时候发生了黑变白的过程\n",
    "- 在原矩阵倒数第三列的时候发生了白变黑的过程（经过卷积核叉乘后，矩阵大小变成X.shape-K.shape+1）"
   ]
  },
  {
   "cell_type": "code",
   "execution_count": 8,
   "metadata": {},
   "outputs": [
    {
     "data": {
      "text/plain": [
       "tensor([[0., 0., 0., 0., 0.],\n",
       "        [0., 0., 0., 0., 0.],\n",
       "        [0., 0., 0., 0., 0.],\n",
       "        [0., 0., 0., 0., 0.],\n",
       "        [0., 0., 0., 0., 0.],\n",
       "        [0., 0., 0., 0., 0.],\n",
       "        [0., 0., 0., 0., 0.],\n",
       "        [0., 0., 0., 0., 0.]])"
      ]
     },
     "execution_count": 8,
     "metadata": {},
     "output_type": "execute_result"
    }
   ],
   "source": [
    "# 上面那个边缘检测是无法检测出来水平变换的\n",
    "Y = corr2d(X.T, K)\n",
    "Y"
   ]
  },
  {
   "cell_type": "markdown",
   "metadata": {},
   "source": [
    "# 学习由X生成Y的卷积核"
   ]
  },
  {
   "cell_type": "code",
   "execution_count": 13,
   "metadata": {},
   "outputs": [
    {
     "name": "stdout",
     "output_type": "stream",
     "text": [
      "2 0.9026836156845093\n",
      "4 0.1517886072397232\n",
      "6 0.025606578215956688\n",
      "8 0.004353695083409548\n",
      "10 0.0007540329825133085\n"
     ]
    },
    {
     "name": "stderr",
     "output_type": "stream",
     "text": [
      "[W NNPACK.cpp:79] Could not initialize NNPACK! Reason: Unsupported hardware.\n"
     ]
    }
   ],
   "source": [
    "conv2d = nn.Conv2d(1, 1, kernel_size=(1, 2), bias=False)\n",
    "X = X.reshape((1, 1, 6, 8))\n",
    "Y = Y.reshape((1, 1, 6, 7))\n",
    "for i in range(10):\n",
    "    Y_hat = conv2d(X)\n",
    "    l = (Y_hat - Y)**2\n",
    "    conv2d.zero_grad()\n",
    "    l.sum().backward()\n",
    "    conv2d.weight.data[:] -= 3e-2*conv2d.weight.grad\n",
    "    if(i+1)%2 == 0:\n",
    "        print(i+1, l.sum().item())"
   ]
  },
  {
   "cell_type": "code",
   "execution_count": 14,
   "metadata": {},
   "outputs": [
    {
     "data": {
      "text/plain": [
       "tensor([[[[ 0.9957, -0.9944]]]])"
      ]
     },
     "execution_count": 14,
     "metadata": {},
     "output_type": "execute_result"
    }
   ],
   "source": [
    "conv2d.weight.data"
   ]
  },
  {
   "cell_type": "code",
   "execution_count": null,
   "metadata": {},
   "outputs": [],
   "source": []
  }
 ],
 "metadata": {
  "interpreter": {
   "hash": "1021d31412234ebea20baf61e8fdbc8c22153a59dde70b52bcafccce89619e30"
  },
  "kernelspec": {
   "display_name": "Python 3.8.12 ('pytorch')",
   "language": "python",
   "name": "python3"
  },
  "language_info": {
   "codemirror_mode": {
    "name": "ipython",
    "version": 3
   },
   "file_extension": ".py",
   "mimetype": "text/x-python",
   "name": "python",
   "nbconvert_exporter": "python",
   "pygments_lexer": "ipython3",
   "version": "3.8.12"
  },
  "orig_nbformat": 4
 },
 "nbformat": 4,
 "nbformat_minor": 2
}
