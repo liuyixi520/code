{
 "cells": [
  {
   "cell_type": "markdown",
   "metadata": {},
   "source": [
    "# 物体检测算法\n",
    "## 兴趣区域(RoI)池化层\n",
    "- 给定一个锚框，均匀的分割成nxm块，输出每块中的最大值\n",
    "- 不管锚框有多大，总是输出nxm个值\n",
    "## R-CNN总结\n",
    "- R-CNN是最早、也是最有名的一类基于锚框和CNN的目标检测算法\n",
    "- Faster R-CNN和Mask R-CNN经常会在要求高精度的场景下使用\n",
    "## SSD-Single Shot Detector总结\n",
    "- SSD通过单神经网络来检测模型\n",
    "- 以每个像素为中心产生多个锚框\n",
    "- 在多个段的输出上进行多尺度的检测"
   ]
  }
 ],
 "metadata": {
  "language_info": {
   "name": "python"
  },
  "orig_nbformat": 4
 },
 "nbformat": 4,
 "nbformat_minor": 2
}
