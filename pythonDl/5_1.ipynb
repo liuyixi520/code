{
 "cells": [
  {
   "cell_type": "markdown",
   "metadata": {},
   "source": [
    "# 深度学习用于计算机视觉\n",
    "## 卷积神经网络简介\n",
    "![卷积神经网络工作原理](../img/cnn_work.png)\n",
    "- 能够计算convnet中的参数个数，就明白了卷积神经网络的工作原理\n",
    "- 卷积核是由权重参数组成的，每个w都是卷积核上的一个点，所以卷积神经网络在学习的过程中就是在寻找合适的卷积核\n",
    "- 卷积网络中的参数个数计算公式：$parameters = C_o \\times (K_w \\times K_h \\times C_i + 1) $\n",
    "## 白话卷积核构建过程\n",
    "- 首先卷积核是一个4D张量，有多少个输入通道就要构建多少层卷积核，有多少个输出通道就要构建多少堆卷积核\n",
    "- 卷积的输出通道是一个抽象的概念，第一层的时候可以简单的理解为色道（RGB=3，WB=1），后来的输出通道数就代表该层提取出来特征的个数\n",
    "- 卷积神经网络的输入和输出都是4D张量：样本数，长、宽、通道数。上一层的输出通道数是下一层的输入通道数\n",
    "- 卷积在运算的时候先考虑层，再考虑堆。好理解一点。\n",
    "- 各层在做了卷积之后，要累加在一起，也就是说不管有多少输入，输出只有一个。即多层卷积核的输出只有一层\n",
    "- 卷积核上的每个像素点会有一个权重w，每堆卷积核上会有一个偏置b\n",
    "## 说明图中参数的计算过程\n",
    "- 输入通道为2，输出通道为3，卷积核的大小为3x3：构建2层3x3的卷积核，总共构建3堆\n",
    "- 在每堆每层中有9个w，两层有18个w，然后每堆有1个b，也就是说每堆有19个参数，总共三堆总共就有57个参数\n",
    "- 每堆卷积核经过卷积后，会形成一个3x3的张量\n",
    "- 最后3堆积累在一起，就会形成一个3x3x3的3D张量"
   ]
  },
  {
   "cell_type": "code",
   "execution_count": null,
   "metadata": {},
   "outputs": [],
   "source": [
    "!ls ../img/cnn_work.png"
   ]
  },
  {
   "cell_type": "code",
   "execution_count": null,
   "metadata": {},
   "outputs": [],
   "source": [
    "from keras import models, layers\n",
    "# 上图中的网络模型搭建\n",
    "model_demo = models.Sequential()\n",
    "model_demo.add(layers.Conv2D(3, (3,3), activation='relu', input_shape=(5,5,2)))\n",
    "model_demo.summary()"
   ]
  },
  {
   "cell_type": "code",
   "execution_count": null,
   "metadata": {},
   "outputs": [],
   "source": [
    "# LeNet模型\n",
    "model = models.Sequential()\n",
    "model.add(layers.Conv2D(32, (3, 3), activation='relu', input_shape=(28, 28, 1)))\n",
    "model.add(layers.MaxPooling2D((2, 2)))\n",
    "model.add(layers.Conv2D(64, (3, 3), activation='relu'))\n",
    "model.add(layers.MaxPooling2D((2, 2)))\n",
    "model.add(layers.Conv2D(64, (3, 3), activation='relu'))\n",
    "model.add(layers.Flatten())\n",
    "model.add(layers.Dense(64, activation='relu'))\n",
    "model.add(layers.Dense(10, activation='softmax'))\n",
    "model.summary()"
   ]
  },
  {
   "cell_type": "code",
   "execution_count": null,
   "metadata": {},
   "outputs": [],
   "source": [
    "# 使用卷积神经网络在minist数据集上训练\n",
    "from keras.datasets import mnist\n",
    "from tensorflow.keras.utils import to_categorical\n",
    "(train_images, train_labels), (test_images, test_labels) = mnist.load_data()\n",
    "train_images = train_images.reshape((60000, 28, 28, 1))\n",
    "train_images = train_images.astype('float32') / 255\n",
    "test_images = test_images.reshape((10000, 28, 28, 1))\n",
    "test_images = test_images.astype('float32') / 255\n",
    "train_labels = to_categorical(train_labels)\n",
    "test_labels = to_categorical(test_labels)\n",
    "model.compile(optimizer='rmsprop',\n",
    "              loss='categorical_crossentropy',\n",
    "              metrics=['accuracy'])\n",
    "model.fit(train_images, train_labels, epochs=5, batch_size=64)\n",
    "test_loss, test_acc = model.evaluate(test_images, test_labels)"
   ]
  },
  {
   "cell_type": "code",
   "execution_count": null,
   "metadata": {},
   "outputs": [],
   "source": []
  }
 ],
 "metadata": {
  "interpreter": {
   "hash": "1021d31412234ebea20baf61e8fdbc8c22153a59dde70b52bcafccce89619e30"
  },
  "kernelspec": {
   "display_name": "Python 3.8.12 ('pytorch')",
   "language": "python",
   "name": "python3"
  },
  "language_info": {
   "codemirror_mode": {
    "name": "ipython",
    "version": 3
   },
   "file_extension": ".py",
   "mimetype": "text/x-python",
   "name": "python",
   "nbconvert_exporter": "python",
   "pygments_lexer": "ipython3",
   "version": "3.8.12"
  },
  "orig_nbformat": 4
 },
 "nbformat": 4,
 "nbformat_minor": 2
}
