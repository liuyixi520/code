{
 "cells": [
  {
   "cell_type": "markdown",
   "metadata": {},
   "source": [
    "# 可视化类激活热力图"
   ]
  },
  {
   "cell_type": "code",
   "execution_count": 1,
   "metadata": {},
   "outputs": [
    {
     "name": "stderr",
     "output_type": "stream",
     "text": [
      "2022-04-15 17:42:14.718624: W tensorflow/stream_executor/platform/default/dso_loader.cc:64] Could not load dynamic library 'libcuda.so.1'; dlerror: libcuda.so.1: cannot open shared object file: No such file or directory\n",
      "2022-04-15 17:42:14.718654: W tensorflow/stream_executor/cuda/cuda_driver.cc:269] failed call to cuInit: UNKNOWN ERROR (303)\n",
      "2022-04-15 17:42:14.718669: I tensorflow/stream_executor/cuda/cuda_diagnostics.cc:156] kernel driver does not appear to be running on this host (yy): /proc/driver/nvidia/version does not exist\n",
      "2022-04-15 17:42:14.718804: I tensorflow/core/platform/cpu_feature_guard.cc:151] This TensorFlow binary is optimized with oneAPI Deep Neural Network Library (oneDNN) to use the following CPU instructions in performance-critical operations:  AVX2 AVX512F FMA\n",
      "To enable them in other operations, rebuild TensorFlow with the appropriate compiler flags.\n",
      "2022-04-15 17:42:14.893928: W tensorflow/core/framework/cpu_allocator_impl.cc:82] Allocation of 411041792 exceeds 10% of free system memory.\n",
      "2022-04-15 17:42:15.488117: W tensorflow/core/framework/cpu_allocator_impl.cc:82] Allocation of 411041792 exceeds 10% of free system memory.\n",
      "2022-04-15 17:42:15.767310: W tensorflow/core/framework/cpu_allocator_impl.cc:82] Allocation of 411041792 exceeds 10% of free system memory.\n",
      "2022-04-15 17:42:16.392027: W tensorflow/core/framework/cpu_allocator_impl.cc:82] Allocation of 67108864 exceeds 10% of free system memory.\n",
      "2022-04-15 17:42:16.491598: W tensorflow/core/framework/cpu_allocator_impl.cc:82] Allocation of 67108864 exceeds 10% of free system memory.\n"
     ]
    },
    {
     "name": "stdout",
     "output_type": "stream",
     "text": [
      "Downloading data from https://storage.googleapis.com/tensorflow/keras-applications/vgg16/vgg16_weights_tf_dim_ordering_tf_kernels.h5\n",
      "  1540096/553467096 [..............................] - ETA: 1:11:18"
     ]
    },
    {
     "ename": "KeyboardInterrupt",
     "evalue": "",
     "output_type": "error",
     "traceback": [
      "\u001b[0;31m---------------------------------------------------------------------------\u001b[0m",
      "\u001b[0;31mKeyboardInterrupt\u001b[0m                         Traceback (most recent call last)",
      "\u001b[1;32m/home/y/Documents/code/pythondl/5_9.ipynb Cell 2'\u001b[0m in \u001b[0;36m<cell line: 3>\u001b[0;34m()\u001b[0m\n\u001b[1;32m      <a href='vscode-notebook-cell:/home/y/Documents/code/pythondl/5_9.ipynb#ch0000003?line=0'>1</a>\u001b[0m \u001b[39mfrom\u001b[39;00m \u001b[39mkeras\u001b[39;00m\u001b[39m.\u001b[39;00m\u001b[39mapplications\u001b[39;00m \u001b[39mimport\u001b[39;00m vgg16\n\u001b[1;32m      <a href='vscode-notebook-cell:/home/y/Documents/code/pythondl/5_9.ipynb#ch0000003?line=1'>2</a>\u001b[0m \u001b[39mfrom\u001b[39;00m \u001b[39mkeras\u001b[39;00m\u001b[39m.\u001b[39;00m\u001b[39mpreprocessing\u001b[39;00m \u001b[39mimport\u001b[39;00m image\n\u001b[0;32m----> <a href='vscode-notebook-cell:/home/y/Documents/code/pythondl/5_9.ipynb#ch0000003?line=2'>3</a>\u001b[0m model \u001b[39m=\u001b[39m vgg16\u001b[39m.\u001b[39;49mVGG16(weights\u001b[39m=\u001b[39;49m\u001b[39m'\u001b[39;49m\u001b[39mimagenet\u001b[39;49m\u001b[39m'\u001b[39;49m)\n",
      "File \u001b[0;32m~/.conda/envs/pytorch/lib/python3.8/site-packages/keras/applications/vgg16.py:212\u001b[0m, in \u001b[0;36mVGG16\u001b[0;34m(include_top, weights, input_tensor, input_shape, pooling, classes, classifier_activation)\u001b[0m\n\u001b[1;32m    <a href='file:///home/y/.conda/envs/pytorch/lib/python3.8/site-packages/keras/applications/vgg16.py?line=209'>210</a>\u001b[0m \u001b[39mif\u001b[39;00m weights \u001b[39m==\u001b[39m \u001b[39m'\u001b[39m\u001b[39mimagenet\u001b[39m\u001b[39m'\u001b[39m:\n\u001b[1;32m    <a href='file:///home/y/.conda/envs/pytorch/lib/python3.8/site-packages/keras/applications/vgg16.py?line=210'>211</a>\u001b[0m   \u001b[39mif\u001b[39;00m include_top:\n\u001b[0;32m--> <a href='file:///home/y/.conda/envs/pytorch/lib/python3.8/site-packages/keras/applications/vgg16.py?line=211'>212</a>\u001b[0m     weights_path \u001b[39m=\u001b[39m data_utils\u001b[39m.\u001b[39;49mget_file(\n\u001b[1;32m    <a href='file:///home/y/.conda/envs/pytorch/lib/python3.8/site-packages/keras/applications/vgg16.py?line=212'>213</a>\u001b[0m         \u001b[39m'\u001b[39;49m\u001b[39mvgg16_weights_tf_dim_ordering_tf_kernels.h5\u001b[39;49m\u001b[39m'\u001b[39;49m,\n\u001b[1;32m    <a href='file:///home/y/.conda/envs/pytorch/lib/python3.8/site-packages/keras/applications/vgg16.py?line=213'>214</a>\u001b[0m         WEIGHTS_PATH,\n\u001b[1;32m    <a href='file:///home/y/.conda/envs/pytorch/lib/python3.8/site-packages/keras/applications/vgg16.py?line=214'>215</a>\u001b[0m         cache_subdir\u001b[39m=\u001b[39;49m\u001b[39m'\u001b[39;49m\u001b[39mmodels\u001b[39;49m\u001b[39m'\u001b[39;49m,\n\u001b[1;32m    <a href='file:///home/y/.conda/envs/pytorch/lib/python3.8/site-packages/keras/applications/vgg16.py?line=215'>216</a>\u001b[0m         file_hash\u001b[39m=\u001b[39;49m\u001b[39m'\u001b[39;49m\u001b[39m64373286793e3c8b2b4e3219cbf3544b\u001b[39;49m\u001b[39m'\u001b[39;49m)\n\u001b[1;32m    <a href='file:///home/y/.conda/envs/pytorch/lib/python3.8/site-packages/keras/applications/vgg16.py?line=216'>217</a>\u001b[0m   \u001b[39melse\u001b[39;00m:\n\u001b[1;32m    <a href='file:///home/y/.conda/envs/pytorch/lib/python3.8/site-packages/keras/applications/vgg16.py?line=217'>218</a>\u001b[0m     weights_path \u001b[39m=\u001b[39m data_utils\u001b[39m.\u001b[39mget_file(\n\u001b[1;32m    <a href='file:///home/y/.conda/envs/pytorch/lib/python3.8/site-packages/keras/applications/vgg16.py?line=218'>219</a>\u001b[0m         \u001b[39m'\u001b[39m\u001b[39mvgg16_weights_tf_dim_ordering_tf_kernels_notop.h5\u001b[39m\u001b[39m'\u001b[39m,\n\u001b[1;32m    <a href='file:///home/y/.conda/envs/pytorch/lib/python3.8/site-packages/keras/applications/vgg16.py?line=219'>220</a>\u001b[0m         WEIGHTS_PATH_NO_TOP,\n\u001b[1;32m    <a href='file:///home/y/.conda/envs/pytorch/lib/python3.8/site-packages/keras/applications/vgg16.py?line=220'>221</a>\u001b[0m         cache_subdir\u001b[39m=\u001b[39m\u001b[39m'\u001b[39m\u001b[39mmodels\u001b[39m\u001b[39m'\u001b[39m,\n\u001b[1;32m    <a href='file:///home/y/.conda/envs/pytorch/lib/python3.8/site-packages/keras/applications/vgg16.py?line=221'>222</a>\u001b[0m         file_hash\u001b[39m=\u001b[39m\u001b[39m'\u001b[39m\u001b[39m6d6bbae143d832006294945121d1f1fc\u001b[39m\u001b[39m'\u001b[39m)\n",
      "File \u001b[0;32m~/.conda/envs/pytorch/lib/python3.8/site-packages/keras/utils/data_utils.py:277\u001b[0m, in \u001b[0;36mget_file\u001b[0;34m(fname, origin, untar, md5_hash, file_hash, cache_subdir, hash_algorithm, extract, archive_format, cache_dir)\u001b[0m\n\u001b[1;32m    <a href='file:///home/y/.conda/envs/pytorch/lib/python3.8/site-packages/keras/utils/data_utils.py?line=274'>275</a>\u001b[0m \u001b[39mtry\u001b[39;00m:\n\u001b[1;32m    <a href='file:///home/y/.conda/envs/pytorch/lib/python3.8/site-packages/keras/utils/data_utils.py?line=275'>276</a>\u001b[0m   \u001b[39mtry\u001b[39;00m:\n\u001b[0;32m--> <a href='file:///home/y/.conda/envs/pytorch/lib/python3.8/site-packages/keras/utils/data_utils.py?line=276'>277</a>\u001b[0m     urlretrieve(origin, fpath, dl_progress)\n\u001b[1;32m    <a href='file:///home/y/.conda/envs/pytorch/lib/python3.8/site-packages/keras/utils/data_utils.py?line=277'>278</a>\u001b[0m   \u001b[39mexcept\u001b[39;00m urllib\u001b[39m.\u001b[39merror\u001b[39m.\u001b[39mHTTPError \u001b[39mas\u001b[39;00m e:\n\u001b[1;32m    <a href='file:///home/y/.conda/envs/pytorch/lib/python3.8/site-packages/keras/utils/data_utils.py?line=278'>279</a>\u001b[0m     \u001b[39mraise\u001b[39;00m \u001b[39mException\u001b[39;00m(error_msg\u001b[39m.\u001b[39mformat(origin, e\u001b[39m.\u001b[39mcode, e\u001b[39m.\u001b[39mmsg))\n",
      "File \u001b[0;32m~/.conda/envs/pytorch/lib/python3.8/site-packages/keras/utils/data_utils.py:84\u001b[0m, in \u001b[0;36murlretrieve\u001b[0;34m(url, filename, reporthook, data)\u001b[0m\n\u001b[1;32m     <a href='file:///home/y/.conda/envs/pytorch/lib/python3.8/site-packages/keras/utils/data_utils.py?line=81'>82</a>\u001b[0m response \u001b[39m=\u001b[39m urlopen(url, data)\n\u001b[1;32m     <a href='file:///home/y/.conda/envs/pytorch/lib/python3.8/site-packages/keras/utils/data_utils.py?line=82'>83</a>\u001b[0m \u001b[39mwith\u001b[39;00m \u001b[39mopen\u001b[39m(filename, \u001b[39m'\u001b[39m\u001b[39mwb\u001b[39m\u001b[39m'\u001b[39m) \u001b[39mas\u001b[39;00m fd:\n\u001b[0;32m---> <a href='file:///home/y/.conda/envs/pytorch/lib/python3.8/site-packages/keras/utils/data_utils.py?line=83'>84</a>\u001b[0m   \u001b[39mfor\u001b[39;00m chunk \u001b[39min\u001b[39;00m chunk_read(response, reporthook\u001b[39m=\u001b[39mreporthook):\n\u001b[1;32m     <a href='file:///home/y/.conda/envs/pytorch/lib/python3.8/site-packages/keras/utils/data_utils.py?line=84'>85</a>\u001b[0m     fd\u001b[39m.\u001b[39mwrite(chunk)\n",
      "File \u001b[0;32m~/.conda/envs/pytorch/lib/python3.8/site-packages/keras/utils/data_utils.py:73\u001b[0m, in \u001b[0;36murlretrieve.<locals>.chunk_read\u001b[0;34m(response, chunk_size, reporthook)\u001b[0m\n\u001b[1;32m     <a href='file:///home/y/.conda/envs/pytorch/lib/python3.8/site-packages/keras/utils/data_utils.py?line=70'>71</a>\u001b[0m count \u001b[39m=\u001b[39m \u001b[39m0\u001b[39m\n\u001b[1;32m     <a href='file:///home/y/.conda/envs/pytorch/lib/python3.8/site-packages/keras/utils/data_utils.py?line=71'>72</a>\u001b[0m \u001b[39mwhile\u001b[39;00m \u001b[39mTrue\u001b[39;00m:\n\u001b[0;32m---> <a href='file:///home/y/.conda/envs/pytorch/lib/python3.8/site-packages/keras/utils/data_utils.py?line=72'>73</a>\u001b[0m   chunk \u001b[39m=\u001b[39m response\u001b[39m.\u001b[39;49mread(chunk_size)\n\u001b[1;32m     <a href='file:///home/y/.conda/envs/pytorch/lib/python3.8/site-packages/keras/utils/data_utils.py?line=73'>74</a>\u001b[0m   count \u001b[39m+\u001b[39m\u001b[39m=\u001b[39m \u001b[39m1\u001b[39m\n\u001b[1;32m     <a href='file:///home/y/.conda/envs/pytorch/lib/python3.8/site-packages/keras/utils/data_utils.py?line=74'>75</a>\u001b[0m   \u001b[39mif\u001b[39;00m reporthook \u001b[39mis\u001b[39;00m \u001b[39mnot\u001b[39;00m \u001b[39mNone\u001b[39;00m:\n",
      "File \u001b[0;32m~/.conda/envs/pytorch/lib/python3.8/http/client.py:459\u001b[0m, in \u001b[0;36mHTTPResponse.read\u001b[0;34m(self, amt)\u001b[0m\n\u001b[1;32m    <a href='file:///home/y/.conda/envs/pytorch/lib/python3.8/http/client.py?line=455'>456</a>\u001b[0m \u001b[39mif\u001b[39;00m amt \u001b[39mis\u001b[39;00m \u001b[39mnot\u001b[39;00m \u001b[39mNone\u001b[39;00m:\n\u001b[1;32m    <a href='file:///home/y/.conda/envs/pytorch/lib/python3.8/http/client.py?line=456'>457</a>\u001b[0m     \u001b[39m# Amount is given, implement using readinto\u001b[39;00m\n\u001b[1;32m    <a href='file:///home/y/.conda/envs/pytorch/lib/python3.8/http/client.py?line=457'>458</a>\u001b[0m     b \u001b[39m=\u001b[39m \u001b[39mbytearray\u001b[39m(amt)\n\u001b[0;32m--> <a href='file:///home/y/.conda/envs/pytorch/lib/python3.8/http/client.py?line=458'>459</a>\u001b[0m     n \u001b[39m=\u001b[39m \u001b[39mself\u001b[39;49m\u001b[39m.\u001b[39;49mreadinto(b)\n\u001b[1;32m    <a href='file:///home/y/.conda/envs/pytorch/lib/python3.8/http/client.py?line=459'>460</a>\u001b[0m     \u001b[39mreturn\u001b[39;00m \u001b[39mmemoryview\u001b[39m(b)[:n]\u001b[39m.\u001b[39mtobytes()\n\u001b[1;32m    <a href='file:///home/y/.conda/envs/pytorch/lib/python3.8/http/client.py?line=460'>461</a>\u001b[0m \u001b[39melse\u001b[39;00m:\n\u001b[1;32m    <a href='file:///home/y/.conda/envs/pytorch/lib/python3.8/http/client.py?line=461'>462</a>\u001b[0m     \u001b[39m# Amount is not given (unbounded read) so we must check self.length\u001b[39;00m\n\u001b[1;32m    <a href='file:///home/y/.conda/envs/pytorch/lib/python3.8/http/client.py?line=462'>463</a>\u001b[0m     \u001b[39m# and self.chunked\u001b[39;00m\n",
      "File \u001b[0;32m~/.conda/envs/pytorch/lib/python3.8/http/client.py:503\u001b[0m, in \u001b[0;36mHTTPResponse.readinto\u001b[0;34m(self, b)\u001b[0m\n\u001b[1;32m    <a href='file:///home/y/.conda/envs/pytorch/lib/python3.8/http/client.py?line=497'>498</a>\u001b[0m         b \u001b[39m=\u001b[39m \u001b[39mmemoryview\u001b[39m(b)[\u001b[39m0\u001b[39m:\u001b[39mself\u001b[39m\u001b[39m.\u001b[39mlength]\n\u001b[1;32m    <a href='file:///home/y/.conda/envs/pytorch/lib/python3.8/http/client.py?line=499'>500</a>\u001b[0m \u001b[39m# we do not use _safe_read() here because this may be a .will_close\u001b[39;00m\n\u001b[1;32m    <a href='file:///home/y/.conda/envs/pytorch/lib/python3.8/http/client.py?line=500'>501</a>\u001b[0m \u001b[39m# connection, and the user is reading more bytes than will be provided\u001b[39;00m\n\u001b[1;32m    <a href='file:///home/y/.conda/envs/pytorch/lib/python3.8/http/client.py?line=501'>502</a>\u001b[0m \u001b[39m# (for example, reading in 1k chunks)\u001b[39;00m\n\u001b[0;32m--> <a href='file:///home/y/.conda/envs/pytorch/lib/python3.8/http/client.py?line=502'>503</a>\u001b[0m n \u001b[39m=\u001b[39m \u001b[39mself\u001b[39;49m\u001b[39m.\u001b[39;49mfp\u001b[39m.\u001b[39;49mreadinto(b)\n\u001b[1;32m    <a href='file:///home/y/.conda/envs/pytorch/lib/python3.8/http/client.py?line=503'>504</a>\u001b[0m \u001b[39mif\u001b[39;00m \u001b[39mnot\u001b[39;00m n \u001b[39mand\u001b[39;00m b:\n\u001b[1;32m    <a href='file:///home/y/.conda/envs/pytorch/lib/python3.8/http/client.py?line=504'>505</a>\u001b[0m     \u001b[39m# Ideally, we would raise IncompleteRead if the content-length\u001b[39;00m\n\u001b[1;32m    <a href='file:///home/y/.conda/envs/pytorch/lib/python3.8/http/client.py?line=505'>506</a>\u001b[0m     \u001b[39m# wasn't satisfied, but it might break compatibility.\u001b[39;00m\n\u001b[1;32m    <a href='file:///home/y/.conda/envs/pytorch/lib/python3.8/http/client.py?line=506'>507</a>\u001b[0m     \u001b[39mself\u001b[39m\u001b[39m.\u001b[39m_close_conn()\n",
      "File \u001b[0;32m~/.conda/envs/pytorch/lib/python3.8/socket.py:669\u001b[0m, in \u001b[0;36mSocketIO.readinto\u001b[0;34m(self, b)\u001b[0m\n\u001b[1;32m    <a href='file:///home/y/.conda/envs/pytorch/lib/python3.8/socket.py?line=666'>667</a>\u001b[0m \u001b[39mwhile\u001b[39;00m \u001b[39mTrue\u001b[39;00m:\n\u001b[1;32m    <a href='file:///home/y/.conda/envs/pytorch/lib/python3.8/socket.py?line=667'>668</a>\u001b[0m     \u001b[39mtry\u001b[39;00m:\n\u001b[0;32m--> <a href='file:///home/y/.conda/envs/pytorch/lib/python3.8/socket.py?line=668'>669</a>\u001b[0m         \u001b[39mreturn\u001b[39;00m \u001b[39mself\u001b[39;49m\u001b[39m.\u001b[39;49m_sock\u001b[39m.\u001b[39;49mrecv_into(b)\n\u001b[1;32m    <a href='file:///home/y/.conda/envs/pytorch/lib/python3.8/socket.py?line=669'>670</a>\u001b[0m     \u001b[39mexcept\u001b[39;00m timeout:\n\u001b[1;32m    <a href='file:///home/y/.conda/envs/pytorch/lib/python3.8/socket.py?line=670'>671</a>\u001b[0m         \u001b[39mself\u001b[39m\u001b[39m.\u001b[39m_timeout_occurred \u001b[39m=\u001b[39m \u001b[39mTrue\u001b[39;00m\n",
      "File \u001b[0;32m~/.conda/envs/pytorch/lib/python3.8/ssl.py:1241\u001b[0m, in \u001b[0;36mSSLSocket.recv_into\u001b[0;34m(self, buffer, nbytes, flags)\u001b[0m\n\u001b[1;32m   <a href='file:///home/y/.conda/envs/pytorch/lib/python3.8/ssl.py?line=1236'>1237</a>\u001b[0m     \u001b[39mif\u001b[39;00m flags \u001b[39m!=\u001b[39m \u001b[39m0\u001b[39m:\n\u001b[1;32m   <a href='file:///home/y/.conda/envs/pytorch/lib/python3.8/ssl.py?line=1237'>1238</a>\u001b[0m         \u001b[39mraise\u001b[39;00m \u001b[39mValueError\u001b[39;00m(\n\u001b[1;32m   <a href='file:///home/y/.conda/envs/pytorch/lib/python3.8/ssl.py?line=1238'>1239</a>\u001b[0m           \u001b[39m\"\u001b[39m\u001b[39mnon-zero flags not allowed in calls to recv_into() on \u001b[39m\u001b[39m%s\u001b[39;00m\u001b[39m\"\u001b[39m \u001b[39m%\u001b[39m\n\u001b[1;32m   <a href='file:///home/y/.conda/envs/pytorch/lib/python3.8/ssl.py?line=1239'>1240</a>\u001b[0m           \u001b[39mself\u001b[39m\u001b[39m.\u001b[39m\u001b[39m__class__\u001b[39m)\n\u001b[0;32m-> <a href='file:///home/y/.conda/envs/pytorch/lib/python3.8/ssl.py?line=1240'>1241</a>\u001b[0m     \u001b[39mreturn\u001b[39;00m \u001b[39mself\u001b[39;49m\u001b[39m.\u001b[39;49mread(nbytes, buffer)\n\u001b[1;32m   <a href='file:///home/y/.conda/envs/pytorch/lib/python3.8/ssl.py?line=1241'>1242</a>\u001b[0m \u001b[39melse\u001b[39;00m:\n\u001b[1;32m   <a href='file:///home/y/.conda/envs/pytorch/lib/python3.8/ssl.py?line=1242'>1243</a>\u001b[0m     \u001b[39mreturn\u001b[39;00m \u001b[39msuper\u001b[39m()\u001b[39m.\u001b[39mrecv_into(buffer, nbytes, flags)\n",
      "File \u001b[0;32m~/.conda/envs/pytorch/lib/python3.8/ssl.py:1099\u001b[0m, in \u001b[0;36mSSLSocket.read\u001b[0;34m(self, len, buffer)\u001b[0m\n\u001b[1;32m   <a href='file:///home/y/.conda/envs/pytorch/lib/python3.8/ssl.py?line=1096'>1097</a>\u001b[0m \u001b[39mtry\u001b[39;00m:\n\u001b[1;32m   <a href='file:///home/y/.conda/envs/pytorch/lib/python3.8/ssl.py?line=1097'>1098</a>\u001b[0m     \u001b[39mif\u001b[39;00m buffer \u001b[39mis\u001b[39;00m \u001b[39mnot\u001b[39;00m \u001b[39mNone\u001b[39;00m:\n\u001b[0;32m-> <a href='file:///home/y/.conda/envs/pytorch/lib/python3.8/ssl.py?line=1098'>1099</a>\u001b[0m         \u001b[39mreturn\u001b[39;00m \u001b[39mself\u001b[39;49m\u001b[39m.\u001b[39;49m_sslobj\u001b[39m.\u001b[39;49mread(\u001b[39mlen\u001b[39;49m, buffer)\n\u001b[1;32m   <a href='file:///home/y/.conda/envs/pytorch/lib/python3.8/ssl.py?line=1099'>1100</a>\u001b[0m     \u001b[39melse\u001b[39;00m:\n\u001b[1;32m   <a href='file:///home/y/.conda/envs/pytorch/lib/python3.8/ssl.py?line=1100'>1101</a>\u001b[0m         \u001b[39mreturn\u001b[39;00m \u001b[39mself\u001b[39m\u001b[39m.\u001b[39m_sslobj\u001b[39m.\u001b[39mread(\u001b[39mlen\u001b[39m)\n",
      "\u001b[0;31mKeyboardInterrupt\u001b[0m: "
     ]
    }
   ],
   "source": [
    "from keras.applications import vgg16\n",
    "from keras.preprocessing import image\n",
    "model = vgg16.VGG16(weights='imagenet')"
   ]
  },
  {
   "cell_type": "code",
   "execution_count": null,
   "metadata": {},
   "outputs": [],
   "source": []
  }
 ],
 "metadata": {
  "interpreter": {
   "hash": "1021d31412234ebea20baf61e8fdbc8c22153a59dde70b52bcafccce89619e30"
  },
  "kernelspec": {
   "display_name": "Python 3.8.12 ('pytorch')",
   "language": "python",
   "name": "python3"
  },
  "language_info": {
   "codemirror_mode": {
    "name": "ipython",
    "version": 3
   },
   "file_extension": ".py",
   "mimetype": "text/x-python",
   "name": "python",
   "nbconvert_exporter": "python",
   "pygments_lexer": "ipython3",
   "version": "3.8.12"
  },
  "orig_nbformat": 4
 },
 "nbformat": 4,
 "nbformat_minor": 2
}
