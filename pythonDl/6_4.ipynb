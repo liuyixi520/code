{
 "cells": [
  {
   "cell_type": "markdown",
   "metadata": {},
   "source": [
    "# 循环神经网络\n",
    "- 这个网络要考虑数据以前的状态，把上一次的输出要作为本次的输入\n",
    "- 如果把上面这一点去掉的话，这个网络就会退化成一个MLP\n",
    "- 实际生产环境中，一般用GRU，LSTM替代RNN。由于RNN的梯度消失问题，一般在学术上才讨论RNN\n",
    "- 循环神经网络的伪代码\n",
    "```python\n",
    "# t时刻的状态\n",
    "state_t = 0\n",
    "# 遍历整个输入\n",
    "for input_t in input_sequence:\n",
    "    # 计算输出\n",
    "    output_t = activation(dot(W, input_t) + dot(U, state_t) + b)\n",
    "    # 更新状态\n",
    "    state_t = output_t\n",
    "```"
   ]
  },
  {
   "cell_type": "markdown",
   "metadata": {},
   "source": [
    "## 使用numpy实现循环神经网络"
   ]
  },
  {
   "cell_type": "code",
   "execution_count": 5,
   "metadata": {},
   "outputs": [
    {
     "name": "stdout",
     "output_type": "stream",
     "text": [
      "(6400,)\n"
     ]
    },
    {
     "data": {
      "text/plain": [
       "array([0.99999955, 1.        , 0.99999948, ..., 1.        , 1.        ,\n",
       "       1.        ])"
      ]
     },
     "execution_count": 5,
     "metadata": {},
     "output_type": "execute_result"
    }
   ],
   "source": [
    "# 简单RNN使用numpy实现\n",
    "import numpy as np\n",
    "timesteps = 100\n",
    "input_features = 32\n",
    "output_features = 64\n",
    "inputs = np.random.random((timesteps, input_features))\n",
    "state_t = np.zeros((output_features,))\n",
    "# state_t.shape\n",
    "W  = np.random.random((output_features, input_features))\n",
    "U  = np.random.random((output_features, output_features))\n",
    "b  = np.random.random((output_features,))\n",
    "successive_outputs = []\n",
    "for input_t in inputs:\n",
    "    output_t = np.tanh(np.dot(W, input_t) + np.dot(U, state_t) + b)\n",
    "    successive_outputs.append(output_t)\n",
    "    # 记录本次的输出，作为下一次的输入\n",
    "    state_t = output_t\n",
    "final_output_sequence = np.concatenate(successive_outputs, axis=0)\n",
    "print(final_output_sequence.shape)\n",
    "final_output_sequence"
   ]
  },
  {
   "cell_type": "markdown",
   "metadata": {},
   "source": [
    "# 使用keras实现循环神经网络\n",
    "- 与numpy简单的实现不同，keras可以批量处理数据，所有输入是一个3D张量: (batch_size, timesteps, input_dim)\n",
    "- 输出有两种方式可以选择，一种是输出每个时间步长的完整序列: (batch_size, timesteps, output_dim)；另一种是输出每个输入序列的输出: (batch_size, output_dim)"
   ]
  },
  {
   "cell_type": "code",
   "execution_count": 7,
   "metadata": {},
   "outputs": [
    {
     "name": "stdout",
     "output_type": "stream",
     "text": [
      "Model: \"sequential_2\"\n",
      "_________________________________________________________________\n",
      " Layer (type)                Output Shape              Param #   \n",
      "=================================================================\n",
      " embedding_2 (Embedding)     (None, None, 32)          320000    \n",
      "                                                                 \n",
      " simple_rnn_2 (SimpleRNN)    (None, 32)                2080      \n",
      "                                                                 \n",
      "=================================================================\n",
      "Total params: 322,080\n",
      "Trainable params: 322,080\n",
      "Non-trainable params: 0\n",
      "_________________________________________________________________\n",
      "--------------------------------------------------\n",
      "Model: \"sequential_3\"\n",
      "_________________________________________________________________\n",
      " Layer (type)                Output Shape              Param #   \n",
      "=================================================================\n",
      " embedding_3 (Embedding)     (None, None, 32)          320000    \n",
      "                                                                 \n",
      " simple_rnn_3 (SimpleRNN)    (None, None, 32)          2080      \n",
      "                                                                 \n",
      "=================================================================\n",
      "Total params: 322,080\n",
      "Trainable params: 322,080\n",
      "Non-trainable params: 0\n",
      "_________________________________________________________________\n"
     ]
    }
   ],
   "source": [
    "from keras.layers import Embedding, SimpleRNN\n",
    "from keras.models import Sequential\n",
    "# 每个时间步长的输出\n",
    "model_time = Sequential()\n",
    "model_time.add(Embedding(10000, 32))\n",
    "model_time.add(SimpleRNN(32))\n",
    "model_time.summary()\n",
    "print('-'*50)\n",
    "# 每个输入序列的输出\n",
    "model_all = Sequential()\n",
    "model_all.add(Embedding(10000, 32))\n",
    "# 注意这里用return_sequences=True来控制是否输出整个序列\n",
    "model_all.add(SimpleRNN(32, return_sequences=True))\n",
    "model_all.summary()"
   ]
  },
  {
   "cell_type": "markdown",
   "metadata": {},
   "source": [
    "# 在IMDB数据集上使用RNN\n",
    "- 在第三章中直接在imdb上使用CNN，将输入看成是10000个特征的无序数据得到的精度大致在88%左右\n",
    "- 在这个小型RNN中的精度只有85%，并没有表现的太好\n",
    "  - 一方面原因在于CNN看到的是10000个特征，而RNN只能看到一个500个特征\n",
    "  - 另一个方面SimpleRNN并不删除处理文本这种长序列，在长序列中，LSTM和GRN要比SimpleRNN更好"
   ]
  },
  {
   "cell_type": "code",
   "execution_count": 8,
   "metadata": {},
   "outputs": [
    {
     "name": "stdout",
     "output_type": "stream",
     "text": [
      "Model: \"sequential_4\"\n",
      "_________________________________________________________________\n",
      " Layer (type)                Output Shape              Param #   \n",
      "=================================================================\n",
      " embedding_4 (Embedding)     (None, None, 32)          320000    \n",
      "                                                                 \n",
      " simple_rnn_4 (SimpleRNN)    (None, None, 32)          2080      \n",
      "                                                                 \n",
      " simple_rnn_5 (SimpleRNN)    (None, None, 32)          2080      \n",
      "                                                                 \n",
      " simple_rnn_6 (SimpleRNN)    (None, None, 32)          2080      \n",
      "                                                                 \n",
      " simple_rnn_7 (SimpleRNN)    (None, 32)                2080      \n",
      "                                                                 \n",
      "=================================================================\n",
      "Total params: 328,320\n",
      "Trainable params: 328,320\n",
      "Non-trainable params: 0\n",
      "_________________________________________________________________\n"
     ]
    }
   ],
   "source": [
    "model_imdb = Sequential()\n",
    "model_imdb.add(Embedding(10000, 32))\n",
    "model_imdb.add(SimpleRNN(32, return_sequences=True))\n",
    "model_imdb.add(SimpleRNN(32, return_sequences=True))\n",
    "model_imdb.add(SimpleRNN(32, return_sequences=True))\n",
    "# 在最后一步输出整个输入序列即可，不在考虑时间的步长\n",
    "model_imdb.add(SimpleRNN(32))\n",
    "model_imdb.summary()"
   ]
  },
  {
   "cell_type": "code",
   "execution_count": 9,
   "metadata": {},
   "outputs": [
    {
     "name": "stdout",
     "output_type": "stream",
     "text": [
      "(25000, 500) (25000, 500)\n"
     ]
    }
   ],
   "source": [
    "from keras.datasets import imdb\n",
    "from keras.preprocessing import sequence\n",
    "\n",
    "max_features = 10000\n",
    "maxlen = 500\n",
    "batch_size = 32\n",
    "\n",
    "(input_train, y_train), (input_test, y_test) = imdb.load_data(num_words=max_features)\n",
    "# 原始的数据形状是(25000, )，需要转换成(25000, maxlen)\n",
    "input_train = sequence.pad_sequences(input_train, maxlen=maxlen)\n",
    "input_test = sequence.pad_sequences(input_test, maxlen=maxlen)\n",
    "print(input_train.shape, input_test.shape)"
   ]
  },
  {
   "cell_type": "code",
   "execution_count": 10,
   "metadata": {},
   "outputs": [
    {
     "name": "stdout",
     "output_type": "stream",
     "text": [
      "Epoch 1/10\n",
      "157/157 [==============================] - 40s 243ms/step - loss: 0.6391 - acc: 0.6176 - val_loss: 0.5539 - val_acc: 0.7222\n",
      "Epoch 2/10\n",
      "157/157 [==============================] - 37s 233ms/step - loss: 0.3913 - acc: 0.8349 - val_loss: 0.4164 - val_acc: 0.8030\n",
      "Epoch 3/10\n",
      "157/157 [==============================] - 36s 226ms/step - loss: 0.2849 - acc: 0.8862 - val_loss: 0.3634 - val_acc: 0.8384\n",
      "Epoch 4/10\n",
      "157/157 [==============================] - 39s 247ms/step - loss: 0.2376 - acc: 0.9071 - val_loss: 0.4006 - val_acc: 0.8256\n",
      "Epoch 5/10\n",
      "157/157 [==============================] - 40s 252ms/step - loss: 0.1854 - acc: 0.9316 - val_loss: 0.4731 - val_acc: 0.7840\n",
      "Epoch 6/10\n",
      "157/157 [==============================] - 37s 238ms/step - loss: 0.1340 - acc: 0.9523 - val_loss: 0.5408 - val_acc: 0.7698\n",
      "Epoch 7/10\n",
      "157/157 [==============================] - 44s 282ms/step - loss: 0.0926 - acc: 0.9689 - val_loss: 0.4928 - val_acc: 0.8510\n",
      "Epoch 8/10\n",
      "157/157 [==============================] - 37s 237ms/step - loss: 0.0639 - acc: 0.9793 - val_loss: 0.4726 - val_acc: 0.8532\n",
      "Epoch 9/10\n",
      "157/157 [==============================] - 38s 239ms/step - loss: 0.0536 - acc: 0.9826 - val_loss: 0.5305 - val_acc: 0.8442\n",
      "Epoch 10/10\n",
      "157/157 [==============================] - 36s 232ms/step - loss: 0.0345 - acc: 0.9893 - val_loss: 0.6121 - val_acc: 0.8148\n"
     ]
    }
   ],
   "source": [
    "# 训练模型\n",
    "from keras.layers import Dense\n",
    "model = Sequential()\n",
    "model.add(Embedding(max_features, 32))\n",
    "model.add(SimpleRNN(32))\n",
    "model.add(Dense(1, activation='sigmoid'))\n",
    "\n",
    "model.compile(optimizer='rmsprop', loss='binary_crossentropy', metrics=['acc'])\n",
    "history = model.fit(input_train, y_train, epochs=10, batch_size=128, validation_split=0.2)"
   ]
  },
  {
   "cell_type": "code",
   "execution_count": 11,
   "metadata": {},
   "outputs": [
    {
     "data": {
      "image/png": "[encoded data removed]",
      "text/plain": [
       "<Figure size 432x288 with 1 Axes>"
      ]
     },
     "metadata": {
      "needs_background": "light"
     },
     "output_type": "display_data"
    },
    {
     "data": {
      "image/png": "[encoded data removed]",
      "text/plain": [
       "<Figure size 432x288 with 1 Axes>"
      ]
     },
     "metadata": {
      "needs_background": "light"
     },
     "output_type": "display_data"
    }
   ],
   "source": [
    "# 绘制训练过程中的损失和准确率\n",
    "import matplotlib.pyplot as plt\n",
    "acc = history.history['acc']\n",
    "val_acc = history.history['val_acc']\n",
    "loss = history.history['loss']\n",
    "val_loss = history.history['val_loss']\n",
    "epochs = range(1, len(acc) + 1)\n",
    "plt.plot(epochs, acc, 'bo', label='Training acc')\n",
    "plt.plot(epochs, val_acc, 'b', label='Validation acc')\n",
    "plt.title('Training and validation accuracy')\n",
    "plt.legend()\n",
    "plt.figure()\n",
    "plt.plot(epochs, loss, 'bo', label='Training loss')\n",
    "plt.plot(epochs, val_loss, 'b', label='Validation loss')\n",
    "plt.title('Training and validation loss')\n",
    "plt.legend()\n",
    "plt.show()"
   ]
  },
  {
   "cell_type": "code",
   "execution_count": null,
   "metadata": {},
   "outputs": [],
   "source": []
  }
 ],
 "metadata": {
  "interpreter": {
   "hash": "1021d31412234ebea20baf61e8fdbc8c22153a59dde70b52bcafccce89619e30"
  },
  "kernelspec": {
   "display_name": "Python 3.8.12 ('pytorch')",
   "language": "python",
   "name": "python3"
  },
  "language_info": {
   "codemirror_mode": {
    "name": "ipython",
    "version": 3
   },
   "file_extension": ".py",
   "mimetype": "text/x-python",
   "name": "python",
   "nbconvert_exporter": "python",
   "pygments_lexer": "ipython3",
   "version": "3.8.12"
  },
  "orig_nbformat": 4
 },
 "nbformat": 4,
 "nbformat_minor": 2
}
