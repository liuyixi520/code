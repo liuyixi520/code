{
 "cells": [
  {
   "cell_type": "markdown",
   "metadata": {},
   "source": [
    "# 词嵌入Embedding\n",
    "有两种方式可以实现词嵌入：\n",
    "- 利用Eembedding层学习，实现词嵌入，这种学习方式和深度学习方式相似\n",
    "- 预训练的词向量，在深度学习之前，就将嵌入的词向量训练好，然后再用\n",
    "## 利用Embedding层学习\n",
    "- 将一个词映射到一个密集的向量空间中，这个向量空间是没有规律结构的\n",
    "- 这个新的向量空间是学习到了语义的，所以我们只知道近义词映射后在向量空间中的距离会比较近\n",
    "- Embedding层相当于一个字典，输入单词的索引，然后经过Embedding层，输出对应的向量\n",
    "- Embedding层输入的是一个2D张量(samples, sequence_length)，输出的是一个3D张量(samples, sequence_length, embedding_size)\n",
    "- Embedding层向手动实现one-hot一样，也关心两个超参数：max_length每个样本中的最大单词数，不够的用0填充，超出的截断; max_features是词汇表的大小\n",
    "## Embedding与one-hot相比\n",
    "- Embedding同one-hot相比：输出的都是一个3D张量。Embedding的形状是(samples, sequence_length, embedding_size)，one-hot的形状是(samples, sequence_length, max_features)\n",
    "- embdding是要通过学习得到的，最后和实际的label之间会有一定的信息偏差，本实验中仅用了前20个token得到的结果和实际语义相符70%。one-hot是不用通过学习的，直接是统计的结果\n",
    "- embdding是一个稠密的矩阵，最后一个维度的大小是embedding_size。one-hot是一个稀疏的矩阵，最后一个维度的大小是max_features"
   ]
  },
  {
   "cell_type": "code",
   "execution_count": 1,
   "metadata": {},
   "outputs": [
    {
     "name": "stderr",
     "output_type": "stream",
     "text": [
      "2022-04-16 14:06:22.884532: W tensorflow/stream_executor/platform/default/dso_loader.cc:64] Could not load dynamic library 'libcudart.so.11.0'; dlerror: libcudart.so.11.0: cannot open shared object file: No such file or directory\n",
      "2022-04-16 14:06:22.884580: I tensorflow/stream_executor/cuda/cudart_stub.cc:29] Ignore above cudart dlerror if you do not have a GPU set up on your machine.\n"
     ]
    },
    {
     "name": "stdout",
     "output_type": "stream",
     "text": [
      "(25000,)\n"
     ]
    }
   ],
   "source": [
    "from keras.layers import Embedding\n",
    "from keras.datasets import imdb\n",
    "from keras import preprocessing\n",
    "# 只关心影评的前20个token，出现频率最高的10000个token\n",
    "max_len, max_features = 20, 10000\n",
    "(x_train, y_train), (x_test, y_test) = imdb.load_data(num_words=max_features)\n",
    "print(x_train.shape)\n",
    "# 总共25000个影评，每个影评已转换成list\n",
    "# x_train"
   ]
  },
  {
   "cell_type": "code",
   "execution_count": 2,
   "metadata": {},
   "outputs": [
    {
     "name": "stdout",
     "output_type": "stream",
     "text": [
      "(25000, 20)\n"
     ]
    },
    {
     "data": {
      "text/plain": [
       "array([[  65,   16,   38, ...,   19,  178,   32],\n",
       "       [  23,    4, 1690, ...,   16,  145,   95],\n",
       "       [1352,   13,  191, ...,    7,  129,  113],\n",
       "       ...,\n",
       "       [  11, 1818, 7561, ...,    4, 3586,    2],\n",
       "       [  92,  401,  728, ...,   12,    9,   23],\n",
       "       [ 764,   40,    4, ...,  204,  131,    9]], dtype=int32)"
      ]
     },
     "execution_count": 2,
     "metadata": {},
     "output_type": "execute_result"
    }
   ],
   "source": [
    "x_train = preprocessing.sequence.pad_sequences(x_train, maxlen=max_len)\n",
    "x_test = preprocessing.sequence.pad_sequences(x_test, maxlen=max_len)\n",
    "# 将每个样本转换成一个长度为20的向量\n",
    "print(x_train.shape)\n",
    "x_train"
   ]
  },
  {
   "cell_type": "code",
   "execution_count": 3,
   "metadata": {},
   "outputs": [
    {
     "name": "stdout",
     "output_type": "stream",
     "text": [
      "Model: \"sequential\"\n",
      "_________________________________________________________________\n",
      " Layer (type)                Output Shape              Param #   \n",
      "=================================================================\n",
      " embedding (Embedding)       (None, 20, 8)             80000     \n",
      "                                                                 \n",
      " flatten (Flatten)           (None, 160)               0         \n",
      "                                                                 \n",
      " dense (Dense)               (None, 1)                 161       \n",
      "                                                                 \n",
      "=================================================================\n",
      "Total params: 80,161\n",
      "Trainable params: 80,161\n",
      "Non-trainable params: 0\n",
      "_________________________________________________________________\n"
     ]
    },
    {
     "name": "stderr",
     "output_type": "stream",
     "text": [
      "2022-04-16 14:06:40.162126: W tensorflow/stream_executor/platform/default/dso_loader.cc:64] Could not load dynamic library 'libcuda.so.1'; dlerror: libcuda.so.1: cannot open shared object file: No such file or directory\n",
      "2022-04-16 14:06:40.162201: W tensorflow/stream_executor/cuda/cuda_driver.cc:269] failed call to cuInit: UNKNOWN ERROR (303)\n",
      "2022-04-16 14:06:40.162242: I tensorflow/stream_executor/cuda/cuda_diagnostics.cc:156] kernel driver does not appear to be running on this host (yy): /proc/driver/nvidia/version does not exist\n",
      "2022-04-16 14:06:40.163862: I tensorflow/core/platform/cpu_feature_guard.cc:151] This TensorFlow binary is optimized with oneAPI Deep Neural Network Library (oneDNN) to use the following CPU instructions in performance-critical operations:  FMA\n",
      "To enable them in other operations, rebuild TensorFlow with the appropriate compiler flags.\n"
     ]
    },
    {
     "name": "stdout",
     "output_type": "stream",
     "text": [
      "Epoch 1/10\n",
      "625/625 [==============================] - 4s 4ms/step - loss: 0.6574 - acc: 0.6533 - val_loss: 0.5958 - val_acc: 0.7108\n",
      "Epoch 2/10\n",
      "625/625 [==============================] - 2s 4ms/step - loss: 0.5246 - acc: 0.7564 - val_loss: 0.5158 - val_acc: 0.7368\n",
      "Epoch 3/10\n",
      "625/625 [==============================] - 3s 4ms/step - loss: 0.4547 - acc: 0.7882 - val_loss: 0.4958 - val_acc: 0.7480\n",
      "Epoch 4/10\n",
      "625/625 [==============================] - 2s 4ms/step - loss: 0.4199 - acc: 0.8077 - val_loss: 0.4899 - val_acc: 0.7534\n",
      "Epoch 5/10\n",
      "625/625 [==============================] - 3s 4ms/step - loss: 0.3951 - acc: 0.8227 - val_loss: 0.4921 - val_acc: 0.7574\n",
      "Epoch 6/10\n",
      "625/625 [==============================] - 3s 5ms/step - loss: 0.3744 - acc: 0.8342 - val_loss: 0.4940 - val_acc: 0.7574\n",
      "Epoch 7/10\n",
      "625/625 [==============================] - 3s 4ms/step - loss: 0.3558 - acc: 0.8453 - val_loss: 0.4985 - val_acc: 0.7560\n",
      "Epoch 8/10\n",
      "625/625 [==============================] - 2s 4ms/step - loss: 0.3376 - acc: 0.8568 - val_loss: 0.5037 - val_acc: 0.7576\n",
      "Epoch 9/10\n",
      "625/625 [==============================] - 3s 4ms/step - loss: 0.3207 - acc: 0.8652 - val_loss: 0.5116 - val_acc: 0.7534\n",
      "Epoch 10/10\n",
      "625/625 [==============================] - 4s 6ms/step - loss: 0.3041 - acc: 0.8745 - val_loss: 0.5183 - val_acc: 0.7528\n"
     ]
    }
   ],
   "source": [
    "from keras.models import Sequential\n",
    "from keras.layers import Flatten, Dense, Embedding\n",
    "model = Sequential()\n",
    "# Embedding最后输出的形状是一个3D张量：(samples, maxlen, embedding_dim)\n",
    "# 同one-hot编码方式相比，最后一个维度不再是max_features，而是embedding_dim\n",
    "# 所以最后的输出被大大的压缩了\n",
    "model.add(Embedding(max_features, 8, input_length=max_len))\n",
    "model.add(Flatten())\n",
    "model.add(Dense(1, activation='sigmoid'))\n",
    "model.compile(optimizer='rmsprop', loss='binary_crossentropy', metrics=['acc'])\n",
    "model.summary()\n",
    "\n",
    "history = model.fit(x_train, y_train, epochs=10, batch_size=32, validation_split=0.2)"
   ]
  },
  {
   "cell_type": "code",
   "execution_count": 4,
   "metadata": {},
   "outputs": [
    {
     "data": {
      "text/plain": [
       "array([[0.16350755],\n",
       "       [0.8678318 ],\n",
       "       [0.58021647],\n",
       "       [0.72069895],\n",
       "       [0.9952805 ],\n",
       "       [0.03812778],\n",
       "       [0.60809636],\n",
       "       [0.21556327],\n",
       "       [0.22103658],\n",
       "       [0.70488   ]], dtype=float32)"
      ]
     },
     "execution_count": 4,
     "metadata": {},
     "output_type": "execute_result"
    }
   ],
   "source": [
    "model.predict(x_test[:10])"
   ]
  },
  {
   "cell_type": "code",
   "execution_count": null,
   "metadata": {},
   "outputs": [],
   "source": []
  }
 ],
 "metadata": {
  "interpreter": {
   "hash": "1021d31412234ebea20baf61e8fdbc8c22153a59dde70b52bcafccce89619e30"
  },
  "kernelspec": {
   "display_name": "Python 3.8.12 ('pytorch')",
   "language": "python",
   "name": "python3"
  },
  "language_info": {
   "codemirror_mode": {
    "name": "ipython",
    "version": 3
   },
   "file_extension": ".py",
   "mimetype": "text/x-python",
   "name": "python",
   "nbconvert_exporter": "python",
   "pygments_lexer": "ipython3",
   "version": "3.8.12"
  },
  "orig_nbformat": 4
 },
 "nbformat": 4,
 "nbformat_minor": 2
}
